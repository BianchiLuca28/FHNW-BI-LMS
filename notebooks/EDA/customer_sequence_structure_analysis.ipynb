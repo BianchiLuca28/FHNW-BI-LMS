{
 "cells": [
  {
   "cell_type": "code",
   "execution_count": null,
   "metadata": {},
   "outputs": [],
   "source": [
    "import pandas as pd\n",
    "import numpy as np"
   ]
  },
  {
   "cell_type": "code",
   "execution_count": null,
   "metadata": {},
   "outputs": [],
   "source": [
    "# Load original dataset\n",
    "file_path = \"../datasets/2024-08-01_LMS_data_2023.xlsx\"\n",
    "customer_df = pd.read_excel(file_path, 'customer')"
   ]
  },
  {
   "cell_type": "code",
   "execution_count": null,
   "metadata": {},
   "outputs": [],
   "source": [
    "# Basic Counts\n",
    "print(\"=== Basic Counts ===\")\n",
    "print(f\"Total customer records: {len(customer_df)}\")\n",
    "print(f\"Unique customer IDs: {customer_df['customer_id'].nunique()}\")\n",
    "print(f\"Unique sequence numbers: {customer_df['sequencenumber'].nunique()}\")\n",
    "print(f\"Unique structure numbers: {customer_df['structurenumber'].nunique()}\")"
   ]
  },
  {
   "cell_type": "code",
   "execution_count": null,
   "metadata": {},
   "outputs": [],
   "source": [
    "# Check for duplicate customer IDs\n",
    "duplicate_ids = customer_df[customer_df['customer_id'].duplicated()]\n",
    "print(f\"\\nDuplicate customer IDs: {len(duplicate_ids)}\")"
   ]
  },
  {
   "cell_type": "code",
   "execution_count": null,
   "metadata": {},
   "outputs": [],
   "source": [
    "# Analyze relationship between customer_id and sequencenumber\n",
    "customer_sequence_mapping = customer_df.groupby('customer_id')['sequencenumber'].nunique()\n",
    "sequence_customer_mapping = customer_df.groupby('sequencenumber')['customer_id'].nunique()\n",
    "\n",
    "print(\"\\n=== Customer ID to Sequence Number Relationship ===\")\n",
    "print(f\"Customers with multiple sequence numbers: {len(customer_sequence_mapping[customer_sequence_mapping > 1])}\")\n",
    "print(f\"Sequence numbers with multiple customer IDs: {len(sequence_customer_mapping[sequence_customer_mapping > 1])}\")\n"
   ]
  },
  {
   "cell_type": "code",
   "execution_count": null,
   "metadata": {},
   "outputs": [],
   "source": [
    "# Analyze master and sub relationships\n",
    "masters = customer_df[customer_df['sequencenumber'] == customer_df['structurenumber']]\n",
    "subs = customer_df[customer_df['sequencenumber'] != customer_df['structurenumber']]\n",
    "\n",
    "print(\"\\n=== Master/Sub Structure Analysis ===\")\n",
    "print(f\"Master customers: {len(masters)}\")\n",
    "print(f\"Sub companies: {len(subs)}\")\n"
   ]
  },
  {
   "cell_type": "code",
   "execution_count": null,
   "metadata": {},
   "outputs": [],
   "source": [
    "# Show example of hierarchy\n",
    "if len(subs) > 0:\n",
    "    sample_structure = subs['structurenumber'].iloc[0]\n",
    "    print(\"\\nExample of one hierarchy:\")\n",
    "    print(customer_df[customer_df['structurenumber'] == sample_structure]\\\n",
    "          [['customer_id', 'sequencenumber', 'structurenumber', 'segmentation']]\\\n",
    "          .sort_values('sequencenumber'))\n"
   ]
  },
  {
   "cell_type": "code",
   "execution_count": null,
   "metadata": {},
   "outputs": [],
   "source": [
    "# Check for NaN sequence numbers\n",
    "print(\"NaN sequence numbers:\")\n",
    "nan_sequences = customer_df[customer_df['sequencenumber'].isna()]\n",
    "print(f\"Number of NaN sequence numbers: {len(nan_sequences)}\")"
   ]
  },
  {
   "cell_type": "code",
   "execution_count": null,
   "metadata": {},
   "outputs": [],
   "source": [
    "# Check sequence numbers with multiple customer_ids\n",
    "duplicate_sequences = customer_df.groupby('sequencenumber')['customer_id'].agg(['count']).query('count > 1')\n",
    "print(\"\\nSequence numbers with multiple customer_ids:\")\n",
    "print(f\"Count: {len(duplicate_sequences)}\")\n",
    "print(\"\\nSample of sequence numbers with multiple customer_ids:\")\n",
    "print(duplicate_sequences.head())"
   ]
  },
  {
   "cell_type": "code",
   "execution_count": null,
   "metadata": {},
   "outputs": [],
   "source": [
    "# Analyze all cases of duplicate sequence numbers\n",
    "print(\"\\nDetailed analysis of all duplicate sequence numbers:\")\n",
    "duplicate_cases = pd.DataFrame()\n",
    "\n",
    "for seq_num in duplicate_sequences.index:\n",
    "    cases = customer_df[customer_df['sequencenumber'] == seq_num].sort_values('customer_id')\n",
    "    duplicate_cases = pd.concat([duplicate_cases, cases])\n",
    "\n",
    "print(\"\\nAll cases where sequence numbers are shared:\")\n",
    "print(duplicate_cases[['customer_id', 'sequencenumber', 'structurenumber', 'segmentation']].to_string())\n"
   ]
  },
  {
   "cell_type": "code",
   "execution_count": null,
   "metadata": {},
   "outputs": [],
   "source": [
    "# Check patterns in duplicate cases\n",
    "print(\"\\nPatterns in duplicate cases:\")\n",
    "print(\"1. Master/Sub company distribution:\")\n",
    "master_count = len(duplicate_cases[duplicate_cases['sequencenumber'] == duplicate_cases['structurenumber']])\n",
    "sub_count = len(duplicate_cases[duplicate_cases['sequencenumber'] != duplicate_cases['structurenumber']])\n",
    "print(f\"Master companies: {master_count}\")\n",
    "print(f\"Sub companies: {sub_count}\")\n",
    "\n",
    "print(\"\\n2. Segmentation distribution:\")\n",
    "print(duplicate_cases['segmentation'].value_counts().sort_index())\n",
    "\n",
    "print(\"\\n3. Check if structure numbers are also duplicated:\")\n",
    "structure_dupes = duplicate_cases.groupby('sequencenumber')['structurenumber'].nunique()\n",
    "print(\"Number of unique structure numbers per sequence number:\")\n",
    "print(structure_dupes.value_counts().sort_index())"
   ]
  },
  {
   "cell_type": "code",
   "execution_count": null,
   "metadata": {},
   "outputs": [],
   "source": [
    "def analyze_duplicate_sequence_impact(customer_df):\n",
    "    \"\"\"\n",
    "    Analyze the impact of dropping customers with duplicate sequence numbers\n",
    "    \"\"\"\n",
    "    # Identify customers with duplicate sequence numbers\n",
    "    sequence_counts = customer_df['sequencenumber'].value_counts()\n",
    "    duplicate_sequences = sequence_counts[sequence_counts > 1].index\n",
    "    \n",
    "    # Get all customers with duplicate sequence numbers\n",
    "    customers_to_drop = customer_df[customer_df['sequencenumber'].isin(duplicate_sequences)]\n",
    "    \n",
    "    print(\"=== Impact Analysis of Dropping Customers ===\\n\")\n",
    "    print(f\"Number of customers to potentially drop: {len(customers_to_drop)}\")\n",
    "    \n",
    "    # Check if any of these customers are masters for other customers\n",
    "    potential_masters = customers_to_drop['sequencenumber'].unique()\n",
    "    dependent_customers = customer_df[\n",
    "        (customer_df['structurenumber'].isin(potential_masters)) & \n",
    "        (~customer_df['customer_id'].isin(customers_to_drop['customer_id']))\n",
    "    ]\n",
    "    \n",
    "    print(\"\\nDependency Analysis:\")\n",
    "    print(f\"Number of dependent customers found: {len(dependent_customers)}\")\n",
    "    \n",
    "    if len(dependent_customers) > 0:\n",
    "        print(\"\\nDetailed Dependency Breakdown:\")\n",
    "        print(\"\\nMaster-Sub Relationships at Risk:\")\n",
    "        for master_seq in dependent_customers['structurenumber'].unique():\n",
    "            master = customers_to_drop[customers_to_drop['sequencenumber'] == master_seq]\n",
    "            dependents = dependent_customers[dependent_customers['structurenumber'] == master_seq]\n",
    "            \n",
    "            print(f\"\\nMaster Sequence Number: {master_seq}\")\n",
    "            print(f\"Number of dependent customers: {len(dependents)}\")\n",
    "            print(\"\\nMaster Details:\")\n",
    "            print(master[['customer_id', 'sequencenumber', 'structurenumber', 'segmentation']].to_string())\n",
    "            print(\"\\nDependent Customers:\")\n",
    "            print(dependents[['customer_id', 'sequencenumber', 'structurenumber', 'segmentation']].to_string())\n",
    "    \n",
    "    # Analyze the segmentation distribution of affected customers\n",
    "    print(\"\\nSegmentation Distribution of Customers to Drop:\")\n",
    "    print(customers_to_drop['segmentation'].value_counts().sort_index())\n",
    "    \n",
    "    # Check for any masters among the duplicates\n",
    "    masters_to_drop = customers_to_drop[\n",
    "        customers_to_drop['sequencenumber'] == customers_to_drop['structurenumber']\n",
    "    ]\n",
    "    print(f\"\\nNumber of master companies among duplicates: {len(masters_to_drop)}\")\n",
    "    \n",
    "    return {\n",
    "        'customers_to_drop': customers_to_drop,\n",
    "        'dependent_customers': dependent_customers,\n",
    "        'masters_to_drop': masters_to_drop\n",
    "    }\n",
    "\n",
    "# Run the analysis\n",
    "impact_analysis = analyze_duplicate_sequence_impact(customer_df)"
   ]
  }
 ],
 "metadata": {
  "kernelspec": {
   "display_name": "Python 3",
   "language": "python",
   "name": "python3"
  },
  "language_info": {
   "codemirror_mode": {
    "name": "ipython",
    "version": 3
   },
   "file_extension": ".py",
   "mimetype": "text/x-python",
   "name": "python",
   "nbconvert_exporter": "python",
   "pygments_lexer": "ipython3",
   "version": "3.13.0"
  }
 },
 "nbformat": 4,
 "nbformat_minor": 2
}
