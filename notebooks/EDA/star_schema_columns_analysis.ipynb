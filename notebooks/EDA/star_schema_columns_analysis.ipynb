{
 "cells": [
  {
   "cell_type": "code",
   "execution_count": null,
   "metadata": {},
   "outputs": [],
   "source": [
    "import pandas as pd"
   ]
  },
  {
   "cell_type": "code",
   "execution_count": null,
   "metadata": {},
   "outputs": [],
   "source": [
    "excel_file = '../datasets/star_schema_dataset.xlsx'\n",
    "\n",
    "# Read the fact and dimension tables into separate pandas DataFrames\n",
    "fact_shipment = pd.read_excel(excel_file, sheet_name='fact_shipment')\n",
    "dim_customer = pd.read_excel(excel_file, sheet_name='dim_customer')\n",
    "dim_delivery_address = pd.read_excel(excel_file, sheet_name='dim_delivery_address')\n",
    "dim_pickup_address = pd.read_excel(excel_file, sheet_name='dim_pickup_address')\n",
    "dim_date = pd.read_excel(excel_file, sheet_name='dim_date')\n",
    "dim_service = pd.read_excel(excel_file, sheet_name='dim_service')\n",
    "dim_carrier = pd.read_excel(excel_file, sheet_name='dim_carrier')\n",
    "dim_country = pd.read_excel(excel_file, sheet_name='dim_country')"
   ]
  },
  {
   "cell_type": "code",
   "execution_count": null,
   "metadata": {},
   "outputs": [],
   "source": [
    "# Print the shape of each DataFrame to verify the data\n",
    "print(\"Fact Shipment:\", fact_shipment.shape)\n",
    "print(\"Customer:\", dim_customer.shape)\n",
    "print(\"Delivery Address:\", dim_delivery_address.shape)\n",
    "print(\"Pickup Address:\", dim_pickup_address.shape)\n",
    "print(\"Date:\", dim_date.shape)\n",
    "print(\"Service:\", dim_service.shape)\n",
    "print(\"Carrier:\", dim_carrier.shape)\n",
    "print(\"Country:\", dim_country.shape)"
   ]
  },
  {
   "cell_type": "markdown",
   "metadata": {},
   "source": [
    "## Carrier Analysis"
   ]
  },
  {
   "cell_type": "code",
   "execution_count": null,
   "metadata": {},
   "outputs": [],
   "source": [
    "# Print the columns in the carrier dimension\n",
    "print(\"Columns in the carrier dimension:\")\n",
    "print(dim_carrier.columns)\n",
    "\n",
    "# Print the first 10 rows of the carrier dimension\n",
    "print(\"\\nFirst 10 rows of the carrier dimension:\")\n",
    "print(dim_carrier.head(10))\n",
    "\n",
    "# Print summary statistics for the carrier dimension\n",
    "print(\"\\nSummary statistics for the carrier dimension:\")\n",
    "print(dim_carrier.describe())"
   ]
  },
  {
   "cell_type": "code",
   "execution_count": null,
   "metadata": {},
   "outputs": [],
   "source": [
    "print(f\"Number of unique carriers: {dim_carrier['carrier_id'].nunique()}\")"
   ]
  },
  {
   "cell_type": "code",
   "execution_count": null,
   "metadata": {},
   "outputs": [],
   "source": [
    "# Analyze the distribution of carriers by domain\n",
    "print(\"\\nCarriers by Domain:\")\n",
    "carrier_by_domain = dim_carrier.groupby('domain_name')['carrier_id'].nunique().sort_values(ascending=False)\n",
    "print(carrier_by_domain)"
   ]
  },
  {
   "cell_type": "code",
   "execution_count": null,
   "metadata": {},
   "outputs": [],
   "source": [
    "# Visualize the top domains by number of carriers\n",
    "import matplotlib.pyplot as plt\n",
    "plt.figure(figsize=(12, 6))\n",
    "carrier_by_domain.head(10).plot(kind='bar')\n",
    "plt.title('Top Domains by Number of Carriers')\n",
    "plt.xlabel('Domain')\n",
    "plt.ylabel('Number of Carriers')\n",
    "plt.show()"
   ]
  },
  {
   "cell_type": "code",
   "execution_count": null,
   "metadata": {},
   "outputs": [],
   "source": [
    "# Check for carriers with the same name but different IDs\n",
    "duplicate_carriers = dim_carrier.groupby('name')['carrier_id'].nunique()\n",
    "duplicate_carriers = duplicate_carriers[duplicate_carriers > 1]\n",
    "\n",
    "if not duplicate_carriers.empty:\n",
    "    print(\"Carriers with the same name but different IDs:\")\n",
    "    print(duplicate_carriers)\n",
    "else:\n",
    "    print(\"No carriers with the same name but different IDs found.\")"
   ]
  },
  {
   "cell_type": "code",
   "execution_count": null,
   "metadata": {},
   "outputs": [],
   "source": [
    "# Check for carriers with the same name and domain but different IDs\n",
    "duplicate_carriers = dim_carrier.groupby(['name', 'domain_name'])['carrier_id'].nunique()\n",
    "duplicate_carriers = duplicate_carriers[duplicate_carriers > 1]\n",
    "\n",
    "if not duplicate_carriers.empty:\n",
    "    print(\"Carriers with the same name and domain but different IDs:\")\n",
    "    print(duplicate_carriers)\n",
    "else:\n",
    "    print(\"No carriers with the same name and domain but different IDs found.\")"
   ]
  },
  {
   "cell_type": "markdown",
   "metadata": {},
   "source": [
    "## Service analysis"
   ]
  },
  {
   "cell_type": "code",
   "execution_count": null,
   "metadata": {},
   "outputs": [],
   "source": [
    "# Print the columns in the service dimension\n",
    "print(\"Columns in the service dimension:\")\n",
    "print(dim_service.columns)\n",
    "\n",
    "# Print the first 10 rows of the service dimension\n",
    "print(\"\\nFirst 10 rows of the service dimension:\")\n",
    "print(dim_service.head(10))\n",
    "\n",
    "# Print summary statistics for the service dimension\n",
    "print(\"\\nSummary statistics for the service dimension:\")\n",
    "print(dim_service.describe())"
   ]
  },
  {
   "cell_type": "code",
   "execution_count": null,
   "metadata": {},
   "outputs": [],
   "source": [
    "# Check the number of unique services\n",
    "print(f\"Number of unique services: {dim_service['service_id'].nunique()}\")"
   ]
  },
  {
   "cell_type": "code",
   "execution_count": null,
   "metadata": {},
   "outputs": [],
   "source": [
    "# Analyze the distribution of service types and transport types\n",
    "print(\"\\nDistribution of Service Types:\")\n",
    "print(dim_service['service_type'].value_counts())\n",
    "\n",
    "print(\"\\nDistribution of Transport Types:\")\n",
    "print(dim_service['transport_type'].value_counts())"
   ]
  },
  {
   "cell_type": "code",
   "execution_count": null,
   "metadata": {},
   "outputs": [],
   "source": [
    "# Analyze the distribution of services by domain\n",
    "service_by_domain = dim_service.groupby('domain_name')['service_id'].nunique().sort_values(ascending=False)\n",
    "print(\"\\nServices by Domain:\")\n",
    "print(service_by_domain)"
   ]
  },
  {
   "cell_type": "code",
   "execution_count": null,
   "metadata": {},
   "outputs": [],
   "source": [
    "# Check if different service IDs have the same service name\n",
    "duplicate_service_names = dim_service.groupby('name')['service_id'].nunique()\n",
    "duplicate_service_names = duplicate_service_names[duplicate_service_names > 1]\n",
    "\n",
    "if not duplicate_service_names.empty:\n",
    "    print(\"Service names with multiple service IDs:\")\n",
    "    print(duplicate_service_names)\n",
    "else:\n",
    "    print(\"No service names with multiple service IDs found.\")"
   ]
  },
  {
   "cell_type": "code",
   "execution_count": null,
   "metadata": {},
   "outputs": [],
   "source": [
    "# Check for duplicate columns in dim_service (excluding service_id and created_date)\n",
    "duplicate_columns = dim_service.loc[:, ~dim_service.columns.isin(['service_id', 'created_date'])].columns[dim_service.loc[:, ~dim_service.columns.isin(['service_id', 'created_date'])].columns.duplicated()]\n",
    "\n",
    "if len(duplicate_columns) > 0:\n",
    "    print(\"Duplicate columns in dim_service (excluding service_id and created_date):\")\n",
    "    print(duplicate_columns)\n",
    "else:\n",
    "    print(\"No duplicate columns found in dim_service (excluding service_id and created_date).\")"
   ]
  },
  {
   "cell_type": "markdown",
   "metadata": {},
   "source": [
    "## Customer Analysis"
   ]
  },
  {
   "cell_type": "code",
   "execution_count": null,
   "metadata": {},
   "outputs": [],
   "source": [
    "# Print the columns in the customer dimension\n",
    "print(\"Columns in the customer dimension:\")\n",
    "print(dim_customer.columns)\n",
    "\n",
    "# Print the summary statistics for the customer dimension\n",
    "print(\"\\nSummary statistics for the customer dimension:\")\n",
    "print(dim_customer.describe())"
   ]
  },
  {
   "cell_type": "code",
   "execution_count": null,
   "metadata": {},
   "outputs": [],
   "source": [
    "# Customer Count and Uniqueness\n",
    "print(f\"Number of unique customers: {dim_customer['customer_id'].nunique()}\")"
   ]
  },
  {
   "cell_type": "code",
   "execution_count": null,
   "metadata": {},
   "outputs": [],
   "source": [
    "# Customer Segmentation\n",
    "print(\"Customer Segment Distribution:\")\n",
    "print(dim_customer['segmentation'].value_counts())"
   ]
  },
  {
   "cell_type": "code",
   "execution_count": null,
   "metadata": {},
   "outputs": [],
   "source": [
    "# Customer Domain Distribution\n",
    "print(\"Customer Domain Distribution:\")\n",
    "print(dim_customer.groupby('domain_name')['customer_id'].count().sort_values(ascending=False))"
   ]
  },
  {
   "cell_type": "code",
   "execution_count": null,
   "metadata": {},
   "outputs": [],
   "source": [
    "# Customer Master Status\n",
    "print(\"Master vs. Sub-Customer Distribution:\")\n",
    "print(dim_customer['is_master'].value_counts())"
   ]
  }
 ],
 "metadata": {
  "kernelspec": {
   "display_name": "Python 3",
   "language": "python",
   "name": "python3"
  },
  "language_info": {
   "codemirror_mode": {
    "name": "ipython",
    "version": 3
   },
   "file_extension": ".py",
   "mimetype": "text/x-python",
   "name": "python",
   "nbconvert_exporter": "python",
   "pygments_lexer": "ipython3",
   "version": "3.13.0"
  }
 },
 "nbformat": 4,
 "nbformat_minor": 2
}
