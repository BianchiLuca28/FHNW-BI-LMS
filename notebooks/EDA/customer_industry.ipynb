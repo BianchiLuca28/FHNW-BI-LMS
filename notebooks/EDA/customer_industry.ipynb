{
 "cells": [
  {
   "cell_type": "code",
   "execution_count": 1,
   "metadata": {},
   "outputs": [],
   "source": [
    "import pandas as pd\n"
   ]
  },
  {
   "cell_type": "code",
   "execution_count": 2,
   "metadata": {},
   "outputs": [],
   "source": [
    "# Load the Excel file with the required sheets\n",
    "file_path = \"star_schema_dataset.xlsx\"  # Replace with your actual file path\n",
    "xls = pd.ExcelFile(file_path)"
   ]
  },
  {
   "cell_type": "code",
   "execution_count": 3,
   "metadata": {},
   "outputs": [],
   "source": [
    "# Load the necessary sheets\n",
    "shipment_df = xls.parse('fact_shipment')\n",
    "date_df = xls.parse('dim_date')"
   ]
  },
  {
   "cell_type": "code",
   "execution_count": 4,
   "metadata": {},
   "outputs": [
    {
     "name": "stdout",
     "output_type": "stream",
     "text": [
      "The following delivery_date_id values do not have a matching date_id in dim_date:\n",
      "    delivery_date_id\n",
      "14               NaN\n"
     ]
    }
   ],
   "source": [
    "# Check if all delivery_date_id values in fact_shipment are in dim_date['date_id']\n",
    "unmatched_ids = shipment_df[~shipment_df['delivery_date_id'].isin(date_df['date_id'])]\n",
    "\n",
    "# Output unmatched rows\n",
    "if unmatched_ids.empty:\n",
    "    print(\"All delivery_date_id values have matching date_id values in dim_date.\")\n",
    "else:\n",
    "    print(\"The following delivery_date_id values do not have a matching date_id in dim_date:\")\n",
    "    print(unmatched_ids[['delivery_date_id']].drop_duplicates())"
   ]
  },
  {
   "cell_type": "code",
   "execution_count": 7,
   "metadata": {},
   "outputs": [
    {
     "name": "stdout",
     "output_type": "stream",
     "text": [
      "There are 136474 unmatched delivery_date_id values in fact_shipment:\n",
      "    delivery_date_id\n",
      "14               NaN\n"
     ]
    }
   ],
   "source": [
    "# Perform a left join to check matching date entries in dim_date\n",
    "test_join = shipment_df.merge(date_df, left_on='delivery_date_id', right_on='date_id', how='left')\n",
    "\n",
    "# Check for all unmatched rows, including those with NaN or unmatched delivery_date_id values\n",
    "unmatched = test_join[test_join['date_id'].isnull()]\n",
    "\n",
    "if unmatched.empty:\n",
    "    print(\"Join successful: All delivery_date_id values matched a date_id in dim_date.\")\n",
    "else:\n",
    "    print(f\"There are {len(unmatched)} unmatched delivery_date_id values in fact_shipment:\")\n",
    "    print(unmatched[['delivery_date_id']].drop_duplicates())"
   ]
  },
  {
   "cell_type": "code",
   "execution_count": 8,
   "metadata": {},
   "outputs": [
    {
     "name": "stdout",
     "output_type": "stream",
     "text": [
      "There are 136474 rows in delivery_date_id with NaN values.\n"
     ]
    }
   ],
   "source": [
    "# Count the number of NaN values in the delivery_date_id column\n",
    "nan_count = shipment_df['delivery_date_id'].isna().sum()\n",
    "\n",
    "print(f\"There are {nan_count} rows in delivery_date_id with NaN values.\")"
   ]
  }
 ],
 "metadata": {
  "kernelspec": {
   "display_name": "Python 3",
   "language": "python",
   "name": "python3"
  },
  "language_info": {
   "codemirror_mode": {
    "name": "ipython",
    "version": 3
   },
   "file_extension": ".py",
   "mimetype": "text/x-python",
   "name": "python",
   "nbconvert_exporter": "python",
   "pygments_lexer": "ipython3",
   "version": "3.12.7"
  }
 },
 "nbformat": 4,
 "nbformat_minor": 2
}
