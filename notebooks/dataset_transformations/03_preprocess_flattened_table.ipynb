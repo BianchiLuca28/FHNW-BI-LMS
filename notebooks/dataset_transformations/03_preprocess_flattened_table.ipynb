{
 "cells": [
  {
   "cell_type": "markdown",
   "metadata": {},
   "source": [
    "In this notebook we preprocess the flattened dataset used for the model prediction; we mainly perform check on the values nad improve formatting of certain columns.\n",
    "\n",
    "For example, when a city has values \"Olten\" and \"oltEN\", we improve the formatting in order to have consistent naming."
   ]
  },
  {
   "cell_type": "markdown",
   "metadata": {},
   "source": [
    "### Libraries and dataset imports"
   ]
  },
  {
   "cell_type": "markdown",
   "metadata": {},
   "source": [
    "In this section we import the required dataset and libraries."
   ]
  },
  {
   "cell_type": "code",
   "execution_count": 80,
   "metadata": {},
   "outputs": [],
   "source": [
    "import pandas as pd\n",
    "import numpy as np\n",
    "import matplotlib.pyplot as plt\n",
    "import seaborn as sns"
   ]
  },
  {
   "cell_type": "code",
   "execution_count": 81,
   "metadata": {},
   "outputs": [
    {
     "name": "stderr",
     "output_type": "stream",
     "text": [
      "/tmp/ipykernel_137243/837169441.py:1: DtypeWarning: Columns (20) have mixed types. Specify dtype option on import or set low_memory=False.\n",
      "  df = pd.read_csv(\"../../../00-Project/datasets/flattened_dataset.csv\")\n"
     ]
    }
   ],
   "source": [
    "df = pd.read_csv(\"../../../00-Project/datasets/flattened_dataset.csv\")"
   ]
  },
  {
   "cell_type": "code",
   "execution_count": 82,
   "metadata": {},
   "outputs": [
    {
     "data": {
      "text/plain": [
       "Index(['shipment_id', 'customer_price', 'expected_carrier_price',\n",
       "       'final_carrier_price', 'weight', 'shipment_type', 'insurance_type',\n",
       "       'customer_id', 'domain_name', 'booking_state', 'lms_plus', 'exworks_id',\n",
       "       'margin', 'created_date_customer', 'domain_name_customer',\n",
       "       'main_industry_name_customer', 'industry_sector_name_customer',\n",
       "       'segmentation_customer', 'sequence_number_customer',\n",
       "       'structure_number_customer', 'is_master_customer',\n",
       "       'created_date_delivery', 'domain_name_delivery', 'postal_code_delivery',\n",
       "       'city_delivery', 'name_country_delivery', 'iso_country_code_delivery',\n",
       "       'continent_delivery', 'EU_delivery', 'created_date_pickup',\n",
       "       'domain_name_pickup', 'postal_code_pickup', 'city_pickup',\n",
       "       'name_country_pickup', 'iso_country_code_pickup', 'continent_pickup',\n",
       "       'EU_pickup', 'created_date_service', 'name_service', 'service_type',\n",
       "       'transport_type', 'domain_name_service', 'name_carrier',\n",
       "       'created_date_carrier', 'domain_name_carrier', 'full_date_created_date',\n",
       "       'year_created_date', 'month_created_date', 'quarter_created_date',\n",
       "       'full_date_pickup_date', 'year_pickup_date', 'month_pickup_date',\n",
       "       'quarter_pickup_date', 'full_date_delivery_date', 'year_delivery_date',\n",
       "       'month_delivery_date', 'quarter_delivery_date',\n",
       "       'full_date_real_pickup_date', 'year_real_pickup_date',\n",
       "       'month_real_pickup_date', 'quarter_real_pickup_date',\n",
       "       'full_date_real_delivery_date', 'year_real_delivery_date',\n",
       "       'month_real_delivery_date', 'quarter_real_delivery_date'],\n",
       "      dtype='object')"
      ]
     },
     "execution_count": 82,
     "metadata": {},
     "output_type": "execute_result"
    }
   ],
   "source": [
    "df.columns"
   ]
  },
  {
   "cell_type": "markdown",
   "metadata": {},
   "source": [
    "### Helpful functions created for use later"
   ]
  },
  {
   "cell_type": "markdown",
   "metadata": {},
   "source": [
    "In this section we store the function which we are going to use several times to perform checks and corrections."
   ]
  },
  {
   "cell_type": "markdown",
   "metadata": {},
   "source": [
    "We use this function in order to analyze the missing values of a given column"
   ]
  },
  {
   "cell_type": "code",
   "execution_count": 83,
   "metadata": {},
   "outputs": [],
   "source": [
    "def analyze_missing_values(df, column):\n",
    "    \"\"\"Analyze missing values in a column.\"\"\"\n",
    "    missing_count = df[column].isna().sum()\n",
    "    total_records = len(df)\n",
    "    missing_percentage = (missing_count / total_records) * 100\n",
    "    \n",
    "    print(f\"Total missing values: {missing_count}\")\n",
    "    print(f\"Missing percentage: {missing_percentage:.2f}%\")\n"
   ]
  },
  {
   "cell_type": "markdown",
   "metadata": {},
   "source": [
    "We use this function in order to analyze numeric columns for null values and decimal places"
   ]
  },
  {
   "cell_type": "code",
   "execution_count": 84,
   "metadata": {},
   "outputs": [],
   "source": [
    "def analyze_numeric_values(df, column):\n",
    "    \"\"\"Analyze numeric column values and decimal places.\"\"\"\n",
    "    print(f\"\\n=== {column} ===\")\n",
    "    print(f\"Data type: {df[column].dtype}\")\n",
    "    print(f\"Null values: {df[column].isnull().sum()}\")\n",
    "    \n",
    "    non_null_values = df[column].dropna()\n",
    "    decimal_places = (non_null_values % 1).apply(lambda x: len(str(x).split('.')[-1]) if x > 0 else 0)\n",
    "    print(\"\\nDecimal places distribution:\")\n",
    "    print(decimal_places.value_counts().sort_index())\n",
    "    \n",
    "    print(f\"\\nNegative values: {(non_null_values < 0).sum()}\")\n",
    "    print(f\"Zero values: {(non_null_values == 0).sum()}\")\n",
    "    print(f\"Infinite values: {np.isinf(non_null_values).sum()}\")\n"
   ]
  },
  {
   "cell_type": "markdown",
   "metadata": {},
   "source": [
    "We use this function to check for inconsistencies in text columns, for example if a column has both 'Olten' and 'olten' as distinct values."
   ]
  },
  {
   "cell_type": "code",
   "execution_count": 85,
   "metadata": {},
   "outputs": [],
   "source": [
    "def analyze_text_case_consistency(df, column, show_examples=5):\n",
    "    \"\"\"Analyze case consistency in text columns.\"\"\"\n",
    "    value_counts = df[column].value_counts()\n",
    "    value_lower = df[column].str.lower()\n",
    "    value_lower_counts = value_lower.value_counts()\n",
    "    \n",
    "    # Here we check the number distinct present values\n",
    "    print(f\"\\nValue counts - original: {len(value_counts)}\")\n",
    "    # Here we check the number distinct present values, but the values are transformed to lower case\n",
    "    print(f\"Value counts - lowercase: {len(value_lower_counts)}\")\n",
    "    \n",
    "    # If the values have different length, it means that some formatting inconsistencies are present\n",
    "    if len(value_counts) != len(value_lower_counts):\n",
    "        print(\"\\nCase inconsistencies found:\")\n",
    "        count = 0\n",
    "        for value in value_lower_counts.index:\n",
    "            if count >= show_examples:\n",
    "                break\n",
    "            mask = df[column].str.lower() == value\n",
    "            variants = df.loc[mask, column].unique()\n",
    "            if len(variants) > 1:\n",
    "                print(f\"\\nVariants for '{value}':\")\n",
    "                print(variants)\n",
    "                count += 1\n"
   ]
  },
  {
   "cell_type": "markdown",
   "metadata": {},
   "source": [
    "We use this function specifically for postal codes, for computing constraints, and we check for insconsistencies such as 'as 543 bs' and 'AS 543 BS' as distinct values."
   ]
  },
  {
   "cell_type": "code",
   "execution_count": 86,
   "metadata": {},
   "outputs": [],
   "source": [
    "def analyze_postal_code(df, column):\n",
    "    \"\"\"Analyze postal code formatting.\"\"\"\n",
    "    \n",
    "    # First we filter for postal codes that contain letters\n",
    "    postal_mask = df[column].str.contains('[A-Za-z]', na=False)\n",
    "    postal_with_letters = df.loc[postal_mask, column]\n",
    "    \n",
    "    # Then we get the value counts of the original values and the ones turned to lowercase\n",
    "    postal_counts = postal_with_letters.value_counts()\n",
    "    postal_lower = postal_with_letters.str.lower()\n",
    "    postal_lower_counts = postal_lower.value_counts()\n",
    "    \n",
    "    print(f\"Postal codes with letters - original count: {len(postal_counts)}\")\n",
    "    print(f\"Postal codes with letters - lowercase count: {len(postal_lower_counts)}\")\n",
    "    \n",
    "    # If there are case inconsistencies, we print them\n",
    "    if len(postal_counts) != len(postal_lower_counts):\n",
    "        print(\"\\nCase inconsistencies found:\")\n",
    "        count = 0\n",
    "        for code in postal_lower_counts.index:\n",
    "            if count >= 5:  # We print only the first 5 examples\n",
    "                break\n",
    "            variants = postal_with_letters[postal_with_letters.str.lower() == code].unique()\n",
    "            if len(variants) > 1:\n",
    "                print(f\"\\nVariants for '{code}':\")\n",
    "                print(variants)\n",
    "                count += 1"
   ]
  },
  {
   "cell_type": "markdown",
   "metadata": {},
   "source": [
    "We use this function to standardize the postal code format when it's inconsistent."
   ]
  },
  {
   "cell_type": "code",
   "execution_count": 87,
   "metadata": {},
   "outputs": [],
   "source": [
    "def standardize_postal_code(x):\n",
    "    \"\"\"Standardize postal code format.\"\"\"\n",
    "    return x.upper() if isinstance(x, str) and any(c.isalpha() for c in x) else x\n"
   ]
  },
  {
   "cell_type": "markdown",
   "metadata": {},
   "source": [
    "## Price analysis"
   ]
  },
  {
   "cell_type": "markdown",
   "metadata": {},
   "source": [
    "### Price analysis"
   ]
  },
  {
   "cell_type": "markdown",
   "metadata": {},
   "source": [
    "### Margin features analysis"
   ]
  },
  {
   "cell_type": "markdown",
   "metadata": {},
   "source": [
    "Negative margin could mean that they had to do some refunds"
   ]
  },
  {
   "cell_type": "code",
   "execution_count": 88,
   "metadata": {},
   "outputs": [
    {
     "name": "stdout",
     "output_type": "stream",
     "text": [
      "\n",
      "Margin Analysis:\n",
      "count    682635.000000\n",
      "mean         17.934646\n",
      "std          49.953570\n",
      "min       -1848.390000\n",
      "25%           1.790000\n",
      "50%           5.780000\n",
      "75%          16.730000\n",
      "max        4070.000000\n",
      "Name: margin, dtype: float64\n",
      "\n",
      "Null values: 28823\n"
     ]
    }
   ],
   "source": [
    "stats = df['margin'].describe()\n",
    "nulls = df['margin'].isna().sum()\n",
    "\n",
    "print(\"\\nMargin Analysis:\")\n",
    "print(stats)\n",
    "print(f\"\\nNull values: {nulls}\")"
   ]
  },
  {
   "cell_type": "markdown",
   "metadata": {},
   "source": [
    "Here we can view different decimal places, we should investigate that more"
   ]
  },
  {
   "cell_type": "code",
   "execution_count": 89,
   "metadata": {},
   "outputs": [
    {
     "name": "stdout",
     "output_type": "stream",
     "text": [
      "\n",
      "=== customer_price ===\n",
      "Data type: float64\n",
      "Null values: 0\n",
      "\n",
      "Decimal places distribution:\n",
      "customer_price\n",
      "0      44897\n",
      "1       6753\n",
      "2      18528\n",
      "13        41\n",
      "14       214\n",
      "15     28348\n",
      "16    407005\n",
      "17    187307\n",
      "18     18365\n",
      "Name: count, dtype: int64\n",
      "\n",
      "Negative values: 14\n",
      "Zero values: 31559\n",
      "Infinite values: 0\n",
      "\n",
      "=== expected_carrier_price ===\n",
      "Data type: float64\n",
      "Null values: 0\n",
      "\n",
      "Decimal places distribution:\n",
      "expected_carrier_price\n",
      "0      45541\n",
      "1      19992\n",
      "2      16484\n",
      "13        23\n",
      "14       125\n",
      "15     21572\n",
      "16    406321\n",
      "17    182984\n",
      "18     18416\n",
      "Name: count, dtype: int64\n",
      "\n",
      "Negative values: 27\n",
      "Zero values: 31507\n",
      "Infinite values: 0\n",
      "\n",
      "=== final_carrier_price ===\n",
      "Data type: float64\n",
      "Null values: 140156\n",
      "\n",
      "Decimal places distribution:\n",
      "final_carrier_price\n",
      "0      18647\n",
      "1      17590\n",
      "2      16741\n",
      "13        10\n",
      "14        75\n",
      "15     17567\n",
      "16    334079\n",
      "17    148954\n",
      "18     17639\n",
      "Name: count, dtype: int64\n",
      "\n",
      "Negative values: 80\n",
      "Zero values: 11468\n",
      "Infinite values: 0\n"
     ]
    }
   ],
   "source": [
    "price_columns = ['customer_price', 'expected_carrier_price', 'final_carrier_price']\n",
    "\n",
    "for col in price_columns:\n",
    "    analyze_numeric_values(df, col)"
   ]
  },
  {
   "cell_type": "markdown",
   "metadata": {},
   "source": [
    "Here we can see that rounding doesn't change anything, so these decimals are just python artifacts"
   ]
  },
  {
   "cell_type": "code",
   "execution_count": 90,
   "metadata": {},
   "outputs": [
    {
     "name": "stdout",
     "output_type": "stream",
     "text": [
      "\n",
      "customer_price:\n",
      "Values changed by rounding to 2 decimals: 0\n",
      "\n",
      "expected_carrier_price:\n",
      "Values changed by rounding to 2 decimals: 0\n",
      "\n",
      "final_carrier_price:\n",
      "Values changed by rounding to 2 decimals: 140156\n",
      "Sample of changed values:\n",
      "Original vs Rounded:\n",
      "    Original  Rounded\n",
      "6        NaN      NaN\n",
      "27       NaN      NaN\n",
      "29       NaN      NaN\n",
      "31       NaN      NaN\n",
      "44       NaN      NaN\n"
     ]
    }
   ],
   "source": [
    "for col in ['customer_price', 'expected_carrier_price', 'final_carrier_price']:\n",
    "    orig = df[col]\n",
    "    rounded = df[col].round(2)\n",
    "    differences = (orig != rounded).sum()\n",
    "    print(f\"\\n{col}:\")\n",
    "    print(f\"Values changed by rounding to 2 decimals: {differences}\")\n",
    "    \n",
    "    if differences > 0:\n",
    "        print(\"Sample of changed values:\")\n",
    "        changed_mask = (orig != rounded)\n",
    "        print(\"Original vs Rounded:\")\n",
    "        comp_df = pd.DataFrame({\n",
    "            'Original': orig[changed_mask].head(),\n",
    "            'Rounded': rounded[changed_mask].head()\n",
    "        })\n",
    "        print(comp_df)"
   ]
  },
  {
   "cell_type": "markdown",
   "metadata": {},
   "source": [
    "## Shipment details analysis"
   ]
  },
  {
   "cell_type": "markdown",
   "metadata": {},
   "source": [
    "### Weight analysis"
   ]
  },
  {
   "cell_type": "markdown",
   "metadata": {},
   "source": [
    "We can see that weight doesn't show any particular issues"
   ]
  },
  {
   "cell_type": "code",
   "execution_count": 91,
   "metadata": {},
   "outputs": [
    {
     "name": "stdout",
     "output_type": "stream",
     "text": [
      "=== Weight Analysis ===\n",
      "Data type: float64\n",
      "Null values: 280\n",
      "\n",
      "Decimal places distribution:\n",
      "weight\n",
      "0     298129\n",
      "1     208773\n",
      "2      51303\n",
      "14         6\n",
      "15      1677\n",
      "16     97837\n",
      "17     48367\n",
      "18      5086\n",
      "Name: count, dtype: int64\n",
      "\n",
      "Negative values: 0\n",
      "Zero values: 1\n",
      "Infinite values: 0\n",
      "\n",
      "Sample weights with different decimal places:\n",
      "\n",
      "1 decimal places:\n",
      "0     1.5\n",
      "5     1.5\n",
      "6     0.8\n",
      "16    0.5\n",
      "18    0.5\n",
      "Name: weight, dtype: object\n",
      "\n",
      "0 decimal places:\n",
      "1    18\n",
      "2     6\n",
      "3    18\n",
      "4     8\n",
      "7    20\n",
      "Name: weight, dtype: object\n",
      "\n",
      "17 decimal places:\n",
      "8       3.20000000000000018\n",
      "10    807.10000000000002274\n",
      "33     51.20000000000000284\n",
      "42      1.19999999999999996\n",
      "49      5.40000000000000036\n",
      "Name: weight, dtype: object\n",
      "\n",
      "18 decimal places:\n",
      "9      30.019999999999999574\n",
      "140     1.050000000000000044\n",
      "313     1.030000000000000027\n",
      "720     2.029999999999999805\n",
      "963     1.010000000000000009\n",
      "Name: weight, dtype: object\n",
      "\n",
      "16 decimal places:\n",
      "21     2.8500000000000001\n",
      "29    26.4800000000000004\n",
      "31    26.4800000000000004\n",
      "51    22.3999999999999986\n",
      "56    35.5200000000000031\n",
      "Name: weight, dtype: object\n",
      "\n",
      "2 decimal places:\n",
      "25     0.16\n",
      "58     0.45\n",
      "97     0.59\n",
      "104    0.15\n",
      "129    0.88\n",
      "Name: weight, dtype: object\n",
      "\n",
      "15 decimal places:\n",
      "78       29.120000000000001\n",
      "322     178.710000000000008\n",
      "1012    108.480000000000004\n",
      "1232     36.740000000000002\n",
      "1401     21.870000000000001\n",
      "Name: weight, dtype: object\n",
      "\n",
      "14 decimal places:\n",
      "257709    530.42999999999995\n",
      "346410    670.32000000000005\n",
      "401163    579.32000000000005\n",
      "409677    785.32000000000005\n",
      "444954    515.82000000000005\n",
      "Name: weight, dtype: object\n"
     ]
    }
   ],
   "source": [
    "print(\"=== Weight Analysis ===\")\n",
    "print(f\"Data type: {df['weight'].dtype}\")\n",
    "print(f\"Null values: {df['weight'].isnull().sum()}\")\n",
    "\n",
    "# We check decimal places\n",
    "non_null_weights = df['weight'].dropna()\n",
    "decimal_places = (non_null_weights % 1).apply(lambda x: len(str(x).split('.')[-1]) if x > 0 else 0)\n",
    "print(\"\\nDecimal places distribution:\")\n",
    "print(decimal_places.value_counts().sort_index())\n",
    "\n",
    "# We check for data issues\n",
    "print(f\"\\nNegative values: {(non_null_weights < 0).sum()}\")\n",
    "print(f\"Zero values: {(non_null_weights == 0).sum()}\")\n",
    "print(f\"Infinite values: {np.isinf(non_null_weights).sum()}\")\n",
    "\n",
    "# We print some sample weights across different decimal places\n",
    "print(\"\\nSample weights with different decimal places:\")\n",
    "for dec in decimal_places.unique():\n",
    "   sample_mask = (decimal_places == dec)\n",
    "   if sample_mask.any():\n",
    "       print(f\"\\n{dec} decimal places:\")\n",
    "       print(non_null_weights[sample_mask].head().apply(lambda x: f\"{x:.{dec}f}\"))"
   ]
  },
  {
   "cell_type": "markdown",
   "metadata": {},
   "source": [
    "The distribution doesn't show any signs that should be investigated more"
   ]
  },
  {
   "cell_type": "code",
   "execution_count": 92,
   "metadata": {},
   "outputs": [
    {
     "data": {
      "image/png": "[encoded data removed]",
      "text/plain": [
       "<Figure size 1000x600 with 1 Axes>"
      ]
     },
     "metadata": {},
     "output_type": "display_data"
    }
   ],
   "source": [
    "plt.figure(figsize=(10, 6))\n",
    "sns.histplot(data=df[df['weight'] <= 100], x='weight', bins=50)\n",
    "plt.title('Weight Distribution (0-100 kg)')\n",
    "plt.xlabel('Weight (kg)')\n",
    "plt.ylabel('Count')\n",
    "plt.show()"
   ]
  },
  {
   "cell_type": "markdown",
   "metadata": {},
   "source": [
    "### Shipment type analysis"
   ]
  },
  {
   "cell_type": "markdown",
   "metadata": {},
   "source": [
    "The elements of shipment type don't have any formatting problems"
   ]
  },
  {
   "cell_type": "code",
   "execution_count": 93,
   "metadata": {},
   "outputs": [
    {
     "name": "stdout",
     "output_type": "stream",
     "text": [
      "\n",
      "Unique shipment types and counts:\n",
      "shipment_type\n",
      "Parcel      647069\n",
      "Document     64109\n",
      "Name: count, dtype: int64\n"
     ]
    }
   ],
   "source": [
    "shipment_types = df['shipment_type'].value_counts()\n",
    "print(\"\\nUnique shipment types and counts:\")\n",
    "print(shipment_types)"
   ]
  },
  {
   "cell_type": "markdown",
   "metadata": {},
   "source": [
    "### Insurance type analysis"
   ]
  },
  {
   "cell_type": "markdown",
   "metadata": {},
   "source": [
    "The elements of insurance type don't have any formattign problems"
   ]
  },
  {
   "cell_type": "code",
   "execution_count": 94,
   "metadata": {},
   "outputs": [
    {
     "name": "stdout",
     "output_type": "stream",
     "text": [
      "\n",
      "Unique insurance types and counts:\n",
      "insurance_type\n",
      "No_Insurance         659729\n",
      "Premium_Insurance     34486\n",
      "Basic_Insurance       16963\n",
      "Name: count, dtype: int64\n"
     ]
    }
   ],
   "source": [
    "insurance_types = df['insurance_type'].value_counts()\n",
    "print(\"\\nUnique insurance types and counts:\")\n",
    "print(insurance_types)"
   ]
  },
  {
   "cell_type": "markdown",
   "metadata": {},
   "source": [
    "### Booking state analysis"
   ]
  },
  {
   "cell_type": "markdown",
   "metadata": {},
   "source": [
    "The elements are as described in the documentation"
   ]
  },
  {
   "cell_type": "code",
   "execution_count": 95,
   "metadata": {},
   "outputs": [
    {
     "name": "stdout",
     "output_type": "stream",
     "text": [
      "\n",
      "Unique insurance types and counts:\n",
      "booking_state\n",
      "12    682608\n",
      "19     28681\n",
      "16       113\n",
      "10        18\n",
      "14        17\n",
      "13         9\n",
      "7          5\n",
      "11         4\n",
      "15         2\n",
      "18         1\n",
      "Name: count, dtype: int64\n"
     ]
    }
   ],
   "source": [
    "booking_states = df['booking_state'].value_counts()\n",
    "print(\"\\nUnique insurance types and counts:\")\n",
    "print(booking_states)"
   ]
  },
  {
   "cell_type": "markdown",
   "metadata": {},
   "source": [
    "## Customer Analysis"
   ]
  },
  {
   "cell_type": "markdown",
   "metadata": {},
   "source": [
    "### lms plus analysis"
   ]
  },
  {
   "cell_type": "code",
   "execution_count": 96,
   "metadata": {},
   "outputs": [
    {
     "name": "stdout",
     "output_type": "stream",
     "text": [
      "Total missing values: 280\n",
      "Missing percentage: 0.04%\n"
     ]
    }
   ],
   "source": [
    "analyze_missing_values(df, 'lms_plus')"
   ]
  },
  {
   "cell_type": "markdown",
   "metadata": {},
   "source": [
    "The values are consistent."
   ]
  },
  {
   "cell_type": "code",
   "execution_count": 97,
   "metadata": {},
   "outputs": [
    {
     "data": {
      "text/plain": [
       "array([ 0.,  1., nan])"
      ]
     },
     "execution_count": 97,
     "metadata": {},
     "output_type": "execute_result"
    }
   ],
   "source": [
    "df['lms_plus'].unique()"
   ]
  },
  {
   "cell_type": "markdown",
   "metadata": {},
   "source": [
    "### Is Master analysis"
   ]
  },
  {
   "cell_type": "code",
   "execution_count": 98,
   "metadata": {},
   "outputs": [
    {
     "name": "stdout",
     "output_type": "stream",
     "text": [
      "Total missing values: 280\n",
      "Missing percentage: 0.04%\n"
     ]
    }
   ],
   "source": [
    "analyze_missing_values(df, 'is_master_customer')"
   ]
  },
  {
   "cell_type": "markdown",
   "metadata": {},
   "source": [
    "The boolean consistency is respected."
   ]
  },
  {
   "cell_type": "code",
   "execution_count": 99,
   "metadata": {},
   "outputs": [
    {
     "data": {
      "text/plain": [
       "array([True, False, nan], dtype=object)"
      ]
     },
     "execution_count": 99,
     "metadata": {},
     "output_type": "execute_result"
    }
   ],
   "source": [
    "df['is_master_customer'].unique()"
   ]
  },
  {
   "cell_type": "markdown",
   "metadata": {},
   "source": [
    "### Segmentation analysis"
   ]
  },
  {
   "cell_type": "markdown",
   "metadata": {},
   "source": [
    "High number of null values across some features can be a common pattern"
   ]
  },
  {
   "cell_type": "code",
   "execution_count": 100,
   "metadata": {},
   "outputs": [
    {
     "name": "stdout",
     "output_type": "stream",
     "text": [
      "\n",
      "Segmentation Analysis:\n",
      "[ 0. nan  2.  6.  3.  5.  1.  4.]\n",
      "\n",
      "Null values: 116856\n"
     ]
    }
   ],
   "source": [
    "stats = df['segmentation_customer'].unique()\n",
    "nulls = df['segmentation_customer'].isna().sum()\n",
    "\n",
    "print(\"\\nSegmentation Analysis:\")\n",
    "print(stats)\n",
    "print(f\"\\nNull values: {nulls}\")"
   ]
  },
  {
   "cell_type": "markdown",
   "metadata": {},
   "source": [
    "### Main industry name analysis"
   ]
  },
  {
   "cell_type": "markdown",
   "metadata": {},
   "source": [
    "A third of the industry are not present"
   ]
  },
  {
   "cell_type": "code",
   "execution_count": 101,
   "metadata": {},
   "outputs": [
    {
     "name": "stdout",
     "output_type": "stream",
     "text": [
      "Total missing values: 222510\n",
      "Missing percentage: 31.28%\n"
     ]
    }
   ],
   "source": [
    "analyze_missing_values(df, 'main_industry_name_customer')"
   ]
  },
  {
   "cell_type": "markdown",
   "metadata": {},
   "source": [
    "Here we verify the case correctness of the industry name, by counting the values as they are, then putting them to lower case and comparing them to see if we can spot differences. \n",
    "There aren't."
   ]
  },
  {
   "cell_type": "code",
   "execution_count": 102,
   "metadata": {},
   "outputs": [
    {
     "name": "stdout",
     "output_type": "stream",
     "text": [
      "\n",
      "Value counts - original: 368\n",
      "Value counts - lowercase: 368\n"
     ]
    }
   ],
   "source": [
    "analyze_text_case_consistency(df, 'main_industry_name_customer')"
   ]
  },
  {
   "cell_type": "markdown",
   "metadata": {},
   "source": [
    "### Sector name analysis"
   ]
  },
  {
   "cell_type": "markdown",
   "metadata": {},
   "source": [
    "The same number of values as for the industry name are missing, which makes sense since they are tied together.\n",
    "\n",
    "Total missing values: 222510"
   ]
  },
  {
   "cell_type": "code",
   "execution_count": 103,
   "metadata": {},
   "outputs": [
    {
     "name": "stdout",
     "output_type": "stream",
     "text": [
      "Total missing values: 222510\n",
      "Missing percentage: 31.28%\n"
     ]
    }
   ],
   "source": [
    "analyze_missing_values(df, 'industry_sector_name_customer')"
   ]
  },
  {
   "cell_type": "markdown",
   "metadata": {},
   "source": [
    "Here we find no formatting issues."
   ]
  },
  {
   "cell_type": "code",
   "execution_count": 104,
   "metadata": {},
   "outputs": [
    {
     "name": "stdout",
     "output_type": "stream",
     "text": [
      "\n",
      "Value counts - original: 19\n",
      "Value counts - lowercase: 19\n"
     ]
    }
   ],
   "source": [
    "analyze_text_case_consistency(df, 'industry_sector_name_customer')"
   ]
  },
  {
   "cell_type": "markdown",
   "metadata": {},
   "source": [
    "## Geographic analysis"
   ]
  },
  {
   "cell_type": "markdown",
   "metadata": {},
   "source": [
    "### Delivery postal code analysis"
   ]
  },
  {
   "cell_type": "markdown",
   "metadata": {},
   "source": [
    "A much lower percentage of missing values across the dataset."
   ]
  },
  {
   "cell_type": "code",
   "execution_count": 105,
   "metadata": {},
   "outputs": [
    {
     "name": "stdout",
     "output_type": "stream",
     "text": [
      "Total missing values: 16080\n",
      "Missing percentage: 2.26%\n"
     ]
    }
   ],
   "source": [
    "analyze_missing_values(df, 'postal_code_delivery')"
   ]
  },
  {
   "cell_type": "markdown",
   "metadata": {},
   "source": [
    "There are case inconsistencies among postal codes:<br>\n",
    "Postal codes with letters - original count: 13433<br>\n",
    "Postal codes with letters - lowercase count: 13402"
   ]
  },
  {
   "cell_type": "code",
   "execution_count": 106,
   "metadata": {},
   "outputs": [
    {
     "name": "stdout",
     "output_type": "stream",
     "text": [
      "Postal codes with letters - original count: 13433\n",
      "Postal codes with letters - lowercase count: 13402\n",
      "\n",
      "Case inconsistencies found:\n",
      "\n",
      "Variants for 'ch65 3en':\n",
      "['CH65 3EN' 'ch65 3en']\n",
      "\n",
      "Variants for 'n9y 2e5':\n",
      "['n9y 2e5' 'N9Y 2E5']\n",
      "\n",
      "Variants for 'ng156dw':\n",
      "['NG156DW' 'ng156dw']\n",
      "\n",
      "Variants for 'j2s 8l2':\n",
      "['J2S 8L2' 'j2s 8l2']\n",
      "\n",
      "Variants for 'n2r 1h8':\n",
      "['N2R 1H8' 'n2r 1h8']\n"
     ]
    }
   ],
   "source": [
    "analyze_postal_code(df, 'postal_code_delivery')"
   ]
  },
  {
   "cell_type": "markdown",
   "metadata": {},
   "source": [
    "This way we handle the inconsistencies."
   ]
  },
  {
   "cell_type": "code",
   "execution_count": 107,
   "metadata": {},
   "outputs": [],
   "source": [
    "df['postal_code_delivery'] = df['postal_code_delivery'].apply(standardize_postal_code)"
   ]
  },
  {
   "cell_type": "markdown",
   "metadata": {},
   "source": [
    "### Delivery city analysis"
   ]
  },
  {
   "cell_type": "markdown",
   "metadata": {},
   "source": [
    "A low numer of missing values are present in the delivery city: 281."
   ]
  },
  {
   "cell_type": "code",
   "execution_count": 108,
   "metadata": {},
   "outputs": [
    {
     "name": "stdout",
     "output_type": "stream",
     "text": [
      "Total missing values: 281\n",
      "Missing percentage: 0.04%\n"
     ]
    }
   ],
   "source": [
    "analyze_missing_values(df, 'city_delivery')"
   ]
  },
  {
   "cell_type": "markdown",
   "metadata": {},
   "source": [
    "Lots of cities with inconsistencies in the case formatting:<br>\n",
    "City counts - original: 74294<br>\n",
    "City counts - lowercase: 62859"
   ]
  },
  {
   "cell_type": "code",
   "execution_count": 109,
   "metadata": {},
   "outputs": [
    {
     "name": "stdout",
     "output_type": "stream",
     "text": [
      "\n",
      "Value counts - original: 74294\n",
      "Value counts - lowercase: 62859\n",
      "\n",
      "Case inconsistencies found:\n",
      "\n",
      "Variants for 'hamburg':\n",
      "['Hamburg' 'HAMBURG' 'hamburg' 'HAmburg' 'hAMBURG']\n",
      "\n",
      "Variants for 'berlin':\n",
      "['Berlin' 'BERLIN' 'berlin' 'bERLIN']\n",
      "\n",
      "Variants for 'münchen':\n",
      "['München' 'MÜNCHEN' 'münchen']\n",
      "\n",
      "Variants for 'köln':\n",
      "['Köln' 'köln' 'KÖLN' 'kÖLN']\n",
      "\n",
      "Variants for 'bremen':\n",
      "['Bremen' 'BREMEN' 'bremen']\n"
     ]
    }
   ],
   "source": [
    "analyze_text_case_consistency(df, 'city_delivery')"
   ]
  },
  {
   "cell_type": "code",
   "execution_count": 110,
   "metadata": {},
   "outputs": [],
   "source": [
    "# We standardize the city format\n",
    "df['city_delivery'] = df['city_delivery'].str.lower().str.title()"
   ]
  },
  {
   "cell_type": "markdown",
   "metadata": {},
   "source": [
    "###  Delivery country name analysis"
   ]
  },
  {
   "cell_type": "markdown",
   "metadata": {},
   "source": [
    "Percetange wise, we still have a low amount of missing values, but it's highger than in the pickup city column: 30872 vs 281."
   ]
  },
  {
   "cell_type": "code",
   "execution_count": 111,
   "metadata": {},
   "outputs": [
    {
     "name": "stdout",
     "output_type": "stream",
     "text": [
      "Total missing values: 30872\n",
      "Missing percentage: 4.34%\n"
     ]
    }
   ],
   "source": [
    "analyze_missing_values(df, 'name_country_delivery')"
   ]
  },
  {
   "cell_type": "markdown",
   "metadata": {},
   "source": [
    "No inconsistencies."
   ]
  },
  {
   "cell_type": "code",
   "execution_count": 112,
   "metadata": {},
   "outputs": [
    {
     "name": "stdout",
     "output_type": "stream",
     "text": [
      "\n",
      "Value counts - original: 176\n",
      "Value counts - lowercase: 176\n"
     ]
    }
   ],
   "source": [
    "analyze_text_case_consistency(df, 'name_country_delivery')\n"
   ]
  },
  {
   "cell_type": "code",
   "execution_count": 113,
   "metadata": {},
   "outputs": [
    {
     "name": "stdout",
     "output_type": "stream",
     "text": [
      "\n",
      "First 5 name_pickup values:\n",
      "0    Germany\n",
      "1    Germany\n",
      "2    Germany\n",
      "3    Germany\n",
      "4    Germany\n",
      "Name: name_country_delivery, dtype: object\n"
     ]
    }
   ],
   "source": [
    "print(\"\\nFirst 5 name_pickup values:\")\n",
    "print(df['name_country_delivery'].head())"
   ]
  },
  {
   "cell_type": "markdown",
   "metadata": {},
   "source": [
    "### Iso country code delivery analysis"
   ]
  },
  {
   "cell_type": "markdown",
   "metadata": {},
   "source": [
    "The missing values are round the same as in the delivery country column."
   ]
  },
  {
   "cell_type": "code",
   "execution_count": 114,
   "metadata": {},
   "outputs": [
    {
     "name": "stdout",
     "output_type": "stream",
     "text": [
      "Total missing values: 30894\n",
      "Missing percentage: 4.34%\n"
     ]
    }
   ],
   "source": [
    "analyze_missing_values(df, 'iso_country_code_delivery')"
   ]
  },
  {
   "cell_type": "code",
   "execution_count": 115,
   "metadata": {},
   "outputs": [
    {
     "data": {
      "text/plain": [
       "0    DE\n",
       "1    DE\n",
       "2    DE\n",
       "3    DE\n",
       "4    DE\n",
       "Name: iso_country_code_delivery, dtype: object"
      ]
     },
     "execution_count": 115,
     "metadata": {},
     "output_type": "execute_result"
    }
   ],
   "source": [
    "df[\"iso_country_code_delivery\"].head()"
   ]
  },
  {
   "cell_type": "code",
   "execution_count": 116,
   "metadata": {},
   "outputs": [
    {
     "data": {
      "text/plain": [
       "array(['DE', 'CN', 'CZ', nan, 'NL', 'MX', 'PL', 'CO', 'GB', 'MY', 'MG',\n",
       "       'SG', 'AE', 'IT', 'SE', 'PT', 'AT', 'CH', 'LT', 'JO', 'LU', 'EC',\n",
       "       'BE', 'OM', 'AU', 'IN', 'HK', 'KR', 'NG', 'GH', 'RO', 'HR', 'ID',\n",
       "       'ES', 'GR', 'JP', 'SI', 'FR', 'LV', 'DK', 'NZ', 'KZ', 'PA', 'HU',\n",
       "       'IL', 'PK', 'LK', 'CA', 'CI', 'IE', 'IC', 'MT', 'FI', 'SK', 'BG',\n",
       "       'RS', 'AO', 'QA', 'CL', 'SA', 'EG', 'BR', 'BD', 'NO', 'DZ', 'PE',\n",
       "       'BB', 'CY', 'AG', 'EE', 'MD', 'BH', 'HN', 'IS', 'BJ', 'DO', 'MA',\n",
       "       'LB', 'AR', 'AL', 'BF', 'AM', 'AZ', 'BA', 'JM', 'PH', 'LC', 'MV',\n",
       "       'BI', 'GN', 'GP', 'KW', 'KV', 'MU', 'GF', 'SC', 'MM', 'MR', 'KE',\n",
       "       'SV', 'RE', 'MK', 'PY', 'MZ', 'IQ', 'CR', 'FJ', 'IM', 'BO', 'MO',\n",
       "       'CV', 'GE', 'SN', 'LI', 'CM', 'ME', 'ET', 'KH', 'NI', 'PR', 'KG',\n",
       "       'LY', 'GT', 'NC', 'HT', 'PF', 'BW', 'MW', 'MN', 'MQ', 'TG', 'AI',\n",
       "       'BS', 'GI', 'MC', 'SL', 'FO', 'NP', 'CG', 'NE', 'ML', 'KY', 'SR',\n",
       "       'DM', 'AW', 'SD', 'ER', 'GW', 'SM', 'BN', 'AF', 'GM', 'GY', 'LA',\n",
       "       'GA', 'GG', 'DJ', 'AD', 'GD', 'RW', 'CU', 'CD', 'CF', 'JE', 'PG',\n",
       "       'GL', 'BM', 'BZ', 'TC', 'TD', 'LR', 'BT', 'GU', 'KN', 'GQ', 'PW'],\n",
       "      dtype=object)"
      ]
     },
     "execution_count": 116,
     "metadata": {},
     "output_type": "execute_result"
    }
   ],
   "source": [
    "df['iso_country_code_delivery'].unique()"
   ]
  },
  {
   "cell_type": "markdown",
   "metadata": {},
   "source": [
    "We find no inconsistencies."
   ]
  },
  {
   "cell_type": "code",
   "execution_count": 117,
   "metadata": {},
   "outputs": [
    {
     "name": "stdout",
     "output_type": "stream",
     "text": [
      "\n",
      "Value counts - original: 175\n",
      "Value counts - lowercase: 175\n"
     ]
    }
   ],
   "source": [
    "analyze_text_case_consistency(df, 'iso_country_code_delivery')"
   ]
  },
  {
   "cell_type": "markdown",
   "metadata": {},
   "source": [
    "### Delivery continent analysis"
   ]
  },
  {
   "cell_type": "markdown",
   "metadata": {},
   "source": [
    "There is a minimal change in the number of missing values with respect to the iso country code: 30872 vs 30894."
   ]
  },
  {
   "cell_type": "code",
   "execution_count": 118,
   "metadata": {},
   "outputs": [
    {
     "name": "stdout",
     "output_type": "stream",
     "text": [
      "Total missing values: 30872\n",
      "Missing percentage: 4.34%\n"
     ]
    }
   ],
   "source": [
    "analyze_missing_values(df, 'continent_delivery')"
   ]
  },
  {
   "cell_type": "markdown",
   "metadata": {},
   "source": [
    "The format is respected across the unique values."
   ]
  },
  {
   "cell_type": "code",
   "execution_count": 119,
   "metadata": {},
   "outputs": [
    {
     "name": "stdout",
     "output_type": "stream",
     "text": [
      "['Europe' 'Asia' nan 'America' 'Africa' 'Australia']\n"
     ]
    }
   ],
   "source": [
    "print(df['continent_delivery'].unique())"
   ]
  },
  {
   "cell_type": "markdown",
   "metadata": {},
   "source": [
    "### EU delivery analysis"
   ]
  },
  {
   "cell_type": "markdown",
   "metadata": {},
   "source": [
    "The same number of missing values an in the delivery continent."
   ]
  },
  {
   "cell_type": "code",
   "execution_count": 120,
   "metadata": {},
   "outputs": [
    {
     "name": "stdout",
     "output_type": "stream",
     "text": [
      "Total missing values: 30872\n",
      "Missing percentage: 4.34%\n"
     ]
    }
   ],
   "source": [
    "analyze_missing_values(df, 'EU_delivery')"
   ]
  },
  {
   "cell_type": "markdown",
   "metadata": {},
   "source": [
    "It's boolean."
   ]
  },
  {
   "cell_type": "code",
   "execution_count": 121,
   "metadata": {},
   "outputs": [
    {
     "name": "stdout",
     "output_type": "stream",
     "text": [
      "[ 1.  0. nan]\n"
     ]
    }
   ],
   "source": [
    "print(df['EU_delivery'].unique())"
   ]
  },
  {
   "cell_type": "markdown",
   "metadata": {},
   "source": [
    "### Postal code pickup analysis"
   ]
  },
  {
   "cell_type": "markdown",
   "metadata": {},
   "source": [
    "There a sizeable difference between missing values in the postal code pickup and postal code delivery: 1569 vs 16080."
   ]
  },
  {
   "cell_type": "code",
   "execution_count": 122,
   "metadata": {},
   "outputs": [
    {
     "name": "stdout",
     "output_type": "stream",
     "text": [
      "Total missing values: 1569\n",
      "Missing percentage: 0.22%\n"
     ]
    }
   ],
   "source": [
    "analyze_missing_values(df, 'postal_code_pickup')"
   ]
  },
  {
   "cell_type": "code",
   "execution_count": 123,
   "metadata": {},
   "outputs": [
    {
     "name": "stdout",
     "output_type": "stream",
     "text": [
      "Postal codes with letters - original count: 1391\n",
      "Postal codes with letters - lowercase count: 1389\n",
      "\n",
      "Case inconsistencies found:\n",
      "\n",
      "Variants for 'ct14 6at':\n",
      "['ct14 6at' 'CT14 6AT']\n",
      "\n",
      "Variants for 's60 1bx':\n",
      "['s60 1bx' 'S60 1BX']\n"
     ]
    }
   ],
   "source": [
    "analyze_postal_code(df, 'postal_code_pickup')"
   ]
  },
  {
   "cell_type": "code",
   "execution_count": 124,
   "metadata": {},
   "outputs": [],
   "source": [
    "df['postal_code_pickup'] = df['postal_code_pickup'].apply(standardize_postal_code)"
   ]
  },
  {
   "cell_type": "markdown",
   "metadata": {},
   "source": [
    "### City pickup analysis"
   ]
  },
  {
   "cell_type": "markdown",
   "metadata": {},
   "source": [
    "The same number of missing values as in the city delivery."
   ]
  },
  {
   "cell_type": "code",
   "execution_count": 125,
   "metadata": {},
   "outputs": [
    {
     "name": "stdout",
     "output_type": "stream",
     "text": [
      "Total missing values: 281\n",
      "Missing percentage: 0.04%\n"
     ]
    }
   ],
   "source": [
    "analyze_missing_values(df, 'city_pickup')"
   ]
  },
  {
   "cell_type": "code",
   "execution_count": 126,
   "metadata": {},
   "outputs": [
    {
     "name": "stdout",
     "output_type": "stream",
     "text": [
      "\n",
      "Value counts - original: 14288\n",
      "Value counts - lowercase: 12816\n",
      "\n",
      "Case inconsistencies found:\n",
      "\n",
      "Variants for 'hamburg':\n",
      "['Hamburg' 'HAMBURG' 'hamburg' 'HAmburg']\n",
      "\n",
      "Variants for 'kiel':\n",
      "['Kiel' 'KIEL']\n",
      "\n",
      "Variants for 'berlin':\n",
      "['Berlin' 'berlin' 'BERLIN' 'bERLIN']\n",
      "\n",
      "Variants for 'bremen':\n",
      "['Bremen' 'BREMEN' 'bremen']\n",
      "\n",
      "Variants for 'bochum':\n",
      "['Bochum' 'BOCHUM' 'bochum']\n"
     ]
    }
   ],
   "source": [
    "analyze_text_case_consistency(df, 'city_pickup')"
   ]
  },
  {
   "cell_type": "code",
   "execution_count": 127,
   "metadata": {},
   "outputs": [],
   "source": [
    "df['city_pickup'] = df['city_pickup'].str.lower().str.title()"
   ]
  },
  {
   "cell_type": "markdown",
   "metadata": {},
   "source": [
    "### Domain name analysis"
   ]
  },
  {
   "cell_type": "markdown",
   "metadata": {},
   "source": [
    "For the domain_name_delivery, we have almost the same number of missing values and in the delivery_city."
   ]
  },
  {
   "cell_type": "code",
   "execution_count": 128,
   "metadata": {},
   "outputs": [
    {
     "name": "stdout",
     "output_type": "stream",
     "text": [
      "Total missing values: 280\n",
      "Missing percentage: 0.04%\n"
     ]
    }
   ],
   "source": [
    "analyze_missing_values(df, 'domain_name_delivery')"
   ]
  },
  {
   "cell_type": "markdown",
   "metadata": {},
   "source": [
    "The nomain name has an established format which is respected."
   ]
  },
  {
   "cell_type": "code",
   "execution_count": 129,
   "metadata": {},
   "outputs": [
    {
     "name": "stdout",
     "output_type": "stream",
     "text": [
      "['DE' nan 'ES' 'FR' 'CH' 'BE' 'AT' 'NL']\n"
     ]
    }
   ],
   "source": [
    "print(df['domain_name_delivery'].unique())"
   ]
  },
  {
   "cell_type": "markdown",
   "metadata": {},
   "source": [
    "## Service analysis"
   ]
  },
  {
   "cell_type": "markdown",
   "metadata": {},
   "source": [
    "### Name Service Analysis"
   ]
  },
  {
   "cell_type": "markdown",
   "metadata": {},
   "source": [
    "Negligent number of missing values."
   ]
  },
  {
   "cell_type": "code",
   "execution_count": 130,
   "metadata": {},
   "outputs": [
    {
     "name": "stdout",
     "output_type": "stream",
     "text": [
      "Total missing values: 280\n",
      "Missing percentage: 0.04%\n"
     ]
    }
   ],
   "source": [
    "analyze_missing_values(df, 'name_service')"
   ]
  },
  {
   "cell_type": "code",
   "execution_count": 131,
   "metadata": {},
   "outputs": [
    {
     "name": "stdout",
     "output_type": "stream",
     "text": [
      "\n",
      "Value counts - original: 333\n",
      "Value counts - lowercase: 328\n",
      "\n",
      "Case inconsistencies found:\n",
      "\n",
      "Variants for 'normal parcel international':\n",
      "['Normal Parcel International' 'Normal Parcel international']\n",
      "\n",
      "Variants for 'express national':\n",
      "['Express National' 'Express national']\n",
      "\n",
      "Variants for 'international economy':\n",
      "['international economy' 'International Economy']\n",
      "\n",
      "Variants for 'express 12:00 national':\n",
      "['Express 12:00 National' 'Express 12:00 national']\n",
      "\n",
      "Variants for 'express 12:00 import':\n",
      "['Express 12:00 Import' 'EXPRESS 12:00 Import']\n"
     ]
    }
   ],
   "source": [
    "analyze_text_case_consistency(df, 'name_service')"
   ]
  },
  {
   "cell_type": "code",
   "execution_count": 132,
   "metadata": {},
   "outputs": [],
   "source": [
    "df['name_service'] = df['name_service'].str.lower().str.title()"
   ]
  },
  {
   "cell_type": "markdown",
   "metadata": {},
   "source": [
    "### Service Type analysis"
   ]
  },
  {
   "cell_type": "markdown",
   "metadata": {},
   "source": [
    "Also a negligent amount of missing values."
   ]
  },
  {
   "cell_type": "code",
   "execution_count": 133,
   "metadata": {},
   "outputs": [
    {
     "name": "stdout",
     "output_type": "stream",
     "text": [
      "Total missing values: 280\n",
      "Missing percentage: 0.04%\n"
     ]
    }
   ],
   "source": [
    "analyze_missing_values(df, 'service_type')"
   ]
  },
  {
   "cell_type": "markdown",
   "metadata": {},
   "source": [
    "The format is stardard across all entries."
   ]
  },
  {
   "cell_type": "code",
   "execution_count": 134,
   "metadata": {},
   "outputs": [
    {
     "data": {
      "text/plain": [
       "array(['Standard', 'Import', 'Express', 'Special', 'Sameday', nan,\n",
       "       'Third_Country'], dtype=object)"
      ]
     },
     "execution_count": 134,
     "metadata": {},
     "output_type": "execute_result"
    }
   ],
   "source": [
    "df['service_type'].unique()"
   ]
  },
  {
   "cell_type": "markdown",
   "metadata": {},
   "source": [
    "### Transport type analysis"
   ]
  },
  {
   "cell_type": "markdown",
   "metadata": {},
   "source": [
    "The same number of missing values as service type, reasonable as they are part of the same dimension."
   ]
  },
  {
   "cell_type": "code",
   "execution_count": 135,
   "metadata": {},
   "outputs": [
    {
     "name": "stdout",
     "output_type": "stream",
     "text": [
      "Total missing values: 280\n",
      "Missing percentage: 0.04%\n"
     ]
    }
   ],
   "source": [
    "analyze_missing_values(df, 'transport_type')"
   ]
  },
  {
   "cell_type": "markdown",
   "metadata": {},
   "source": [
    "The format is standard across entries."
   ]
  },
  {
   "cell_type": "code",
   "execution_count": 136,
   "metadata": {},
   "outputs": [
    {
     "data": {
      "text/plain": [
       "array(['Standard', 'Express', 'Special', 'Standard_Palette',\n",
       "       'Express_Palette', 'Sameday', nan], dtype=object)"
      ]
     },
     "execution_count": 136,
     "metadata": {},
     "output_type": "execute_result"
    }
   ],
   "source": [
    "df['transport_type'].unique()"
   ]
  },
  {
   "cell_type": "markdown",
   "metadata": {},
   "source": [
    "### Name Carrier analysis"
   ]
  },
  {
   "cell_type": "markdown",
   "metadata": {},
   "source": [
    "The same logic applies to the name of the carrier as with the above columns."
   ]
  },
  {
   "cell_type": "code",
   "execution_count": 137,
   "metadata": {},
   "outputs": [
    {
     "name": "stdout",
     "output_type": "stream",
     "text": [
      "Total missing values: 280\n",
      "Missing percentage: 0.04%\n"
     ]
    }
   ],
   "source": [
    "analyze_missing_values(df, 'name_carrier')"
   ]
  },
  {
   "cell_type": "markdown",
   "metadata": {},
   "source": [
    "The format is consistent across all the instances."
   ]
  },
  {
   "cell_type": "code",
   "execution_count": 138,
   "metadata": {},
   "outputs": [
    {
     "data": {
      "text/plain": [
       "array(['UPS', 'TNT', 'FedEx', 'Logistik Helden KTG GmbH', 'DSV Road',\n",
       "       'DPD', 'DHL', 'DHL S', 'GLS', 'Aramex', 'Der Kurier', 'Marway',\n",
       "       nan, 'Delta-Stallion Internationale Transport GmbH',\n",
       "       'Logistream GmbH', 'FME Frachtmanagement Europa GmbH',\n",
       "       'Schwerdtfeger Transport', 'High Quality Transport Solution',\n",
       "       'SamedayLogisitcs', 'Schenker', 'DSV', 'Correos', 'Transgesa',\n",
       "       'Cargo Partner', 'Chronopost', 'DHL-Freight', 'Special',\n",
       "       'Belsped AG', 'Sonstige',\n",
       "       'Kintetsu World Express (Switzerland) Ltd.', 'Rhenus Logistics AG',\n",
       "       'Z+L Zoll und Logistik GmbH', 'Bpost', 'Post AT',\n",
       "       'Raben BEXity GmbH', 'Ontime Logistics Speditions GmbH',\n",
       "       '3LOG premium logistics GmbH', 'SkyNet',\n",
       "       'bgm express logistik GmbH', 'Global Express Austria GmbH',\n",
       "       'Rhenus Logistics Austria GmbH', 'VELOX Express Gmbh', 'M3',\n",
       "       'VT Verzollungen & Transporte GmbH', 'RBTC – Logistics B.V.',\n",
       "       'ACS Time Critical Services GmbH', 'inline Kurierdienst GmbH',\n",
       "       'GO! Express & Logistics GmbH'], dtype=object)"
      ]
     },
     "execution_count": 138,
     "metadata": {},
     "output_type": "execute_result"
    }
   ],
   "source": [
    "df['name_carrier'].unique()"
   ]
  },
  {
   "cell_type": "markdown",
   "metadata": {},
   "source": [
    "## Data quality summary"
   ]
  },
  {
   "cell_type": "markdown",
   "metadata": {},
   "source": [
    "In this section we will analyze the missing values dataset wide."
   ]
  },
  {
   "cell_type": "code",
   "execution_count": 139,
   "metadata": {},
   "outputs": [
    {
     "name": "stdout",
     "output_type": "stream",
     "text": [
      "Missing Values Summary:\n",
      "\n",
      "Total number of rows in dataset: 711,458\n",
      "\n",
      "Columns with missing values:\n",
      "                           Column  Missing Values  Total Rows  \\\n",
      "0                      exworks_id          683441      711458   \n",
      "1     main_industry_name_customer          222510      711458   \n",
      "2   industry_sector_name_customer          222510      711458   \n",
      "3           quarter_delivery_date          161562      711458   \n",
      "4         full_date_delivery_date          161562      711458   \n",
      "5              year_delivery_date          161562      711458   \n",
      "6             month_delivery_date          161562      711458   \n",
      "7             final_carrier_price          140156      711458   \n",
      "8           segmentation_customer          116856      711458   \n",
      "9    full_date_real_delivery_date           53558      711458   \n",
      "10        year_real_delivery_date           53558      711458   \n",
      "11       month_real_delivery_date           53558      711458   \n",
      "12     quarter_real_delivery_date           53558      711458   \n",
      "13       quarter_real_pickup_date           47526      711458   \n",
      "14         month_real_pickup_date           47526      711458   \n",
      "15          year_real_pickup_date           47526      711458   \n",
      "16     full_date_real_pickup_date           47526      711458   \n",
      "17                    EU_delivery           30872      711458   \n",
      "18          name_country_delivery           30872      711458   \n",
      "19             continent_delivery           30872      711458   \n",
      "20      iso_country_code_delivery           30894      711458   \n",
      "21                         margin           28823      711458   \n",
      "22           postal_code_delivery           16080      711458   \n",
      "23                      EU_pickup            2328      711458   \n",
      "24            name_country_pickup            2328      711458   \n",
      "25        iso_country_code_pickup            2328      711458   \n",
      "26               continent_pickup            2328      711458   \n",
      "27             postal_code_pickup            1569      711458   \n",
      "28                 transport_type             280      711458   \n",
      "29           domain_name_customer             280      711458   \n",
      "30                         weight             280      711458   \n",
      "31                 insurance_type             280      711458   \n",
      "32                  shipment_type             280      711458   \n",
      "33            domain_name_carrier             280      711458   \n",
      "34                   service_type             280      711458   \n",
      "35                   name_service             280      711458   \n",
      "36                    city_pickup             281      711458   \n",
      "37             is_master_customer             280      711458   \n",
      "38             domain_name_pickup             280      711458   \n",
      "39            created_date_pickup             280      711458   \n",
      "40       sequence_number_customer             280      711458   \n",
      "41      structure_number_customer             280      711458   \n",
      "42                       lms_plus             280      711458   \n",
      "43                    domain_name             280      711458   \n",
      "44                    customer_id             280      711458   \n",
      "45          created_date_customer             280      711458   \n",
      "46          created_date_delivery             280      711458   \n",
      "47           domain_name_delivery             280      711458   \n",
      "48                  city_delivery             281      711458   \n",
      "49            domain_name_service             280      711458   \n",
      "50           created_date_carrier             280      711458   \n",
      "51                   name_carrier             280      711458   \n",
      "52           created_date_service             280      711458   \n",
      "\n",
      "    Missing Percentage  \n",
      "0                96.06  \n",
      "1                31.28  \n",
      "2                31.28  \n",
      "3                22.71  \n",
      "4                22.71  \n",
      "5                22.71  \n",
      "6                22.71  \n",
      "7                19.70  \n",
      "8                16.42  \n",
      "9                 7.53  \n",
      "10                7.53  \n",
      "11                7.53  \n",
      "12                7.53  \n",
      "13                6.68  \n",
      "14                6.68  \n",
      "15                6.68  \n",
      "16                6.68  \n",
      "17                4.34  \n",
      "18                4.34  \n",
      "19                4.34  \n",
      "20                4.34  \n",
      "21                4.05  \n",
      "22                2.26  \n",
      "23                0.33  \n",
      "24                0.33  \n",
      "25                0.33  \n",
      "26                0.33  \n",
      "27                0.22  \n",
      "28                0.04  \n",
      "29                0.04  \n",
      "30                0.04  \n",
      "31                0.04  \n",
      "32                0.04  \n",
      "33                0.04  \n",
      "34                0.04  \n",
      "35                0.04  \n",
      "36                0.04  \n",
      "37                0.04  \n",
      "38                0.04  \n",
      "39                0.04  \n",
      "40                0.04  \n",
      "41                0.04  \n",
      "42                0.04  \n",
      "43                0.04  \n",
      "44                0.04  \n",
      "45                0.04  \n",
      "46                0.04  \n",
      "47                0.04  \n",
      "48                0.04  \n",
      "49                0.04  \n",
      "50                0.04  \n",
      "51                0.04  \n",
      "52                0.04  \n"
     ]
    }
   ],
   "source": [
    "# We create a summary DataFrame of missing values\n",
    "missing = pd.DataFrame({\n",
    "    'Column': df.columns,\n",
    "    'Missing Values': df.isnull().sum(),\n",
    "    'Total Rows': len(df),\n",
    "})\n",
    "\n",
    "# We calculate the percentage of missing values\n",
    "missing['Missing Percentage'] = (missing['Missing Values'] / missing['Total Rows'] * 100).round(2)\n",
    "\n",
    "# We sort by percentage of missing values in descending order\n",
    "missing = missing.sort_values('Missing Percentage', ascending=False)\n",
    "missing = missing.reset_index(drop=True)\n",
    "\n",
    "# We display only the columns with missing values\n",
    "print(\"Missing Values Summary:\\n\")\n",
    "print(f\"Total number of rows in dataset: {len(df):,}\\n\")\n",
    "print(\"Columns with missing values:\")\n",
    "print(missing[missing['Missing Values'] > 0])"
   ]
  },
  {
   "cell_type": "markdown",
   "metadata": {},
   "source": [
    "High-Impact Missing Values (>20%):\n",
    "The most significant missing data occurs in the exworks_id field, with 96.06% of values missing. This is followed by industry-related information (main_industry_name_customer and industry_sector_name_customer) where 31.28% of records lack values. Delivery date information (including year, month, quarter, and full date) is missing for 22.71% of records.\n",
    "\n",
    "Moderate-Impact Missing Values (5-20%):\n",
    "Financial data shows notable gaps, with final_carrier_price missing in 19.70% of records and customer segmentation information absent in 16.42% of cases. Real delivery and pickup date information shows consistent patterns of missing data, ranging from 6.68% to 7.53%.\n",
    "\n",
    "Low-Impact Missing Values (1-5%):\n",
    "Geographic and logistics information shows more completeness, with delivery-related location data (EU status, country information, and continent) missing in 4.34% of records. The margin calculations are unavailable for 4.05% of entries, while postal code delivery information is missing for 2.26% of records.\n",
    "\n",
    "Minimal-Impact Missing Values (<1%):\n",
    "A large number of fields show very low missing value rates of 0.04%, including core business data like transport type, insurance type, service information, and customer details. Pickup location information shows slightly higher but still minimal missing rates of 0.22-0.33%.\n"
   ]
  },
  {
   "cell_type": "markdown",
   "metadata": {},
   "source": [
    "## Final processing"
   ]
  },
  {
   "cell_type": "markdown",
   "metadata": {},
   "source": [
    "### Drop non needed features"
   ]
  },
  {
   "cell_type": "markdown",
   "metadata": {},
   "source": [
    "They won't be seen again since they were registered in the past, and this is not a time series problem."
   ]
  },
  {
   "cell_type": "code",
   "execution_count": 140,
   "metadata": {},
   "outputs": [],
   "source": [
    "date_columns_to_drop = [col for col in df.columns if 'full_date' in col or 'created_date' in col]\n",
    "\n",
    "# Drop the columns\n",
    "df = df.drop(columns=date_columns_to_drop)"
   ]
  },
  {
   "cell_type": "code",
   "execution_count": 141,
   "metadata": {},
   "outputs": [
    {
     "data": {
      "text/plain": [
       "Index(['shipment_id', 'customer_price', 'expected_carrier_price',\n",
       "       'final_carrier_price', 'weight', 'shipment_type', 'insurance_type',\n",
       "       'customer_id', 'domain_name', 'booking_state', 'lms_plus', 'exworks_id',\n",
       "       'margin', 'domain_name_customer', 'main_industry_name_customer',\n",
       "       'industry_sector_name_customer', 'segmentation_customer',\n",
       "       'sequence_number_customer', 'structure_number_customer',\n",
       "       'is_master_customer', 'domain_name_delivery', 'postal_code_delivery',\n",
       "       'city_delivery', 'name_country_delivery', 'iso_country_code_delivery',\n",
       "       'continent_delivery', 'EU_delivery', 'domain_name_pickup',\n",
       "       'postal_code_pickup', 'city_pickup', 'name_country_pickup',\n",
       "       'iso_country_code_pickup', 'continent_pickup', 'EU_pickup',\n",
       "       'name_service', 'service_type', 'transport_type', 'domain_name_service',\n",
       "       'name_carrier', 'domain_name_carrier', 'year_pickup_date',\n",
       "       'month_pickup_date', 'quarter_pickup_date', 'year_delivery_date',\n",
       "       'month_delivery_date', 'quarter_delivery_date', 'year_real_pickup_date',\n",
       "       'month_real_pickup_date', 'quarter_real_pickup_date',\n",
       "       'year_real_delivery_date', 'month_real_delivery_date',\n",
       "       'quarter_real_delivery_date'],\n",
       "      dtype='object')"
      ]
     },
     "execution_count": 141,
     "metadata": {},
     "output_type": "execute_result"
    }
   ],
   "source": [
    "df.columns"
   ]
  },
  {
   "cell_type": "markdown",
   "metadata": {},
   "source": [
    "### Save dataset"
   ]
  },
  {
   "cell_type": "markdown",
   "metadata": {},
   "source": [
    "In this section we save the dataset."
   ]
  },
  {
   "cell_type": "code",
   "execution_count": 142,
   "metadata": {},
   "outputs": [],
   "source": [
    "output_file = '../../../00-Project/datasets/preprocessed_flattened_dataset.csv'\n",
    "\n",
    "df.to_csv(output_file, index=False)"
   ]
  }
 ],
 "metadata": {
  "kernelspec": {
   "display_name": "Python 3",
   "language": "python",
   "name": "python3"
  },
  "language_info": {
   "codemirror_mode": {
    "name": "ipython",
    "version": 3
   },
   "file_extension": ".py",
   "mimetype": "text/x-python",
   "name": "python",
   "nbconvert_exporter": "python",
   "pygments_lexer": "ipython3",
   "version": "3.13.0"
  }
 },
 "nbformat": 4,
 "nbformat_minor": 2
}
