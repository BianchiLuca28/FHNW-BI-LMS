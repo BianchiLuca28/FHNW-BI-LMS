{
 "cells": [
  {
   "cell_type": "code",
   "execution_count": 1,
   "metadata": {},
   "outputs": [],
   "source": [
    "import pandas as pd\n",
    "import numpy as np\n",
    "import matplotlib.pyplot as plt\n",
    "import seaborn as sns"
   ]
  },
  {
   "cell_type": "code",
   "execution_count": 2,
   "metadata": {},
   "outputs": [],
   "source": [
    "df = pd.read_csv(\"../datasets/flattened_dataset.csv\")"
   ]
  },
  {
   "cell_type": "code",
   "execution_count": 3,
   "metadata": {},
   "outputs": [
    {
     "data": {
      "text/plain": [
       "Index(['shipment_id', 'customer_price', 'expected_carrier_price',\n",
       "       'final_carrier_price', 'weight', 'shipment_type', 'insurance_type',\n",
       "       'customer_id', 'domain_name', 'booking_state', 'lms_plus', 'exworks_id',\n",
       "       'margin', 'created_date_customer', 'domain_name_customer',\n",
       "       'main_industry_name_customer', 'industry_sector_name_customer',\n",
       "       'segmentation_customer', 'sequence_number_customer',\n",
       "       'structure_number_customer', 'is_master_customer',\n",
       "       'created_date_delivery', 'domain_name_delivery', 'postal_code_delivery',\n",
       "       'city_delivery', 'name_country_delivery', 'iso_country_code_delivery',\n",
       "       'continent_delivery', 'EU_delivery', 'created_date_pickup',\n",
       "       'domain_name_pickup', 'postal_code_pickup', 'city_pickup',\n",
       "       'name_country_pickup', 'iso_country_code_pickup', 'continent_pickup',\n",
       "       'EU_pickup', 'created_date_service', 'name_service', 'service_type',\n",
       "       'transport_type', 'domain_name_service', 'name_carrier',\n",
       "       'created_date_carrier', 'domain_name_carrier', 'full_date_created_date',\n",
       "       'year_created_date', 'month_created_date', 'quarter_created_date',\n",
       "       'full_date_pickup_date', 'year_pickup_date', 'month_pickup_date',\n",
       "       'quarter_pickup_date', 'full_date_delivery_date', 'year_delivery_date',\n",
       "       'month_delivery_date', 'quarter_delivery_date',\n",
       "       'full_date_real_pickup_date', 'year_real_pickup_date',\n",
       "       'month_real_pickup_date', 'quarter_real_pickup_date',\n",
       "       'full_date_real_delivery_date', 'year_real_delivery_date',\n",
       "       'month_real_delivery_date', 'quarter_real_delivery_date'],\n",
       "      dtype='object')"
      ]
     },
     "execution_count": 3,
     "metadata": {},
     "output_type": "execute_result"
    }
   ],
   "source": [
    "df.columns"
   ]
  },
  {
   "cell_type": "markdown",
   "metadata": {},
   "source": [
    "### Helpful functions created for use later"
   ]
  },
  {
   "cell_type": "code",
   "execution_count": 4,
   "metadata": {},
   "outputs": [],
   "source": [
    "def analyze_missing_values(df, column):\n",
    "    \"\"\"Analyze missing values in a column.\"\"\"\n",
    "    missing_count = df[column].isna().sum()\n",
    "    total_records = len(df)\n",
    "    missing_percentage = (missing_count / total_records) * 100\n",
    "    \n",
    "    print(f\"Total missing values: {missing_count}\")\n",
    "    print(f\"Missing percentage: {missing_percentage:.2f}%\")\n"
   ]
  },
  {
   "cell_type": "code",
   "execution_count": 5,
   "metadata": {},
   "outputs": [],
   "source": [
    "def analyze_numeric_values(df, column):\n",
    "    \"\"\"Analyze numeric column values and decimal places.\"\"\"\n",
    "    print(f\"\\n=== {column} ===\")\n",
    "    print(f\"Data type: {df[column].dtype}\")\n",
    "    print(f\"Null values: {df[column].isnull().sum()}\")\n",
    "    \n",
    "    non_null_values = df[column].dropna()\n",
    "    decimal_places = (non_null_values % 1).apply(lambda x: len(str(x).split('.')[-1]) if x > 0 else 0)\n",
    "    print(\"\\nDecimal places distribution:\")\n",
    "    print(decimal_places.value_counts().sort_index())\n",
    "    \n",
    "    print(f\"\\nNegative values: {(non_null_values < 0).sum()}\")\n",
    "    print(f\"Zero values: {(non_null_values == 0).sum()}\")\n",
    "    print(f\"Infinite values: {np.isinf(non_null_values).sum()}\")\n"
   ]
  },
  {
   "cell_type": "code",
   "execution_count": 6,
   "metadata": {},
   "outputs": [],
   "source": [
    "def analyze_text_case_consistency(df, column, show_examples=5):\n",
    "    \"\"\"Analyze case consistency in text columns.\"\"\"\n",
    "    value_counts = df[column].value_counts()\n",
    "    value_lower = df[column].str.lower()\n",
    "    value_lower_counts = value_lower.value_counts()\n",
    "    \n",
    "    print(f\"\\nValue counts - original: {len(value_counts)}\")\n",
    "    print(f\"Value counts - lowercase: {len(value_lower_counts)}\")\n",
    "    \n",
    "    if len(value_counts) != len(value_lower_counts):\n",
    "        print(\"\\nCase inconsistencies found:\")\n",
    "        count = 0\n",
    "        for value in value_lower_counts.index:\n",
    "            if count >= show_examples:\n",
    "                break\n",
    "            mask = df[column].str.lower() == value\n",
    "            variants = df.loc[mask, column].unique()\n",
    "            if len(variants) > 1:\n",
    "                print(f\"\\nVariants for '{value}':\")\n",
    "                print(variants)\n",
    "                count += 1\n"
   ]
  },
  {
   "cell_type": "code",
   "execution_count": 7,
   "metadata": {},
   "outputs": [],
   "source": [
    "def analyze_postal_code(df, column):\n",
    "    \"\"\"Analyze postal code formatting.\"\"\"\n",
    "    # Filter for postal codes that contain letters\n",
    "    postal_mask = df[column].str.contains('[A-Za-z]', na=False)\n",
    "    postal_with_letters = df.loc[postal_mask, column]\n",
    "    \n",
    "    # Get value counts for original and lowercase versions\n",
    "    postal_counts = postal_with_letters.value_counts()\n",
    "    postal_lower = postal_with_letters.str.lower()\n",
    "    postal_lower_counts = postal_lower.value_counts()\n",
    "    \n",
    "    print(f\"Postal codes with letters - original count: {len(postal_counts)}\")\n",
    "    print(f\"Postal codes with letters - lowercase count: {len(postal_lower_counts)}\")\n",
    "    \n",
    "    # Find case inconsistencies\n",
    "    if len(postal_counts) != len(postal_lower_counts):\n",
    "        print(\"\\nCase inconsistencies found:\")\n",
    "        count = 0\n",
    "        for code in postal_lower_counts.index:\n",
    "            if count >= 5:  # Limit to first 5 examples like in original code\n",
    "                break\n",
    "            variants = postal_with_letters[postal_with_letters.str.lower() == code].unique()\n",
    "            if len(variants) > 1:\n",
    "                print(f\"\\nVariants for '{code}':\")\n",
    "                print(variants)\n",
    "                count += 1"
   ]
  },
  {
   "cell_type": "code",
   "execution_count": 8,
   "metadata": {},
   "outputs": [],
   "source": [
    "def standardize_postal_code(x):\n",
    "    \"\"\"Standardize postal code format.\"\"\"\n",
    "    return x.upper() if isinstance(x, str) and any(c.isalpha() for c in x) else x\n"
   ]
  },
  {
   "cell_type": "code",
   "execution_count": 9,
   "metadata": {},
   "outputs": [],
   "source": [
    "def standardize_city_name(x):\n",
    "    \"\"\"Standardize city name format.\"\"\"\n",
    "    return x.str.lower().str.title() if isinstance(x, str) else x\n"
   ]
  },
  {
   "cell_type": "markdown",
   "metadata": {},
   "source": [
    "### Price analysis"
   ]
  },
  {
   "cell_type": "markdown",
   "metadata": {},
   "source": [
    "Here we can view different decimal places, we should investigate that more"
   ]
  },
  {
   "cell_type": "code",
   "execution_count": 10,
   "metadata": {},
   "outputs": [
    {
     "name": "stdout",
     "output_type": "stream",
     "text": [
      "\n",
      "=== customer_price ===\n",
      "Data type: float64\n",
      "Null values: 0\n",
      "\n",
      "Decimal places distribution:\n",
      "customer_price\n",
      "0      38428\n",
      "1       6180\n",
      "2      17507\n",
      "13        32\n",
      "14       180\n",
      "15     26029\n",
      "16    377791\n",
      "17    173633\n",
      "18     17022\n",
      "Name: count, dtype: int64\n",
      "\n",
      "Negative values: 2\n",
      "Zero values: 26343\n",
      "Infinite values: 0\n",
      "\n",
      "=== expected_carrier_price ===\n",
      "Data type: float64\n",
      "Null values: 0\n",
      "\n",
      "Decimal places distribution:\n",
      "expected_carrier_price\n",
      "0      39264\n",
      "1      18775\n",
      "2      15366\n",
      "13        19\n",
      "14        99\n",
      "15     19617\n",
      "16    376559\n",
      "17    170007\n",
      "18     17096\n",
      "Name: count, dtype: int64\n",
      "\n",
      "Negative values: 11\n",
      "Zero values: 26411\n",
      "Infinite values: 0\n",
      "\n",
      "=== final_carrier_price ===\n",
      "Data type: float64\n",
      "Null values: 104174\n",
      "\n",
      "Decimal places distribution:\n",
      "final_carrier_price\n",
      "0      15965\n",
      "1      17452\n",
      "2      16531\n",
      "13        10\n",
      "14        68\n",
      "15     17103\n",
      "16    322313\n",
      "17    145859\n",
      "18     17327\n",
      "Name: count, dtype: int64\n",
      "\n",
      "Negative values: 45\n",
      "Zero values: 9330\n",
      "Infinite values: 0\n"
     ]
    }
   ],
   "source": [
    "price_columns = ['customer_price', 'expected_carrier_price', 'final_carrier_price']\n",
    "\n",
    "for col in price_columns:\n",
    "    analyze_numeric_values(df, col)"
   ]
  },
  {
   "cell_type": "markdown",
   "metadata": {},
   "source": [
    "Here we can see that rounding doesn't change anything, so these decimals are just python artifacts"
   ]
  },
  {
   "cell_type": "code",
   "execution_count": 11,
   "metadata": {},
   "outputs": [
    {
     "name": "stdout",
     "output_type": "stream",
     "text": [
      "\n",
      "customer_price:\n",
      "Values changed by rounding to 2 decimals: 0\n",
      "\n",
      "expected_carrier_price:\n",
      "Values changed by rounding to 2 decimals: 0\n",
      "\n",
      "final_carrier_price:\n",
      "Values changed by rounding to 2 decimals: 104174\n",
      "Sample of changed values:\n",
      "Original vs Rounded:\n",
      "    Original  Rounded\n",
      "34       NaN      NaN\n",
      "37       NaN      NaN\n",
      "42       NaN      NaN\n",
      "61       NaN      NaN\n",
      "68       NaN      NaN\n"
     ]
    }
   ],
   "source": [
    "for col in ['customer_price', 'expected_carrier_price', 'final_carrier_price']:\n",
    "    orig = df[col]\n",
    "    rounded = df[col].round(2)\n",
    "    differences = (orig != rounded).sum()\n",
    "    print(f\"\\n{col}:\")\n",
    "    print(f\"Values changed by rounding to 2 decimals: {differences}\")\n",
    "    \n",
    "    if differences > 0:\n",
    "        print(\"Sample of changed values:\")\n",
    "        changed_mask = (orig != rounded)\n",
    "        print(\"Original vs Rounded:\")\n",
    "        comp_df = pd.DataFrame({\n",
    "            'Original': orig[changed_mask].head(),\n",
    "            'Rounded': rounded[changed_mask].head()\n",
    "        })\n",
    "        print(comp_df)"
   ]
  },
  {
   "cell_type": "markdown",
   "metadata": {},
   "source": [
    "### Weight analysis"
   ]
  },
  {
   "cell_type": "markdown",
   "metadata": {},
   "source": [
    "We can see that weight doesn't show any particular issues"
   ]
  },
  {
   "cell_type": "code",
   "execution_count": 12,
   "metadata": {},
   "outputs": [
    {
     "name": "stdout",
     "output_type": "stream",
     "text": [
      "=== Weight Analysis ===\n",
      "Data type: float64\n",
      "Null values: 0\n",
      "\n",
      "Decimal places distribution:\n",
      "weight\n",
      "0     273433\n",
      "1     197124\n",
      "2      46669\n",
      "14         4\n",
      "15      1490\n",
      "16     89294\n",
      "17     44145\n",
      "18      4643\n",
      "Name: count, dtype: int64\n",
      "\n",
      "Negative values: 0\n",
      "Zero values: 0\n",
      "Infinite values: 0\n",
      "\n",
      "Sample weights with different decimal places:\n",
      "\n",
      "1 decimal places:\n",
      "0      1.5\n",
      "9      0.5\n",
      "11     0.5\n",
      "13     0.5\n",
      "15    14.5\n",
      "Name: weight, dtype: object\n",
      "\n",
      "0 decimal places:\n",
      "1    18\n",
      "2    18\n",
      "4     2\n",
      "5     2\n",
      "6    16\n",
      "Name: weight, dtype: object\n",
      "\n",
      "17 decimal places:\n",
      "3      3.20000000000000018\n",
      "22    51.20000000000000284\n",
      "30     1.19999999999999996\n",
      "33     5.40000000000000036\n",
      "54     1.06000000000000005\n",
      "Name: weight, dtype: object\n",
      "\n",
      "16 decimal places:\n",
      "14     2.8500000000000001\n",
      "34    22.3999999999999986\n",
      "37    35.5200000000000031\n",
      "68    26.4800000000000004\n",
      "81     2.7000000000000002\n",
      "Name: weight, dtype: object\n",
      "\n",
      "2 decimal places:\n",
      "17    0.16\n",
      "39    0.45\n",
      "69    0.59\n",
      "73    0.15\n",
      "95    0.88\n",
      "Name: weight, dtype: object\n",
      "\n",
      "18 decimal places:\n",
      "106    1.050000000000000044\n",
      "264    1.030000000000000027\n",
      "630    2.029999999999999805\n",
      "864    1.010000000000000009\n",
      "870    3.040000000000000036\n",
      "Name: weight, dtype: object\n",
      "\n",
      "15 decimal places:\n",
      "272     178.710000000000008\n",
      "913     108.480000000000004\n",
      "1125     36.740000000000002\n",
      "1282     21.870000000000001\n",
      "1451     78.269999999999996\n",
      "Name: weight, dtype: object\n",
      "\n",
      "14 decimal places:\n",
      "239045    530.42999999999995\n",
      "370810    579.32000000000005\n",
      "378820    785.32000000000005\n",
      "412000    515.82000000000005\n",
      "Name: weight, dtype: object\n"
     ]
    }
   ],
   "source": [
    "print(\"=== Weight Analysis ===\")\n",
    "print(f\"Data type: {df['weight'].dtype}\")\n",
    "print(f\"Null values: {df['weight'].isnull().sum()}\")\n",
    "\n",
    "# Check decimal places\n",
    "non_null_weights = df['weight'].dropna()\n",
    "decimal_places = (non_null_weights % 1).apply(lambda x: len(str(x).split('.')[-1]) if x > 0 else 0)\n",
    "print(\"\\nDecimal places distribution:\")\n",
    "print(decimal_places.value_counts().sort_index())\n",
    "\n",
    "# Check for data issues\n",
    "print(f\"\\nNegative values: {(non_null_weights < 0).sum()}\")\n",
    "print(f\"Zero values: {(non_null_weights == 0).sum()}\")\n",
    "print(f\"Infinite values: {np.isinf(non_null_weights).sum()}\")\n",
    "\n",
    "# Show some sample weights across different decimal places\n",
    "print(\"\\nSample weights with different decimal places:\")\n",
    "for dec in decimal_places.unique():\n",
    "   sample_mask = (decimal_places == dec)\n",
    "   if sample_mask.any():\n",
    "       print(f\"\\n{dec} decimal places:\")\n",
    "       print(non_null_weights[sample_mask].head().apply(lambda x: f\"{x:.{dec}f}\"))"
   ]
  },
  {
   "cell_type": "markdown",
   "metadata": {},
   "source": [
    "The distribution doesn't show any signs that should be investigated more"
   ]
  },
  {
   "cell_type": "code",
   "execution_count": 13,
   "metadata": {},
   "outputs": [
    {
     "data": {
      "image/png": "[encoded data removed]",
      "text/plain": [
       "<Figure size 1000x600 with 1 Axes>"
      ]
     },
     "metadata": {},
     "output_type": "display_data"
    }
   ],
   "source": [
    "plt.figure(figsize=(10, 6))\n",
    "sns.histplot(data=df[df['weight'] <= 100], x='weight', bins=50)\n",
    "plt.title('Weight Distribution (0-100 kg)')\n",
    "plt.xlabel('Weight (kg)')\n",
    "plt.ylabel('Count')\n",
    "plt.show()"
   ]
  },
  {
   "cell_type": "markdown",
   "metadata": {},
   "source": [
    "### Shipment type analysis"
   ]
  },
  {
   "cell_type": "markdown",
   "metadata": {},
   "source": [
    "The elements of shipment type don't have any formatting problems"
   ]
  },
  {
   "cell_type": "code",
   "execution_count": 14,
   "metadata": {},
   "outputs": [
    {
     "name": "stdout",
     "output_type": "stream",
     "text": [
      "\n",
      "Unique shipment types and counts:\n",
      "shipment_type\n",
      "Parcel      597076\n",
      "Document     59726\n",
      "Name: count, dtype: int64\n"
     ]
    }
   ],
   "source": [
    "shipment_types = df['shipment_type'].value_counts()\n",
    "print(\"\\nUnique shipment types and counts:\")\n",
    "print(shipment_types)\n"
   ]
  },
  {
   "cell_type": "markdown",
   "metadata": {},
   "source": [
    "### Insurance type analysis"
   ]
  },
  {
   "cell_type": "markdown",
   "metadata": {},
   "source": [
    "The elements of insurance type don't have any formattign problems"
   ]
  },
  {
   "cell_type": "code",
   "execution_count": 15,
   "metadata": {},
   "outputs": [
    {
     "name": "stdout",
     "output_type": "stream",
     "text": [
      "\n",
      "Unique insurance types and counts:\n",
      "insurance_type\n",
      "No_Insurance         609418\n",
      "Premium_Insurance     31017\n",
      "Basic_Insurance       16367\n",
      "Name: count, dtype: int64\n"
     ]
    }
   ],
   "source": [
    "insurance_types = df['insurance_type'].value_counts()\n",
    "print(\"\\nUnique insurance types and counts:\")\n",
    "print(insurance_types)"
   ]
  },
  {
   "cell_type": "markdown",
   "metadata": {},
   "source": [
    "### Booking state analysis"
   ]
  },
  {
   "cell_type": "markdown",
   "metadata": {},
   "source": [
    "The elements are as described in the documentation"
   ]
  },
  {
   "cell_type": "code",
   "execution_count": 16,
   "metadata": {},
   "outputs": [
    {
     "name": "stdout",
     "output_type": "stream",
     "text": [
      "\n",
      "Unique insurance types and counts:\n",
      "booking_state\n",
      "12    656767\n",
      "19        26\n",
      "10         5\n",
      "11         2\n",
      "7          1\n",
      "16         1\n",
      "Name: count, dtype: int64\n"
     ]
    }
   ],
   "source": [
    "booking_states = df['booking_state'].value_counts()\n",
    "print(\"\\nUnique insurance types and counts:\")\n",
    "print(booking_states)"
   ]
  },
  {
   "cell_type": "markdown",
   "metadata": {},
   "source": [
    "### Margin features analysis"
   ]
  },
  {
   "cell_type": "markdown",
   "metadata": {},
   "source": [
    "Negative margin could mean that they had to do some refunds"
   ]
  },
  {
   "cell_type": "code",
   "execution_count": 17,
   "metadata": {},
   "outputs": [
    {
     "name": "stdout",
     "output_type": "stream",
     "text": [
      "\n",
      "Margin Analysis:\n",
      "count    552628.000000\n",
      "mean         20.937577\n",
      "std          51.335484\n",
      "min       -1059.350000\n",
      "25%           3.400000\n",
      "50%           7.810000\n",
      "75%          20.140000\n",
      "max        3511.600000\n",
      "Name: margin, dtype: float64\n",
      "\n",
      "Null values: 104174\n"
     ]
    }
   ],
   "source": [
    "stats = df['margin'].describe()\n",
    "nulls = df['margin'].isna().sum()\n",
    "\n",
    "print(\"\\nMargin Analysis:\")\n",
    "print(stats)\n",
    "print(f\"\\nNull values: {nulls}\")"
   ]
  },
  {
   "cell_type": "markdown",
   "metadata": {},
   "source": [
    "### Segmentation analysis"
   ]
  },
  {
   "cell_type": "markdown",
   "metadata": {},
   "source": [
    "High number of null values across some features can be a common pattern"
   ]
  },
  {
   "cell_type": "code",
   "execution_count": 18,
   "metadata": {},
   "outputs": [
    {
     "name": "stdout",
     "output_type": "stream",
     "text": [
      "\n",
      "Segmentation Analysis:\n",
      "[ 0. nan  1.  2.  6.  3.  4.  5.]\n",
      "\n",
      "Null values: 109702\n"
     ]
    }
   ],
   "source": [
    "stats = df['segmentation_customer'].unique()\n",
    "nulls = df['segmentation_customer'].isna().sum()\n",
    "\n",
    "print(\"\\nSegmentation Analysis:\")\n",
    "print(stats)\n",
    "print(f\"\\nNull values: {nulls}\")\n"
   ]
  },
  {
   "cell_type": "markdown",
   "metadata": {},
   "source": [
    "### Main industry name analysis"
   ]
  },
  {
   "cell_type": "markdown",
   "metadata": {},
   "source": [
    "A third of the industry are not present"
   ]
  },
  {
   "cell_type": "code",
   "execution_count": 19,
   "metadata": {},
   "outputs": [
    {
     "name": "stdout",
     "output_type": "stream",
     "text": [
      "Total missing values: 199023\n",
      "Missing percentage: 30.30%\n"
     ]
    }
   ],
   "source": [
    "analyze_missing_values(df, 'main_industry_name_customer')"
   ]
  },
  {
   "cell_type": "markdown",
   "metadata": {},
   "source": [
    "Here we verify the case correctness of the industry name, bay counting the values as they are, then putting them to lower case and comparing them to see if we can spot differences. \n",
    "There aren't."
   ]
  },
  {
   "cell_type": "code",
   "execution_count": 20,
   "metadata": {},
   "outputs": [
    {
     "name": "stdout",
     "output_type": "stream",
     "text": [
      "\n",
      "Value counts - original: 362\n",
      "Value counts - lowercase: 362\n"
     ]
    }
   ],
   "source": [
    "analyze_text_case_consistency(df, 'main_industry_name_customer')"
   ]
  },
  {
   "cell_type": "markdown",
   "metadata": {},
   "source": [
    "### Sector name analysis"
   ]
  },
  {
   "cell_type": "markdown",
   "metadata": {},
   "source": [
    "The same number of values as for the industry name are missing, which makes sense since they are tied together."
   ]
  },
  {
   "cell_type": "code",
   "execution_count": 21,
   "metadata": {},
   "outputs": [
    {
     "name": "stdout",
     "output_type": "stream",
     "text": [
      "Total missing values: 199023\n",
      "Missing percentage: 30.30%\n"
     ]
    }
   ],
   "source": [
    "analyze_missing_values(df, 'industry_sector_name_customer')"
   ]
  },
  {
   "cell_type": "markdown",
   "metadata": {},
   "source": [
    "Here we find no formatting issues"
   ]
  },
  {
   "cell_type": "code",
   "execution_count": 22,
   "metadata": {},
   "outputs": [
    {
     "name": "stdout",
     "output_type": "stream",
     "text": [
      "\n",
      "Value counts - original: 19\n",
      "Value counts - lowercase: 19\n"
     ]
    }
   ],
   "source": [
    "analyze_text_case_consistency(df, 'industry_sector_name_customer')"
   ]
  },
  {
   "cell_type": "markdown",
   "metadata": {},
   "source": [
    "### Delivery postal code analysis"
   ]
  },
  {
   "cell_type": "markdown",
   "metadata": {},
   "source": [
    "A much lower percentage of missing values across the dataset."
   ]
  },
  {
   "cell_type": "code",
   "execution_count": 23,
   "metadata": {},
   "outputs": [
    {
     "name": "stdout",
     "output_type": "stream",
     "text": [
      "Total missing values: 14071\n",
      "Missing percentage: 2.14%\n"
     ]
    }
   ],
   "source": [
    "analyze_missing_values(df, 'postal_code_delivery')"
   ]
  },
  {
   "cell_type": "markdown",
   "metadata": {},
   "source": [
    "There are case inconsistencies among postal codes:<br>\n",
    "Postal codes with letters - original count: 11635<br>\n",
    "Postal codes with letters - lowercase count: 11607"
   ]
  },
  {
   "cell_type": "code",
   "execution_count": 24,
   "metadata": {},
   "outputs": [
    {
     "name": "stdout",
     "output_type": "stream",
     "text": [
      "Postal codes with letters - original count: 11635\n",
      "Postal codes with letters - lowercase count: 11607\n",
      "\n",
      "Case inconsistencies found:\n",
      "\n",
      "Variants for 'ch65 3en':\n",
      "['CH65 3EN' 'ch65 3en']\n",
      "\n",
      "Variants for 'n9y 2e5':\n",
      "['n9y 2e5' 'N9Y 2E5']\n",
      "\n",
      "Variants for 'j2s 8l2':\n",
      "['J2S 8L2' 'j2s 8l2']\n",
      "\n",
      "Variants for 'ng156dw':\n",
      "['NG156DW' 'ng156dw']\n",
      "\n",
      "Variants for 'n2r 1h8':\n",
      "['N2R 1H8' 'n2r 1h8']\n"
     ]
    }
   ],
   "source": [
    "analyze_postal_code(df, 'postal_code_delivery')"
   ]
  },
  {
   "cell_type": "markdown",
   "metadata": {},
   "source": [
    "This way we handle the inconsistencies."
   ]
  },
  {
   "cell_type": "code",
   "execution_count": 25,
   "metadata": {},
   "outputs": [],
   "source": [
    "df['postal_code_delivery'] = df['postal_code_delivery'].apply(standardize_postal_code)"
   ]
  },
  {
   "cell_type": "markdown",
   "metadata": {},
   "source": [
    "### Delivery city analysis"
   ]
  },
  {
   "cell_type": "markdown",
   "metadata": {},
   "source": [
    "No delivery cicy has missing values."
   ]
  },
  {
   "cell_type": "code",
   "execution_count": 26,
   "metadata": {},
   "outputs": [
    {
     "name": "stdout",
     "output_type": "stream",
     "text": [
      "Total missing values: 0\n",
      "Missing percentage: 0.00%\n"
     ]
    }
   ],
   "source": [
    "analyze_missing_values(df, 'city_delivery')"
   ]
  },
  {
   "cell_type": "markdown",
   "metadata": {},
   "source": [
    "Lots of cities with inconsistencies in the case formatting:<br>\n",
    "City counts - original: 69883<br>\n",
    "City counts - lowercase: 59104"
   ]
  },
  {
   "cell_type": "code",
   "execution_count": 27,
   "metadata": {},
   "outputs": [
    {
     "name": "stdout",
     "output_type": "stream",
     "text": [
      "\n",
      "Value counts - original: 69883\n",
      "Value counts - lowercase: 59104\n",
      "\n",
      "Case inconsistencies found:\n",
      "\n",
      "Variants for 'hamburg':\n",
      "['Hamburg' 'HAMBURG' 'hamburg' 'HAmburg' 'hAMBURG']\n",
      "\n",
      "Variants for 'berlin':\n",
      "['Berlin' 'BERLIN' 'berlin' 'bERLIN']\n",
      "\n",
      "Variants for 'münchen':\n",
      "['München' 'MÜNCHEN' 'münchen']\n",
      "\n",
      "Variants for 'köln':\n",
      "['Köln' 'köln' 'KÖLN' 'kÖLN']\n",
      "\n",
      "Variants for 'bremen':\n",
      "['Bremen' 'BREMEN' 'bremen']\n"
     ]
    }
   ],
   "source": [
    "analyze_text_case_consistency(df, 'city_delivery')"
   ]
  },
  {
   "cell_type": "code",
   "execution_count": 28,
   "metadata": {},
   "outputs": [],
   "source": [
    "# Standardize city case format\n",
    "df['city_delivery'] = df['city_delivery'].str.lower().str.title()"
   ]
  },
  {
   "cell_type": "markdown",
   "metadata": {},
   "source": [
    "###  Delivery country name analysis"
   ]
  },
  {
   "cell_type": "markdown",
   "metadata": {},
   "source": [
    "In this feature , which seems to be the country, we have a small amount of missing values."
   ]
  },
  {
   "cell_type": "code",
   "execution_count": 29,
   "metadata": {},
   "outputs": [
    {
     "name": "stdout",
     "output_type": "stream",
     "text": [
      "Total missing values: 27321\n",
      "Missing percentage: 4.16%\n"
     ]
    }
   ],
   "source": [
    "analyze_missing_values(df, 'name_country_delivery')"
   ]
  },
  {
   "cell_type": "markdown",
   "metadata": {},
   "source": [
    "No inconsistencies."
   ]
  },
  {
   "cell_type": "code",
   "execution_count": 30,
   "metadata": {},
   "outputs": [
    {
     "name": "stdout",
     "output_type": "stream",
     "text": [
      "\n",
      "Value counts - original: 176\n",
      "Value counts - lowercase: 176\n"
     ]
    }
   ],
   "source": [
    "analyze_text_case_consistency(df, 'name_country_delivery')\n"
   ]
  },
  {
   "cell_type": "code",
   "execution_count": 31,
   "metadata": {},
   "outputs": [
    {
     "name": "stdout",
     "output_type": "stream",
     "text": [
      "\n",
      "First 5 name_pickup values:\n",
      "0    Germany\n",
      "1    Germany\n",
      "2    Germany\n",
      "3      China\n",
      "4    Germany\n",
      "Name: name_country_delivery, dtype: object\n"
     ]
    }
   ],
   "source": [
    "print(\"\\nFirst 5 name_pickup values:\")\n",
    "print(df['name_country_delivery'].head())"
   ]
  },
  {
   "cell_type": "markdown",
   "metadata": {},
   "source": [
    "### Iso country code delivery analysis"
   ]
  },
  {
   "cell_type": "code",
   "execution_count": 32,
   "metadata": {},
   "outputs": [
    {
     "name": "stdout",
     "output_type": "stream",
     "text": [
      "Total missing values: 27341\n",
      "Missing percentage: 4.16%\n"
     ]
    }
   ],
   "source": [
    "analyze_missing_values(df, 'iso_country_code_delivery')"
   ]
  },
  {
   "cell_type": "code",
   "execution_count": 33,
   "metadata": {},
   "outputs": [
    {
     "data": {
      "text/plain": [
       "0    DE\n",
       "1    DE\n",
       "2    DE\n",
       "3    CN\n",
       "4    DE\n",
       "Name: iso_country_code_delivery, dtype: object"
      ]
     },
     "execution_count": 33,
     "metadata": {},
     "output_type": "execute_result"
    }
   ],
   "source": [
    "df[\"iso_country_code_delivery\"].head()"
   ]
  },
  {
   "cell_type": "code",
   "execution_count": 34,
   "metadata": {},
   "outputs": [
    {
     "data": {
      "text/plain": [
       "array(['DE', 'CN', 'NL', 'MX', 'PL', nan, 'CO', 'GB', 'MY', 'SG', 'AE',\n",
       "       'IT', 'PT', 'AT', 'CH', 'LT', 'CZ', 'JO', 'LU', 'EC', 'BE', 'OM',\n",
       "       'AU', 'IN', 'HK', 'KR', 'NG', 'GH', 'RO', 'HR', 'ID', 'GR', 'JP',\n",
       "       'SI', 'FR', 'LV', 'DK', 'NZ', 'KZ', 'PA', 'ES', 'HU', 'IL', 'SE',\n",
       "       'LK', 'CA', 'CI', 'IE', 'IC', 'MT', 'FI', 'BG', 'RS', 'AO', 'QA',\n",
       "       'CL', 'EG', 'BR', 'BD', 'NO', 'SK', 'DZ', 'PE', 'BB', 'CY', 'AG',\n",
       "       'EE', 'SA', 'MD', 'BH', 'HN', 'MG', 'IS', 'PK', 'BJ', 'DO', 'MA',\n",
       "       'LB', 'AR', 'AL', 'BF', 'AM', 'AZ', 'JM', 'BA', 'PH', 'MV', 'BI',\n",
       "       'GN', 'GP', 'KW', 'KV', 'MU', 'GF', 'SC', 'MM', 'MR', 'KE', 'SV',\n",
       "       'RE', 'MK', 'PY', 'MZ', 'IQ', 'CR', 'FJ', 'IM', 'BO', 'CV', 'GE',\n",
       "       'LI', 'SN', 'CM', 'ME', 'MO', 'KH', 'NI', 'KG', 'LY', 'GT', 'NC',\n",
       "       'HT', 'PF', 'PR', 'ET', 'MW', 'BW', 'MN', 'LC', 'MQ', 'TG', 'BS',\n",
       "       'GI', 'MC', 'SL', 'NP', 'CG', 'NE', 'ML', 'KY', 'SR', 'DM', 'AW',\n",
       "       'SD', 'ER', 'GW', 'SM', 'BN', 'AF', 'GM', 'GY', 'LA', 'GA', 'GG',\n",
       "       'DJ', 'AD', 'GD', 'RW', 'CU', 'JE', 'PG', 'GL', 'FO', 'BZ', 'TC',\n",
       "       'TD', 'BM', 'CD', 'LR', 'BT', 'GU', 'KN', 'CF', 'GQ', 'AI', 'PW'],\n",
       "      dtype=object)"
      ]
     },
     "execution_count": 34,
     "metadata": {},
     "output_type": "execute_result"
    }
   ],
   "source": [
    "df['iso_country_code_delivery'].unique()"
   ]
  },
  {
   "cell_type": "code",
   "execution_count": 35,
   "metadata": {},
   "outputs": [
    {
     "name": "stdout",
     "output_type": "stream",
     "text": [
      "\n",
      "Value counts - original: 175\n",
      "Value counts - lowercase: 175\n"
     ]
    }
   ],
   "source": [
    "analyze_text_case_consistency(df, 'iso_country_code_delivery')"
   ]
  },
  {
   "cell_type": "markdown",
   "metadata": {},
   "source": [
    "### Delivery continent analysis"
   ]
  },
  {
   "cell_type": "code",
   "execution_count": 36,
   "metadata": {},
   "outputs": [
    {
     "name": "stdout",
     "output_type": "stream",
     "text": [
      "Total missing values: 27321\n",
      "Missing percentage: 4.16%\n"
     ]
    }
   ],
   "source": [
    "analyze_missing_values(df, 'continent_delivery')"
   ]
  },
  {
   "cell_type": "markdown",
   "metadata": {},
   "source": [
    "The format is respected across the unique values."
   ]
  },
  {
   "cell_type": "code",
   "execution_count": 37,
   "metadata": {},
   "outputs": [
    {
     "name": "stdout",
     "output_type": "stream",
     "text": [
      "['Europe' 'Asia' 'America' nan 'Australia' 'Africa']\n"
     ]
    }
   ],
   "source": [
    "print(df['continent_delivery'].unique())"
   ]
  },
  {
   "cell_type": "markdown",
   "metadata": {},
   "source": [
    "### EU delivery analysis"
   ]
  },
  {
   "cell_type": "code",
   "execution_count": 38,
   "metadata": {},
   "outputs": [
    {
     "name": "stdout",
     "output_type": "stream",
     "text": [
      "Total missing values: 27321\n",
      "Missing percentage: 4.16%\n"
     ]
    }
   ],
   "source": [
    "analyze_missing_values(df, 'EU_delivery')"
   ]
  },
  {
   "cell_type": "markdown",
   "metadata": {},
   "source": [
    "It's boolean."
   ]
  },
  {
   "cell_type": "code",
   "execution_count": 39,
   "metadata": {},
   "outputs": [
    {
     "name": "stdout",
     "output_type": "stream",
     "text": [
      "[ 1.  0. nan]\n"
     ]
    }
   ],
   "source": [
    "print(df['EU_delivery'].unique())"
   ]
  },
  {
   "cell_type": "markdown",
   "metadata": {},
   "source": [
    "### Domain name analysis"
   ]
  },
  {
   "cell_type": "code",
   "execution_count": 40,
   "metadata": {},
   "outputs": [
    {
     "name": "stdout",
     "output_type": "stream",
     "text": [
      "Total missing values: 0\n",
      "Missing percentage: 0.00%\n"
     ]
    }
   ],
   "source": [
    "analyze_missing_values(df, 'domain_name_delivery')"
   ]
  },
  {
   "cell_type": "markdown",
   "metadata": {},
   "source": [
    "The nomain name has an established format which is respected."
   ]
  },
  {
   "cell_type": "code",
   "execution_count": 41,
   "metadata": {},
   "outputs": [
    {
     "name": "stdout",
     "output_type": "stream",
     "text": [
      "['DE' 'ES' 'FR' 'CH' 'BE' 'AT' 'NL']\n"
     ]
    }
   ],
   "source": [
    "print(df['domain_name_delivery'].unique())"
   ]
  },
  {
   "cell_type": "markdown",
   "metadata": {},
   "source": [
    "### Postal code pickup analysis"
   ]
  },
  {
   "cell_type": "code",
   "execution_count": 42,
   "metadata": {},
   "outputs": [
    {
     "name": "stdout",
     "output_type": "stream",
     "text": [
      "Total missing values: 1116\n",
      "Missing percentage: 0.17%\n"
     ]
    }
   ],
   "source": [
    "analyze_missing_values(df, 'postal_code_pickup')"
   ]
  },
  {
   "cell_type": "code",
   "execution_count": 43,
   "metadata": {},
   "outputs": [
    {
     "name": "stdout",
     "output_type": "stream",
     "text": [
      "Postal codes with letters - original count: 1194\n",
      "Postal codes with letters - lowercase count: 1193\n",
      "\n",
      "Case inconsistencies found:\n",
      "\n",
      "Variants for 's60 1bx':\n",
      "['s60 1bx' 'S60 1BX']\n"
     ]
    }
   ],
   "source": [
    "analyze_postal_code(df, 'postal_code_pickup')"
   ]
  },
  {
   "cell_type": "code",
   "execution_count": 44,
   "metadata": {},
   "outputs": [],
   "source": [
    "df['postal_code_pickup'] = df['postal_code_pickup'].apply(standardize_postal_code)"
   ]
  },
  {
   "cell_type": "markdown",
   "metadata": {},
   "source": [
    "### City pickup analysis"
   ]
  },
  {
   "cell_type": "code",
   "execution_count": 45,
   "metadata": {},
   "outputs": [
    {
     "name": "stdout",
     "output_type": "stream",
     "text": [
      "Total missing values: 1\n",
      "Missing percentage: 0.00%\n"
     ]
    }
   ],
   "source": [
    "analyze_missing_values(df, 'city_pickup')"
   ]
  },
  {
   "cell_type": "code",
   "execution_count": 46,
   "metadata": {},
   "outputs": [
    {
     "name": "stdout",
     "output_type": "stream",
     "text": [
      "\n",
      "Value counts - original: 13147\n",
      "Value counts - lowercase: 11817\n",
      "\n",
      "Case inconsistencies found:\n",
      "\n",
      "Variants for 'hamburg':\n",
      "['Hamburg' 'HAMBURG' 'hamburg' 'HAmburg']\n",
      "\n",
      "Variants for 'kiel':\n",
      "['Kiel' 'KIEL']\n",
      "\n",
      "Variants for 'berlin':\n",
      "['Berlin' 'BERLIN']\n",
      "\n",
      "Variants for 'bremen':\n",
      "['Bremen' 'BREMEN' 'bremen']\n",
      "\n",
      "Variants for 'köln':\n",
      "['Köln' 'köln' 'KÖLN']\n"
     ]
    }
   ],
   "source": [
    "analyze_text_case_consistency(df, 'city_pickup')"
   ]
  },
  {
   "cell_type": "code",
   "execution_count": 47,
   "metadata": {},
   "outputs": [],
   "source": [
    "df['city_pickup'] = df['city_pickup'].str.lower().str.title()"
   ]
  },
  {
   "cell_type": "markdown",
   "metadata": {},
   "source": [
    "### Name Service Analysis"
   ]
  },
  {
   "cell_type": "code",
   "execution_count": 48,
   "metadata": {},
   "outputs": [
    {
     "name": "stdout",
     "output_type": "stream",
     "text": [
      "Total missing values: 0\n",
      "Missing percentage: 0.00%\n"
     ]
    }
   ],
   "source": [
    "analyze_missing_values(df, 'name_service')"
   ]
  },
  {
   "cell_type": "code",
   "execution_count": 49,
   "metadata": {},
   "outputs": [
    {
     "name": "stdout",
     "output_type": "stream",
     "text": [
      "\n",
      "Value counts - original: 258\n",
      "Value counts - lowercase: 253\n",
      "\n",
      "Case inconsistencies found:\n",
      "\n",
      "Variants for 'express national':\n",
      "['Express National' 'Express national']\n",
      "\n",
      "Variants for 'international economy':\n",
      "['international economy' 'International Economy']\n",
      "\n",
      "Variants for 'express 12:00 national':\n",
      "['Express 12:00 National' 'Express 12:00 national']\n",
      "\n",
      "Variants for 'normal parcel international':\n",
      "['Normal Parcel International' 'Normal Parcel international']\n",
      "\n",
      "Variants for 'express 12:00 import':\n",
      "['Express 12:00 Import' 'EXPRESS 12:00 Import']\n"
     ]
    }
   ],
   "source": [
    "analyze_text_case_consistency(df, 'name_service')"
   ]
  },
  {
   "cell_type": "code",
   "execution_count": 50,
   "metadata": {},
   "outputs": [],
   "source": [
    "df['name_service'] = df['name_service'].str.lower().str.title()"
   ]
  },
  {
   "cell_type": "markdown",
   "metadata": {},
   "source": [
    "### Service Type analysis"
   ]
  },
  {
   "cell_type": "code",
   "execution_count": 51,
   "metadata": {},
   "outputs": [
    {
     "name": "stdout",
     "output_type": "stream",
     "text": [
      "Total missing values: 0\n",
      "Missing percentage: 0.00%\n"
     ]
    }
   ],
   "source": [
    "analyze_missing_values(df, 'service_type')"
   ]
  },
  {
   "cell_type": "markdown",
   "metadata": {},
   "source": [
    "The format is stardard across all entries."
   ]
  },
  {
   "cell_type": "code",
   "execution_count": 52,
   "metadata": {},
   "outputs": [
    {
     "data": {
      "text/plain": [
       "array(['Standard', 'Express', 'Import', 'Third_Country', 'Special'],\n",
       "      dtype=object)"
      ]
     },
     "execution_count": 52,
     "metadata": {},
     "output_type": "execute_result"
    }
   ],
   "source": [
    "df['service_type'].unique()"
   ]
  },
  {
   "cell_type": "markdown",
   "metadata": {},
   "source": [
    "### Transport type analysis"
   ]
  },
  {
   "cell_type": "code",
   "execution_count": 53,
   "metadata": {},
   "outputs": [
    {
     "name": "stdout",
     "output_type": "stream",
     "text": [
      "Total missing values: 0\n",
      "Missing percentage: 0.00%\n"
     ]
    }
   ],
   "source": [
    "analyze_missing_values(df, 'transport_type')"
   ]
  },
  {
   "cell_type": "markdown",
   "metadata": {},
   "source": [
    "The format is standard across entries."
   ]
  },
  {
   "cell_type": "code",
   "execution_count": 54,
   "metadata": {},
   "outputs": [
    {
     "data": {
      "text/plain": [
       "array(['Standard', 'Express', 'Standard_Palette', 'Express_Palette',\n",
       "       'Special'], dtype=object)"
      ]
     },
     "execution_count": 54,
     "metadata": {},
     "output_type": "execute_result"
    }
   ],
   "source": [
    "df['transport_type'].unique()"
   ]
  },
  {
   "cell_type": "markdown",
   "metadata": {},
   "source": [
    "### Name Carrier analysis"
   ]
  },
  {
   "cell_type": "code",
   "execution_count": 55,
   "metadata": {},
   "outputs": [
    {
     "name": "stdout",
     "output_type": "stream",
     "text": [
      "Total missing values: 0\n",
      "Missing percentage: 0.00%\n"
     ]
    }
   ],
   "source": [
    "analyze_missing_values(df, 'name_carrier')"
   ]
  },
  {
   "cell_type": "markdown",
   "metadata": {},
   "source": [
    "The format is consistent across all the instances."
   ]
  },
  {
   "cell_type": "code",
   "execution_count": 56,
   "metadata": {},
   "outputs": [
    {
     "data": {
      "text/plain": [
       "array(['UPS', 'FedEx', 'TNT', 'DPD', 'DSV Road', 'DHL', 'DHL S', 'GLS',\n",
       "       'Der Kurier', 'Aramex', 'Correos', 'Chronopost', 'Bpost',\n",
       "       'Post AT', 'SkyNet'], dtype=object)"
      ]
     },
     "execution_count": 56,
     "metadata": {},
     "output_type": "execute_result"
    }
   ],
   "source": [
    "df['name_carrier'].unique()"
   ]
  },
  {
   "cell_type": "markdown",
   "metadata": {},
   "source": [
    "### lms plus analysis"
   ]
  },
  {
   "cell_type": "code",
   "execution_count": 57,
   "metadata": {},
   "outputs": [
    {
     "name": "stdout",
     "output_type": "stream",
     "text": [
      "Total missing values: 0\n",
      "Missing percentage: 0.00%\n"
     ]
    }
   ],
   "source": [
    "analyze_missing_values(df, 'lms_plus')"
   ]
  },
  {
   "cell_type": "markdown",
   "metadata": {},
   "source": [
    "The values are consistent."
   ]
  },
  {
   "cell_type": "code",
   "execution_count": 58,
   "metadata": {},
   "outputs": [
    {
     "data": {
      "text/plain": [
       "array([0, 1])"
      ]
     },
     "execution_count": 58,
     "metadata": {},
     "output_type": "execute_result"
    }
   ],
   "source": [
    "df['lms_plus'].unique()"
   ]
  },
  {
   "cell_type": "markdown",
   "metadata": {},
   "source": [
    "### Is Master analysis"
   ]
  },
  {
   "cell_type": "code",
   "execution_count": 59,
   "metadata": {},
   "outputs": [
    {
     "name": "stdout",
     "output_type": "stream",
     "text": [
      "Total missing values: 0\n",
      "Missing percentage: 0.00%\n"
     ]
    }
   ],
   "source": [
    "analyze_missing_values(df, 'is_master_customer')"
   ]
  },
  {
   "cell_type": "markdown",
   "metadata": {},
   "source": [
    "The boolean consistency is respected."
   ]
  },
  {
   "cell_type": "code",
   "execution_count": 60,
   "metadata": {},
   "outputs": [
    {
     "data": {
      "text/plain": [
       "array([ True, False])"
      ]
     },
     "execution_count": 60,
     "metadata": {},
     "output_type": "execute_result"
    }
   ],
   "source": [
    "df['is_master_customer'].unique()"
   ]
  },
  {
   "cell_type": "markdown",
   "metadata": {},
   "source": [
    "### Drop non needed features"
   ]
  },
  {
   "cell_type": "markdown",
   "metadata": {},
   "source": [
    "They won't be seen again since they were registered in the past, and this is not a time series problem."
   ]
  },
  {
   "cell_type": "code",
   "execution_count": 61,
   "metadata": {},
   "outputs": [],
   "source": [
    "date_columns_to_drop = [col for col in df.columns if 'full_date' in col or 'created_date' in col]\n",
    "\n",
    "# Drop the columns\n",
    "df = df.drop(columns=date_columns_to_drop)"
   ]
  },
  {
   "cell_type": "code",
   "execution_count": 62,
   "metadata": {},
   "outputs": [
    {
     "data": {
      "text/plain": [
       "Index(['shipment_id', 'customer_price', 'expected_carrier_price',\n",
       "       'final_carrier_price', 'weight', 'shipment_type', 'insurance_type',\n",
       "       'customer_id', 'domain_name', 'booking_state', 'lms_plus', 'exworks_id',\n",
       "       'margin', 'domain_name_customer', 'main_industry_name_customer',\n",
       "       'industry_sector_name_customer', 'segmentation_customer',\n",
       "       'sequence_number_customer', 'structure_number_customer',\n",
       "       'is_master_customer', 'domain_name_delivery', 'postal_code_delivery',\n",
       "       'city_delivery', 'name_country_delivery', 'iso_country_code_delivery',\n",
       "       'continent_delivery', 'EU_delivery', 'domain_name_pickup',\n",
       "       'postal_code_pickup', 'city_pickup', 'name_country_pickup',\n",
       "       'iso_country_code_pickup', 'continent_pickup', 'EU_pickup',\n",
       "       'name_service', 'service_type', 'transport_type', 'domain_name_service',\n",
       "       'name_carrier', 'domain_name_carrier', 'year_pickup_date',\n",
       "       'month_pickup_date', 'quarter_pickup_date', 'year_delivery_date',\n",
       "       'month_delivery_date', 'quarter_delivery_date', 'year_real_pickup_date',\n",
       "       'month_real_pickup_date', 'quarter_real_pickup_date',\n",
       "       'year_real_delivery_date', 'month_real_delivery_date',\n",
       "       'quarter_real_delivery_date'],\n",
       "      dtype='object')"
      ]
     },
     "execution_count": 62,
     "metadata": {},
     "output_type": "execute_result"
    }
   ],
   "source": [
    "df.columns"
   ]
  },
  {
   "cell_type": "markdown",
   "metadata": {},
   "source": [
    "### Save dataset"
   ]
  },
  {
   "cell_type": "code",
   "execution_count": 63,
   "metadata": {},
   "outputs": [],
   "source": [
    "# Save the flattened dataset with proper formatting\n",
    "output_file = '../datasets/preprocessed_flattened_dataset.csv'\n",
    "\n",
    "# Save to CSV\n",
    "df.to_csv(output_file, index=False)"
   ]
  }
 ],
 "metadata": {
  "kernelspec": {
   "display_name": "Python 3",
   "language": "python",
   "name": "python3"
  },
  "language_info": {
   "codemirror_mode": {
    "name": "ipython",
    "version": 3
   },
   "file_extension": ".py",
   "mimetype": "text/x-python",
   "name": "python",
   "nbconvert_exporter": "python",
   "pygments_lexer": "ipython3",
   "version": "3.13.0"
  }
 },
 "nbformat": 4,
 "nbformat_minor": 2
}
