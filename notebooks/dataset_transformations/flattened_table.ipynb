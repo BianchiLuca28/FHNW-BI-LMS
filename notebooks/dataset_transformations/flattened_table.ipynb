{
 "cells": [
  {
   "cell_type": "code",
   "execution_count": 4,
   "metadata": {},
   "outputs": [],
   "source": [
    "# Import required libraries\n",
    "import pandas as pd\n",
    "import numpy as np"
   ]
  },
  {
   "cell_type": "code",
   "execution_count": 5,
   "metadata": {},
   "outputs": [],
   "source": [
    "# Load all tables from the Excel file\n",
    "excel_file = '../datasets/star_schema_dataset.xlsx'"
   ]
  },
  {
   "cell_type": "code",
   "execution_count": 6,
   "metadata": {},
   "outputs": [],
   "source": [
    "# Read fact and dimension tables\n",
    "fact_shipment = pd.read_excel(excel_file, sheet_name='fact_shipment')\n",
    "dim_customer = pd.read_excel(excel_file, sheet_name='dim_customer')\n",
    "dim_delivery_address = pd.read_excel(excel_file, sheet_name='dim_delivery_address')\n",
    "dim_pickup_address = pd.read_excel(excel_file, sheet_name='dim_pickup_address')\n",
    "dim_date = pd.read_excel(excel_file, sheet_name='dim_date')\n",
    "dim_service = pd.read_excel(excel_file, sheet_name='dim_service')\n",
    "dim_carrier = pd.read_excel(excel_file, sheet_name='dim_carrier')\n",
    "dim_country = pd.read_excel(excel_file, sheet_name='dim_country')"
   ]
  },
  {
   "cell_type": "markdown",
   "metadata": {},
   "source": [
    "### Initial briefing"
   ]
  },
  {
   "cell_type": "code",
   "execution_count": 7,
   "metadata": {},
   "outputs": [
    {
     "name": "stdout",
     "output_type": "stream",
     "text": [
      "Initial table dimensions:\n",
      "Fact Shipment: (656802, 21)\n",
      "Customer: (7935, 9)\n",
      "Delivery Address: (712272, 6)\n",
      "Pickup Address: (712272, 6)\n",
      "Date: (617, 5)\n",
      "Service: (2119, 7)\n",
      "Carrier: (237, 4)\n",
      "Country: (200, 5)\n",
      "\n"
     ]
    }
   ],
   "source": [
    "# Print dimensions of each table for verification\n",
    "print(\"Initial table dimensions:\")\n",
    "print(f\"Fact Shipment: {fact_shipment.shape}\")\n",
    "print(f\"Customer: {dim_customer.shape}\")\n",
    "print(f\"Delivery Address: {dim_delivery_address.shape}\")\n",
    "print(f\"Pickup Address: {dim_pickup_address.shape}\")\n",
    "print(f\"Date: {dim_date.shape}\")\n",
    "print(f\"Service: {dim_service.shape}\")\n",
    "print(f\"Carrier: {dim_carrier.shape}\")\n",
    "print(f\"Country: {dim_country.shape}\\n\")"
   ]
  },
  {
   "cell_type": "code",
   "execution_count": 8,
   "metadata": {},
   "outputs": [
    {
     "data": {
      "text/plain": [
       "Index(['shipment_id', 'customer_price', 'expected_carrier_price',\n",
       "       'final_carrier_price', 'weight', 'shipment_type', 'insurance_type',\n",
       "       'customer_id', 'pickup_address_id', 'delivery_address_id', 'service_id',\n",
       "       'domain_name', 'booking_state', 'lms_plus', 'exworks_id', 'margin',\n",
       "       'created_date_id', 'pickup_date_id', 'real_pickup_date_id',\n",
       "       'delivery_date_id', 'real_delivery_date_id'],\n",
       "      dtype='object')"
      ]
     },
     "execution_count": 8,
     "metadata": {},
     "output_type": "execute_result"
    }
   ],
   "source": [
    "fact_shipment.columns"
   ]
  },
  {
   "cell_type": "markdown",
   "metadata": {},
   "source": [
    "### Some preprocessing"
   ]
  },
  {
   "cell_type": "markdown",
   "metadata": {},
   "source": [
    "Since the name column will have to be renamed each time for clarity, we do it to the original dimension of country."
   ]
  },
  {
   "cell_type": "code",
   "execution_count": 9,
   "metadata": {},
   "outputs": [],
   "source": [
    "dim_country = dim_country.rename(columns={'name': 'name_country'})"
   ]
  },
  {
   "cell_type": "code",
   "execution_count": 10,
   "metadata": {},
   "outputs": [
    {
     "data": {
      "text/plain": [
       "Index(['country_id', 'name_country', 'iso_country_code', 'continent', 'EU'], dtype='object')"
      ]
     },
     "execution_count": 10,
     "metadata": {},
     "output_type": "execute_result"
    }
   ],
   "source": [
    "dim_country.columns"
   ]
  },
  {
   "cell_type": "markdown",
   "metadata": {},
   "source": [
    "### Shipment and customer merging"
   ]
  },
  {
   "cell_type": "code",
   "execution_count": 11,
   "metadata": {},
   "outputs": [
    {
     "name": "stdout",
     "output_type": "stream",
     "text": [
      "Shipment columns: Index(['shipment_id', 'customer_price', 'expected_carrier_price',\n",
      "       'final_carrier_price', 'weight', 'shipment_type', 'insurance_type',\n",
      "       'customer_id', 'pickup_address_id', 'delivery_address_id', 'service_id',\n",
      "       'domain_name', 'booking_state', 'lms_plus', 'exworks_id', 'margin',\n",
      "       'created_date_id', 'pickup_date_id', 'real_pickup_date_id',\n",
      "       'delivery_date_id', 'real_delivery_date_id'],\n",
      "      dtype='object')\n",
      "customer columns: Index(['customer_id', 'created_date', 'domain_name', 'main_industry_name',\n",
      "       'industry_sector_name', 'segmentation', 'sequence_number',\n",
      "       'structure_number', 'is_master'],\n",
      "      dtype='object')\n"
     ]
    }
   ],
   "source": [
    "print(f\"Shipment columns: {fact_shipment.columns}\")\n",
    "print(f\"customer columns: {dim_customer.columns}\")\n"
   ]
  },
  {
   "cell_type": "code",
   "execution_count": 12,
   "metadata": {},
   "outputs": [
    {
     "name": "stdout",
     "output_type": "stream",
     "text": [
      "Merging customer dimension...\n",
      "Shape after customer merge: (656802, 29)\n",
      "\n"
     ]
    }
   ],
   "source": [
    "print(\"Merging customer dimension...\")\n",
    "\n",
    "# Create a dictionary to rename all customer columns except customer_id\n",
    "customer_rename = {\n",
    "    col: f\"{col}_customer\" \n",
    "    for col in dim_customer.columns \n",
    "    if col != 'customer_id'\n",
    "}\n",
    "\n",
    "# Rename customer columns\n",
    "dim_customer_renamed = dim_customer.copy()\n",
    "dim_customer_renamed = dim_customer_renamed.rename(columns=customer_rename)\n",
    "\n",
    "# Merge with fact_shipment\n",
    "df = fact_shipment.merge(\n",
    "    dim_customer_renamed,\n",
    "    on='customer_id',\n",
    "    how='left'\n",
    ")\n",
    "\n",
    "print(f\"Shape after customer merge: {df.shape}\\n\")"
   ]
  },
  {
   "cell_type": "code",
   "execution_count": 13,
   "metadata": {},
   "outputs": [
    {
     "data": {
      "text/plain": [
       "Index(['shipment_id', 'customer_price', 'expected_carrier_price',\n",
       "       'final_carrier_price', 'weight', 'shipment_type', 'insurance_type',\n",
       "       'customer_id', 'pickup_address_id', 'delivery_address_id', 'service_id',\n",
       "       'domain_name', 'booking_state', 'lms_plus', 'exworks_id', 'margin',\n",
       "       'created_date_id', 'pickup_date_id', 'real_pickup_date_id',\n",
       "       'delivery_date_id', 'real_delivery_date_id', 'created_date_customer',\n",
       "       'domain_name_customer', 'main_industry_name_customer',\n",
       "       'industry_sector_name_customer', 'segmentation_customer',\n",
       "       'sequence_number_customer', 'structure_number_customer',\n",
       "       'is_master_customer'],\n",
       "      dtype='object')"
      ]
     },
     "execution_count": 13,
     "metadata": {},
     "output_type": "execute_result"
    }
   ],
   "source": [
    "df.columns"
   ]
  },
  {
   "cell_type": "markdown",
   "metadata": {},
   "source": [
    "### Delivery, country and shipment mergin"
   ]
  },
  {
   "cell_type": "code",
   "execution_count": 14,
   "metadata": {},
   "outputs": [
    {
     "name": "stdout",
     "output_type": "stream",
     "text": [
      "Country columns: Index(['country_id', 'name_country', 'iso_country_code', 'continent', 'EU'], dtype='object')\n",
      "Delivery columns: Index(['delivery_address_id', 'created_date', 'domain_name', 'country_id',\n",
      "       'postal_code', 'city'],\n",
      "      dtype='object')\n"
     ]
    }
   ],
   "source": [
    "print(f\"Country columns: {dim_country.columns}\")\n",
    "print(f\"Delivery columns: {dim_delivery_address.columns}\")\n"
   ]
  },
  {
   "cell_type": "code",
   "execution_count": 15,
   "metadata": {},
   "outputs": [
    {
     "name": "stdout",
     "output_type": "stream",
     "text": [
      "Merging delivery address and its country...\n"
     ]
    }
   ],
   "source": [
    "print(\"Merging delivery address and its country...\")\n",
    "\n",
    "# Then merge delivery address with renamed country\n",
    "delivery_with_country = dim_delivery_address.merge(\n",
    "    dim_country,\n",
    "    on='country_id',\n",
    "    how='left'\n",
    ")\n",
    "\n",
    "delivery_with_country = delivery_with_country.drop('country_id', axis=1)"
   ]
  },
  {
   "cell_type": "code",
   "execution_count": 16,
   "metadata": {},
   "outputs": [
    {
     "data": {
      "text/plain": [
       "Index(['delivery_address_id', 'created_date', 'domain_name', 'postal_code',\n",
       "       'city', 'name_country', 'iso_country_code', 'continent', 'EU'],\n",
       "      dtype='object')"
      ]
     },
     "execution_count": 16,
     "metadata": {},
     "output_type": "execute_result"
    }
   ],
   "source": [
    "delivery_with_country.columns"
   ]
  },
  {
   "cell_type": "code",
   "execution_count": 17,
   "metadata": {},
   "outputs": [
    {
     "name": "stdout",
     "output_type": "stream",
     "text": [
      "Index(['delivery_address_id', 'created_date_delivery', 'domain_name_delivery',\n",
      "       'postal_code_delivery', 'city_delivery', 'name_country_delivery',\n",
      "       'iso_country_code_delivery', 'continent_delivery', 'EU_delivery'],\n",
      "      dtype='object')\n"
     ]
    }
   ],
   "source": [
    "# Create dictionary to rename all columns except delivery_address_id\n",
    "delivery_rename = {\n",
    "    col: f\"{col}_delivery\" \n",
    "    for col in delivery_with_country.columns \n",
    "    if col != 'delivery_address_id'\n",
    "}\n",
    "\n",
    "# Rename the columns\n",
    "delivery_with_country = delivery_with_country.rename(columns=delivery_rename)\n",
    "print(delivery_with_country.columns)\n"
   ]
  },
  {
   "cell_type": "code",
   "execution_count": 18,
   "metadata": {},
   "outputs": [
    {
     "name": "stdout",
     "output_type": "stream",
     "text": [
      "Shape after delivery address merges: (656802, 36)\n",
      "\n"
     ]
    }
   ],
   "source": [
    "# Then merge the result with the main dataframe\n",
    "df = df.merge(\n",
    "    delivery_with_country,\n",
    "    on='delivery_address_id',\n",
    "    how='left'\n",
    ")\n",
    "\n",
    "df = df.drop('delivery_address_id', axis=1)\n",
    "print(f\"Shape after delivery address merges: {df.shape}\\n\")"
   ]
  },
  {
   "cell_type": "markdown",
   "metadata": {},
   "source": [
    "### Pickup, country and df merge"
   ]
  },
  {
   "cell_type": "code",
   "execution_count": 19,
   "metadata": {},
   "outputs": [
    {
     "name": "stdout",
     "output_type": "stream",
     "text": [
      "Country columns: Index(['country_id', 'name_country', 'iso_country_code', 'continent', 'EU'], dtype='object')\n",
      "Pickup columns: Index(['pickup_address_id', 'created_date', 'domain_name', 'country_id',\n",
      "       'postal_code', 'city'],\n",
      "      dtype='object')\n"
     ]
    }
   ],
   "source": [
    "print(f\"Country columns: {dim_country.columns}\")\n",
    "print(f\"Pickup columns: {dim_pickup_address.columns}\")"
   ]
  },
  {
   "cell_type": "code",
   "execution_count": 20,
   "metadata": {},
   "outputs": [
    {
     "name": "stdout",
     "output_type": "stream",
     "text": [
      "Merging pickup address and its country...\n"
     ]
    }
   ],
   "source": [
    "print(\"Merging pickup address and its country...\")\n",
    "\n",
    "# Then merge pickup address with renamed country\n",
    "pickup_with_country = dim_pickup_address.merge(\n",
    "    dim_country,\n",
    "    on='country_id',\n",
    "    how='left'\n",
    ")\n",
    "\n",
    "pickup_with_country = pickup_with_country.drop('country_id', axis=1)"
   ]
  },
  {
   "cell_type": "code",
   "execution_count": 21,
   "metadata": {},
   "outputs": [
    {
     "data": {
      "text/plain": [
       "Index(['pickup_address_id', 'created_date', 'domain_name', 'postal_code',\n",
       "       'city', 'name_country', 'iso_country_code', 'continent', 'EU'],\n",
       "      dtype='object')"
      ]
     },
     "execution_count": 21,
     "metadata": {},
     "output_type": "execute_result"
    }
   ],
   "source": [
    "pickup_with_country.columns"
   ]
  },
  {
   "cell_type": "code",
   "execution_count": 22,
   "metadata": {},
   "outputs": [],
   "source": [
    "# Create dictionary to rename all columns except delivery_address_id\n",
    "pickup_rename = {\n",
    "    col: f\"{col}_pickup\" \n",
    "    for col in pickup_with_country.columns \n",
    "    if col != 'pickup_address_id'\n",
    "}\n",
    "\n",
    "# Rename the columns\n",
    "pickup_with_country = pickup_with_country.rename(columns=pickup_rename)\n"
   ]
  },
  {
   "cell_type": "code",
   "execution_count": 23,
   "metadata": {},
   "outputs": [
    {
     "name": "stdout",
     "output_type": "stream",
     "text": [
      "Index(['pickup_address_id', 'created_date_pickup', 'domain_name_pickup',\n",
      "       'postal_code_pickup', 'city_pickup', 'name_country_pickup',\n",
      "       'iso_country_code_pickup', 'continent_pickup', 'EU_pickup'],\n",
      "      dtype='object')\n"
     ]
    }
   ],
   "source": [
    "print(pickup_with_country.columns)"
   ]
  },
  {
   "cell_type": "code",
   "execution_count": 24,
   "metadata": {},
   "outputs": [
    {
     "name": "stdout",
     "output_type": "stream",
     "text": [
      "Shape after delivery address merges: (656802, 43)\n",
      "\n"
     ]
    }
   ],
   "source": [
    "# Then merge the result with the main dataframe\n",
    "df = df.merge(\n",
    "    pickup_with_country,\n",
    "    on='pickup_address_id',\n",
    "    how='left'\n",
    ")\n",
    "\n",
    "df = df.drop('pickup_address_id', axis=1)\n",
    "print(f\"Shape after delivery address merges: {df.shape}\\n\")"
   ]
  },
  {
   "cell_type": "code",
   "execution_count": 25,
   "metadata": {},
   "outputs": [
    {
     "data": {
      "text/plain": [
       "Index(['shipment_id', 'customer_price', 'expected_carrier_price',\n",
       "       'final_carrier_price', 'weight', 'shipment_type', 'insurance_type',\n",
       "       'customer_id', 'service_id', 'domain_name', 'booking_state', 'lms_plus',\n",
       "       'exworks_id', 'margin', 'created_date_id', 'pickup_date_id',\n",
       "       'real_pickup_date_id', 'delivery_date_id', 'real_delivery_date_id',\n",
       "       'created_date_customer', 'domain_name_customer',\n",
       "       'main_industry_name_customer', 'industry_sector_name_customer',\n",
       "       'segmentation_customer', 'sequence_number_customer',\n",
       "       'structure_number_customer', 'is_master_customer',\n",
       "       'created_date_delivery', 'domain_name_delivery', 'postal_code_delivery',\n",
       "       'city_delivery', 'name_country_delivery', 'iso_country_code_delivery',\n",
       "       'continent_delivery', 'EU_delivery', 'created_date_pickup',\n",
       "       'domain_name_pickup', 'postal_code_pickup', 'city_pickup',\n",
       "       'name_country_pickup', 'iso_country_code_pickup', 'continent_pickup',\n",
       "       'EU_pickup'],\n",
       "      dtype='object')"
      ]
     },
     "execution_count": 25,
     "metadata": {},
     "output_type": "execute_result"
    }
   ],
   "source": [
    "df.columns"
   ]
  },
  {
   "cell_type": "markdown",
   "metadata": {},
   "source": [
    "### Service and carrier dimensions merging"
   ]
  },
  {
   "cell_type": "code",
   "execution_count": 26,
   "metadata": {},
   "outputs": [
    {
     "name": "stdout",
     "output_type": "stream",
     "text": [
      "Service columns: Index(['service_id', 'created_date', 'name', 'service_type', 'transport_type',\n",
      "       'carrier_id', 'domain_name'],\n",
      "      dtype='object')\n",
      "carrier columns: Index(['carrier_id', 'name', 'created_date', 'domain_name'], dtype='object')\n"
     ]
    }
   ],
   "source": [
    "print(f\"Service columns: {dim_service.columns}\")\n",
    "print(f\"carrier columns: {dim_carrier.columns}\")"
   ]
  },
  {
   "cell_type": "code",
   "execution_count": 27,
   "metadata": {},
   "outputs": [],
   "source": [
    "carrier_rename = {\n",
    "   col: f\"{col}_carrier\" \n",
    "   for col in dim_carrier.columns \n",
    "   if col != 'carrier_id'\n",
    "}"
   ]
  },
  {
   "cell_type": "code",
   "execution_count": 28,
   "metadata": {},
   "outputs": [
    {
     "name": "stdout",
     "output_type": "stream",
     "text": [
      "{'name': 'name_carrier', 'created_date': 'created_date_carrier', 'domain_name': 'domain_name_carrier'}\n"
     ]
    }
   ],
   "source": [
    "print(carrier_rename)"
   ]
  },
  {
   "cell_type": "code",
   "execution_count": 29,
   "metadata": {},
   "outputs": [],
   "source": [
    "dim_carrier = dim_carrier.rename(columns=carrier_rename)"
   ]
  },
  {
   "cell_type": "code",
   "execution_count": 30,
   "metadata": {},
   "outputs": [],
   "source": [
    "service_rename = {\n",
    "   col: f\"{col}_service\" \n",
    "   for col in dim_service.columns \n",
    "   if col not in ['service_id', 'service_type', 'transport_type', 'carrier_id']\n",
    "}"
   ]
  },
  {
   "cell_type": "code",
   "execution_count": 31,
   "metadata": {},
   "outputs": [
    {
     "name": "stdout",
     "output_type": "stream",
     "text": [
      "{'created_date': 'created_date_service', 'name': 'name_service', 'domain_name': 'domain_name_service'}\n"
     ]
    }
   ],
   "source": [
    "print(service_rename)"
   ]
  },
  {
   "cell_type": "code",
   "execution_count": 32,
   "metadata": {},
   "outputs": [],
   "source": [
    "dim_service = dim_service.rename(columns=service_rename)"
   ]
  },
  {
   "cell_type": "code",
   "execution_count": 33,
   "metadata": {},
   "outputs": [],
   "source": [
    "service_carrier = dim_service.merge(\n",
    "   dim_carrier,\n",
    "   on='carrier_id',\n",
    "   how='left'\n",
    ")"
   ]
  },
  {
   "cell_type": "code",
   "execution_count": 34,
   "metadata": {},
   "outputs": [
    {
     "name": "stdout",
     "output_type": "stream",
     "text": [
      "Index(['service_id', 'created_date_service', 'name_service', 'service_type',\n",
      "       'transport_type', 'carrier_id', 'domain_name_service', 'name_carrier',\n",
      "       'created_date_carrier', 'domain_name_carrier'],\n",
      "      dtype='object')\n"
     ]
    }
   ],
   "source": [
    "print(service_carrier.columns)"
   ]
  },
  {
   "cell_type": "code",
   "execution_count": 35,
   "metadata": {},
   "outputs": [],
   "source": [
    "service_carrier = service_carrier.drop('carrier_id', axis=1)"
   ]
  },
  {
   "cell_type": "code",
   "execution_count": 36,
   "metadata": {},
   "outputs": [
    {
     "name": "stdout",
     "output_type": "stream",
     "text": [
      "Shape after service and carrier merges: (656802, 50)\n",
      "\n"
     ]
    }
   ],
   "source": [
    "df = df.merge(\n",
    "   service_carrier,\n",
    "   on='service_id',\n",
    "   how='left'\n",
    ")\n",
    "\n",
    "df = df.drop('service_id', axis=1)\n",
    "print(f\"Shape after service and carrier merges: {df.shape}\\n\")"
   ]
  },
  {
   "cell_type": "markdown",
   "metadata": {},
   "source": [
    "### Date dimensions merging"
   ]
  },
  {
   "cell_type": "code",
   "execution_count": 37,
   "metadata": {},
   "outputs": [
    {
     "name": "stdout",
     "output_type": "stream",
     "text": [
      "Index(['full_date', 'year', 'month', 'quarter', 'date_id'], dtype='object')\n"
     ]
    }
   ],
   "source": [
    "print(dim_date.columns)"
   ]
  },
  {
   "cell_type": "code",
   "execution_count": 38,
   "metadata": {},
   "outputs": [
    {
     "name": "stdout",
     "output_type": "stream",
     "text": [
      "Merging date dimensions...\n",
      "Shape after date merges: (656802, 75)\n",
      "\n"
     ]
    }
   ],
   "source": [
    "# Merge date dimensions\n",
    "print(\"Merging date dimensions...\")\n",
    "for date_type in ['created_date', 'pickup_date', 'delivery_date', 'real_pickup_date', 'real_delivery_date']:\n",
    "    date_id_col = f'{date_type}_id'\n",
    "    if date_id_col in df.columns:\n",
    "        df = df.merge(\n",
    "            dim_date,\n",
    "            left_on=date_id_col,\n",
    "            right_on='date_id',\n",
    "            how='left',\n",
    "            suffixes=('', f'_{date_type}')\n",
    "        )\n",
    "        # Rename date columns to avoid confusion\n",
    "        df = df.rename(columns={\n",
    "            'year': f'year_{date_type}',\n",
    "            'month': f'month_{date_type}',\n",
    "            'quarter': f'quarter_{date_type}',\n",
    "            'full_date': f'full_date_{date_type}'\n",
    "        })\n",
    "print(f\"Shape after date merges: {df.shape}\\n\")"
   ]
  },
  {
   "cell_type": "code",
   "execution_count": 39,
   "metadata": {},
   "outputs": [
    {
     "name": "stdout",
     "output_type": "stream",
     "text": [
      "Index(['shipment_id', 'customer_price', 'expected_carrier_price',\n",
      "       'final_carrier_price', 'weight', 'shipment_type', 'insurance_type',\n",
      "       'customer_id', 'domain_name', 'booking_state', 'lms_plus', 'exworks_id',\n",
      "       'margin', 'created_date_id', 'pickup_date_id', 'real_pickup_date_id',\n",
      "       'delivery_date_id', 'real_delivery_date_id', 'created_date_customer',\n",
      "       'domain_name_customer', 'main_industry_name_customer',\n",
      "       'industry_sector_name_customer', 'segmentation_customer',\n",
      "       'sequence_number_customer', 'structure_number_customer',\n",
      "       'is_master_customer', 'created_date_delivery', 'domain_name_delivery',\n",
      "       'postal_code_delivery', 'city_delivery', 'name_country_delivery',\n",
      "       'iso_country_code_delivery', 'continent_delivery', 'EU_delivery',\n",
      "       'created_date_pickup', 'domain_name_pickup', 'postal_code_pickup',\n",
      "       'city_pickup', 'name_country_pickup', 'iso_country_code_pickup',\n",
      "       'continent_pickup', 'EU_pickup', 'created_date_service', 'name_service',\n",
      "       'service_type', 'transport_type', 'domain_name_service', 'name_carrier',\n",
      "       'created_date_carrier', 'domain_name_carrier', 'full_date_created_date',\n",
      "       'year_created_date', 'month_created_date', 'quarter_created_date',\n",
      "       'date_id', 'full_date_pickup_date', 'year_pickup_date',\n",
      "       'month_pickup_date', 'quarter_pickup_date', 'date_id_pickup_date',\n",
      "       'full_date_delivery_date', 'year_delivery_date', 'month_delivery_date',\n",
      "       'quarter_delivery_date', 'date_id_delivery_date',\n",
      "       'full_date_real_pickup_date', 'year_real_pickup_date',\n",
      "       'month_real_pickup_date', 'quarter_real_pickup_date',\n",
      "       'date_id_real_pickup_date', 'full_date_real_delivery_date',\n",
      "       'year_real_delivery_date', 'month_real_delivery_date',\n",
      "       'quarter_real_delivery_date', 'date_id_real_delivery_date'],\n",
      "      dtype='object')\n"
     ]
    }
   ],
   "source": [
    "print(df.columns)"
   ]
  },
  {
   "cell_type": "code",
   "execution_count": 40,
   "metadata": {},
   "outputs": [],
   "source": [
    "# Remove only true ID columns that aren't needed for analysis\n",
    "columns_to_drop = [\n",
    "    'date_id',\n",
    "    'created_date_id', 'pickup_date_id', 'delivery_date_id',\n",
    "    'real_pickup_date_id', 'real_delivery_date_id',\n",
    "    'date_id_pickup_date', 'date_id_delivery_date', \n",
    "    'date_id_real_pickup_date', 'date_id_real_delivery_date'\n",
    "]\n",
    "\n",
    "# Drop ID columns\n",
    "df = df.drop(columns=columns_to_drop, errors='ignore')"
   ]
  },
  {
   "cell_type": "code",
   "execution_count": 41,
   "metadata": {},
   "outputs": [
    {
     "name": "stdout",
     "output_type": "stream",
     "text": [
      "Index(['shipment_id', 'customer_price', 'expected_carrier_price',\n",
      "       'final_carrier_price', 'weight', 'shipment_type', 'insurance_type',\n",
      "       'customer_id', 'domain_name', 'booking_state', 'lms_plus', 'exworks_id',\n",
      "       'margin', 'created_date_customer', 'domain_name_customer',\n",
      "       'main_industry_name_customer', 'industry_sector_name_customer',\n",
      "       'segmentation_customer', 'sequence_number_customer',\n",
      "       'structure_number_customer', 'is_master_customer',\n",
      "       'created_date_delivery', 'domain_name_delivery', 'postal_code_delivery',\n",
      "       'city_delivery', 'name_country_delivery', 'iso_country_code_delivery',\n",
      "       'continent_delivery', 'EU_delivery', 'created_date_pickup',\n",
      "       'domain_name_pickup', 'postal_code_pickup', 'city_pickup',\n",
      "       'name_country_pickup', 'iso_country_code_pickup', 'continent_pickup',\n",
      "       'EU_pickup', 'created_date_service', 'name_service', 'service_type',\n",
      "       'transport_type', 'domain_name_service', 'name_carrier',\n",
      "       'created_date_carrier', 'domain_name_carrier', 'full_date_created_date',\n",
      "       'year_created_date', 'month_created_date', 'quarter_created_date',\n",
      "       'full_date_pickup_date', 'year_pickup_date', 'month_pickup_date',\n",
      "       'quarter_pickup_date', 'full_date_delivery_date', 'year_delivery_date',\n",
      "       'month_delivery_date', 'quarter_delivery_date',\n",
      "       'full_date_real_pickup_date', 'year_real_pickup_date',\n",
      "       'month_real_pickup_date', 'quarter_real_pickup_date',\n",
      "       'full_date_real_delivery_date', 'year_real_delivery_date',\n",
      "       'month_real_delivery_date', 'quarter_real_delivery_date'],\n",
      "      dtype='object')\n"
     ]
    }
   ],
   "source": [
    "print(df.columns)"
   ]
  },
  {
   "cell_type": "markdown",
   "metadata": {},
   "source": [
    "### Saving the dataset"
   ]
  },
  {
   "cell_type": "code",
   "execution_count": 42,
   "metadata": {},
   "outputs": [],
   "source": [
    "# Save the flattened dataset with proper formatting\n",
    "output_file = '../datasets/flattened_dataset.csv'\n",
    "\n",
    "# Save to CSV\n",
    "df.to_csv(output_file, index=False)"
   ]
  }
 ],
 "metadata": {
  "kernelspec": {
   "display_name": "Python 3",
   "language": "python",
   "name": "python3"
  },
  "language_info": {
   "codemirror_mode": {
    "name": "ipython",
    "version": 3
   },
   "file_extension": ".py",
   "mimetype": "text/x-python",
   "name": "python",
   "nbconvert_exporter": "python",
   "pygments_lexer": "ipython3",
   "version": "3.13.0"
  }
 },
 "nbformat": 4,
 "nbformat_minor": 2
}
