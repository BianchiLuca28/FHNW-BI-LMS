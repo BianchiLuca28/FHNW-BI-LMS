{
 "cells": [
  {
   "cell_type": "markdown",
   "metadata": {},
   "source": [
    "In this notebook we take the star schema dataset and we flatten it into a single table, in order to use it for the model prediction task.\n",
    "\n",
    "The process will consist of merging the shipment fact table with the other dimensions, until only one table is left."
   ]
  },
  {
   "cell_type": "markdown",
   "metadata": {},
   "source": [
    "### Library and dataset imports"
   ]
  },
  {
   "cell_type": "markdown",
   "metadata": {},
   "source": [
    "In this section we import the required libraries and the star schema dataset."
   ]
  },
  {
   "cell_type": "code",
   "execution_count": null,
   "metadata": {},
   "outputs": [],
   "source": [
    "import pandas as pd\n",
    "import numpy as np"
   ]
  },
  {
   "cell_type": "code",
   "execution_count": null,
   "metadata": {},
   "outputs": [],
   "source": [
    "excel_file = '../datasets/star_schema_dataset.xlsx'"
   ]
  },
  {
   "cell_type": "code",
   "execution_count": null,
   "metadata": {},
   "outputs": [],
   "source": [
    "# Here we read fact and dimension tables\n",
    "fact_shipment = pd.read_excel(excel_file, sheet_name='fact_shipment')\n",
    "dim_customer = pd.read_excel(excel_file, sheet_name='dim_customer')\n",
    "dim_delivery_address = pd.read_excel(excel_file, sheet_name='dim_delivery_address')\n",
    "dim_pickup_address = pd.read_excel(excel_file, sheet_name='dim_pickup_address')\n",
    "dim_date = pd.read_excel(excel_file, sheet_name='dim_date')\n",
    "dim_service = pd.read_excel(excel_file, sheet_name='dim_service')\n",
    "dim_carrier = pd.read_excel(excel_file, sheet_name='dim_carrier')\n",
    "dim_country = pd.read_excel(excel_file, sheet_name='dim_country')"
   ]
  },
  {
   "cell_type": "markdown",
   "metadata": {},
   "source": [
    "Here we check if everything was imported correctly."
   ]
  },
  {
   "cell_type": "code",
   "execution_count": null,
   "metadata": {},
   "outputs": [],
   "source": [
    "# Print dimensions of each table for verification\n",
    "print(\"Initial table dimensions:\")\n",
    "print(f\"Fact Shipment: {fact_shipment.shape}\")\n",
    "print(f\"Customer: {dim_customer.shape}\")\n",
    "print(f\"Delivery Address: {dim_delivery_address.shape}\")\n",
    "print(f\"Pickup Address: {dim_pickup_address.shape}\")\n",
    "print(f\"Date: {dim_date.shape}\")\n",
    "print(f\"Service: {dim_service.shape}\")\n",
    "print(f\"Carrier: {dim_carrier.shape}\")\n",
    "print(f\"Country: {dim_country.shape}\\n\")"
   ]
  },
  {
   "cell_type": "markdown",
   "metadata": {},
   "source": [
    "### Some preprocessing"
   ]
  },
  {
   "cell_type": "markdown",
   "metadata": {},
   "source": [
    "Since the name column will have to be renamed each time for clarity, we do it to the original dimension of country."
   ]
  },
  {
   "cell_type": "code",
   "execution_count": null,
   "metadata": {},
   "outputs": [],
   "source": [
    "dim_country = dim_country.rename(columns={'name': 'name_country'})"
   ]
  },
  {
   "cell_type": "code",
   "execution_count": null,
   "metadata": {},
   "outputs": [],
   "source": [
    "dim_country.columns"
   ]
  },
  {
   "cell_type": "markdown",
   "metadata": {},
   "source": [
    "### Shipment and customer merging"
   ]
  },
  {
   "cell_type": "markdown",
   "metadata": {},
   "source": [
    "In this section we merge together the shipment and customer columns."
   ]
  },
  {
   "cell_type": "code",
   "execution_count": null,
   "metadata": {},
   "outputs": [],
   "source": [
    "# We check the columns of both tables as reference\n",
    "print(f\"Shipment columns: {fact_shipment.columns}\")\n",
    "print(f\"customer columns: {dim_customer.columns}\")"
   ]
  },
  {
   "cell_type": "markdown",
   "metadata": {},
   "source": [
    "Here we rename the customer columns before merging the tables. Renaming the columns on merge can lead to some misunderstandings and errors, so we prefer doing it beforehand."
   ]
  },
  {
   "cell_type": "code",
   "execution_count": null,
   "metadata": {},
   "outputs": [],
   "source": [
    "# Here we create a dictionary to rename all customer columns except customer_id\n",
    "customer_rename = {\n",
    "    col: f\"{col}_customer\" \n",
    "    for col in dim_customer.columns \n",
    "    if col != 'customer_id'\n",
    "}\n",
    "\n",
    "# Here we rename the customer columns\n",
    "dim_customer_renamed = dim_customer.copy()\n",
    "dim_customer_renamed = dim_customer_renamed.rename(columns=customer_rename)\n",
    "\n",
    "# Here we merge it with fact_shipment\n",
    "df = fact_shipment.merge(\n",
    "    dim_customer_renamed,\n",
    "    on='customer_id',\n",
    "    how='left'\n",
    ")\n",
    "\n",
    "print(f\"Shape after customer merge: {df.shape}\\n\")"
   ]
  },
  {
   "cell_type": "markdown",
   "metadata": {},
   "source": [
    "Here we check if everything went accordingly."
   ]
  },
  {
   "cell_type": "code",
   "execution_count": null,
   "metadata": {},
   "outputs": [],
   "source": [
    "df.columns"
   ]
  },
  {
   "cell_type": "markdown",
   "metadata": {},
   "source": [
    "### Delivery, country and shipment mergin"
   ]
  },
  {
   "cell_type": "markdown",
   "metadata": {},
   "source": [
    "In this section we merge together the delivery and country dimensions, after which we merge the resulting table with the shipment one. We don't want to do all of them in a single chain of merges because of some naming issues that can occur."
   ]
  },
  {
   "cell_type": "code",
   "execution_count": null,
   "metadata": {},
   "outputs": [],
   "source": [
    "# Here we print the country and delivery columns to have as reference\n",
    "print(f\"Country columns: {dim_country.columns}\")\n",
    "print(f\"Delivery columns: {dim_delivery_address.columns}\")"
   ]
  },
  {
   "cell_type": "markdown",
   "metadata": {},
   "source": [
    "As the first step, we merge delivery address with country."
   ]
  },
  {
   "cell_type": "code",
   "execution_count": null,
   "metadata": {},
   "outputs": [],
   "source": [
    "# Here we merge the delivery address with country\n",
    "delivery_with_country = dim_delivery_address.merge(\n",
    "    dim_country,\n",
    "    on='country_id',\n",
    "    how='left'\n",
    ")\n",
    "\n",
    "# Here we drop 'country_id' since it's not needed\n",
    "delivery_with_country = delivery_with_country.drop('country_id', axis=1)"
   ]
  },
  {
   "cell_type": "code",
   "execution_count": null,
   "metadata": {},
   "outputs": [],
   "source": [
    "# We check if everything went accordingly\n",
    "delivery_with_country.columns"
   ]
  },
  {
   "cell_type": "markdown",
   "metadata": {},
   "source": [
    "In this step we rename the relevant columns."
   ]
  },
  {
   "cell_type": "code",
   "execution_count": null,
   "metadata": {},
   "outputs": [],
   "source": [
    "# Here we create a dictionary to rename all columns except delivery_address_id for the same reasons as in the above section\n",
    "delivery_rename = {\n",
    "    col: f\"{col}_delivery\" \n",
    "    for col in delivery_with_country.columns \n",
    "    if col != 'delivery_address_id'\n",
    "}\n",
    "\n",
    "# Here we rename the columns\n",
    "delivery_with_country = delivery_with_country.rename(columns=delivery_rename)"
   ]
  },
  {
   "cell_type": "markdown",
   "metadata": {},
   "source": [
    "Here we merge the merged table with shipment."
   ]
  },
  {
   "cell_type": "code",
   "execution_count": null,
   "metadata": {},
   "outputs": [],
   "source": [
    "df = df.merge(\n",
    "    delivery_with_country,\n",
    "    on='delivery_address_id',\n",
    "    how='left'\n",
    ")\n",
    "\n",
    "# Here we drop 'delivery_address_id' since it's not needed anymore\n",
    "df = df.drop('delivery_address_id', axis=1)\n",
    "\n",
    "print(f\"Shape after delivery address merges: {df.shape}\\n\")"
   ]
  },
  {
   "cell_type": "markdown",
   "metadata": {},
   "source": [
    "### Pickup, country and df merge"
   ]
  },
  {
   "cell_type": "markdown",
   "metadata": {},
   "source": [
    "In this section, as in the previous, we merge the pickup and country dimensions first, then the resulting one with the shipment table."
   ]
  },
  {
   "cell_type": "code",
   "execution_count": null,
   "metadata": {},
   "outputs": [],
   "source": [
    "# Here we check the columns\n",
    "print(f\"Country columns: {dim_country.columns}\")\n",
    "print(f\"Pickup columns: {dim_pickup_address.columns}\")"
   ]
  },
  {
   "cell_type": "markdown",
   "metadata": {},
   "source": [
    "As the first step we merge the country with the pickup dimension"
   ]
  },
  {
   "cell_type": "code",
   "execution_count": null,
   "metadata": {},
   "outputs": [],
   "source": [
    "pickup_with_country = dim_pickup_address.merge(\n",
    "    dim_country,\n",
    "    on='country_id',\n",
    "    how='left'\n",
    ")\n",
    "\n",
    "# Here we drop the country ID\n",
    "pickup_with_country = pickup_with_country.drop('country_id', axis=1)"
   ]
  },
  {
   "cell_type": "code",
   "execution_count": null,
   "metadata": {},
   "outputs": [],
   "source": [
    "pickup_with_country.columns"
   ]
  },
  {
   "cell_type": "markdown",
   "metadata": {},
   "source": [
    "Next, we create a dictionary in order to change the column names"
   ]
  },
  {
   "cell_type": "code",
   "execution_count": null,
   "metadata": {},
   "outputs": [],
   "source": [
    "pickup_rename = {\n",
    "    col: f\"{col}_pickup\" \n",
    "    for col in pickup_with_country.columns \n",
    "    if col != 'pickup_address_id'\n",
    "}\n",
    "\n",
    "# Here we rename the columns\n",
    "pickup_with_country = pickup_with_country.rename(columns=pickup_rename)\n"
   ]
  },
  {
   "cell_type": "code",
   "execution_count": null,
   "metadata": {},
   "outputs": [],
   "source": [
    "print(pickup_with_country.columns)"
   ]
  },
  {
   "cell_type": "markdown",
   "metadata": {},
   "source": [
    "At last, we merge the created table with the shipment table."
   ]
  },
  {
   "cell_type": "code",
   "execution_count": null,
   "metadata": {},
   "outputs": [],
   "source": [
    "df = df.merge(\n",
    "    pickup_with_country,\n",
    "    on='pickup_address_id',\n",
    "    how='left'\n",
    ")\n",
    "\n",
    "# Here we drop the pickup address as it's not needed\n",
    "df = df.drop('pickup_address_id', axis=1)\n",
    "print(f\"Shape after delivery address merges: {df.shape}\\n\")"
   ]
  },
  {
   "cell_type": "code",
   "execution_count": null,
   "metadata": {},
   "outputs": [],
   "source": [
    "df.columns"
   ]
  },
  {
   "cell_type": "markdown",
   "metadata": {},
   "source": [
    "### Service and carrier dimensions merging"
   ]
  },
  {
   "cell_type": "markdown",
   "metadata": {},
   "source": [
    "In this section we are going to merge the service and carrier dimensions, and the resulting table in the shipment dimension."
   ]
  },
  {
   "cell_type": "code",
   "execution_count": null,
   "metadata": {},
   "outputs": [],
   "source": [
    "# Here we check the columns\n",
    "print(f\"Service columns: {dim_service.columns}\")\n",
    "print(f\"carrier columns: {dim_carrier.columns}\")"
   ]
  },
  {
   "cell_type": "markdown",
   "metadata": {},
   "source": [
    "First, we rename the columns of the tables."
   ]
  },
  {
   "cell_type": "code",
   "execution_count": null,
   "metadata": {},
   "outputs": [],
   "source": [
    "# Here we rename the columns of carrier for clarity\n",
    "carrier_rename = {\n",
    "   col: f\"{col}_carrier\" \n",
    "   for col in dim_carrier.columns \n",
    "   if col != 'carrier_id'\n",
    "}\n",
    "\n",
    "dim_carrier = dim_carrier.rename(columns=carrier_rename)"
   ]
  },
  {
   "cell_type": "code",
   "execution_count": null,
   "metadata": {},
   "outputs": [],
   "source": [
    "# Here we do the same for the service\n",
    "service_rename = {\n",
    "   col: f\"{col}_service\" \n",
    "   for col in dim_service.columns \n",
    "   if col not in ['service_id', 'service_type', 'transport_type', 'carrier_id']\n",
    "}\n",
    "\n",
    "dim_service = dim_service.rename(columns=service_rename)"
   ]
  },
  {
   "cell_type": "markdown",
   "metadata": {},
   "source": [
    "Now we can merge the carrier table into the service table"
   ]
  },
  {
   "cell_type": "code",
   "execution_count": null,
   "metadata": {},
   "outputs": [],
   "source": [
    "service_carrier = dim_service.merge(\n",
    "   dim_carrier,\n",
    "   on='carrier_id',\n",
    "   how='left'\n",
    ")\n",
    "\n",
    "# Here we drop 'carrier_id' as it's not needed\n",
    "service_carrier = service_carrier.drop('carrier_id', axis=1)"
   ]
  },
  {
   "cell_type": "markdown",
   "metadata": {},
   "source": [
    "At last, we merge the resulting table into the shipment table."
   ]
  },
  {
   "cell_type": "code",
   "execution_count": null,
   "metadata": {},
   "outputs": [],
   "source": [
    "df = df.merge(\n",
    "   service_carrier,\n",
    "   on='service_id',\n",
    "   how='left'\n",
    ")\n",
    "\n",
    "# Here we drop 'service_id'\n",
    "df = df.drop('service_id', axis=1)\n",
    "\n",
    "print(f\"Shape after service and carrier merges: {df.shape}\\n\")"
   ]
  },
  {
   "cell_type": "markdown",
   "metadata": {},
   "source": [
    "### Date dimensions merging"
   ]
  },
  {
   "cell_type": "markdown",
   "metadata": {},
   "source": [
    "In this section we merge the date dimension into the different columns of shipment table."
   ]
  },
  {
   "cell_type": "code",
   "execution_count": null,
   "metadata": {},
   "outputs": [],
   "source": [
    "# Here we review the columns\n",
    "print(dim_date.columns)"
   ]
  },
  {
   "cell_type": "code",
   "execution_count": null,
   "metadata": {},
   "outputs": [],
   "source": [
    "# In this for loop, for each date we merge the date dimensions with it\n",
    "for date_type in ['created_date', 'pickup_date', 'delivery_date', 'real_pickup_date', 'real_delivery_date']:\n",
    "    date_id_col = f'{date_type}_id'\n",
    "    if date_id_col in df.columns:\n",
    "        df = df.merge(\n",
    "            dim_date,\n",
    "            left_on=date_id_col,\n",
    "            right_on='date_id',\n",
    "            how='left',\n",
    "            suffixes=('', f'_{date_type}')\n",
    "        )\n",
    "        # Here we rename the date columns to avoid confusion\n",
    "        df = df.rename(columns={\n",
    "            'year': f'year_{date_type}',\n",
    "            'month': f'month_{date_type}',\n",
    "            'quarter': f'quarter_{date_type}',\n",
    "            'full_date': f'full_date_{date_type}'\n",
    "        })\n",
    "        \n",
    "print(f\"Shape after date merges: {df.shape}\\n\")"
   ]
  },
  {
   "cell_type": "code",
   "execution_count": null,
   "metadata": {},
   "outputs": [],
   "source": [
    "# Here we check the result\n",
    "print(df.columns)"
   ]
  },
  {
   "cell_type": "code",
   "execution_count": null,
   "metadata": {},
   "outputs": [],
   "source": [
    "# Here we remove the id columns that aren't needed anymore\n",
    "columns_to_drop = [\n",
    "    'date_id',\n",
    "    'created_date_id', 'pickup_date_id', 'delivery_date_id',\n",
    "    'real_pickup_date_id', 'real_delivery_date_id',\n",
    "    'date_id_pickup_date', 'date_id_delivery_date', \n",
    "    'date_id_real_pickup_date', 'date_id_real_delivery_date'\n",
    "]\n",
    "\n",
    "df = df.drop(columns=columns_to_drop, errors='ignore')"
   ]
  },
  {
   "cell_type": "code",
   "execution_count": null,
   "metadata": {},
   "outputs": [],
   "source": [
    "print(df.columns)"
   ]
  },
  {
   "cell_type": "markdown",
   "metadata": {},
   "source": [
    "### Saving the dataset"
   ]
  },
  {
   "cell_type": "markdown",
   "metadata": {},
   "source": [
    "In this section we save the processed dataframe"
   ]
  },
  {
   "cell_type": "code",
   "execution_count": null,
   "metadata": {},
   "outputs": [],
   "source": [
    "output_file = '../../../00-Project/datasets/flattened_dataset.csv'\n",
    "\n",
    "# Save to CSV\n",
    "df.to_csv(output_file, index=False)"
   ]
  }
 ],
 "metadata": {
  "kernelspec": {
   "display_name": "Python 3",
   "language": "python",
   "name": "python3"
  },
  "language_info": {
   "codemirror_mode": {
    "name": "ipython",
    "version": 3
   },
   "file_extension": ".py",
   "mimetype": "text/x-python",
   "name": "python",
   "nbconvert_exporter": "python",
   "pygments_lexer": "ipython3",
   "version": "3.13.0"
  }
 },
 "nbformat": 4,
 "nbformat_minor": 2
}
