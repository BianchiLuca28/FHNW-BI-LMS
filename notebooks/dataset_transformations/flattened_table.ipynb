{
 "cells": [
  {
   "cell_type": "code",
   "execution_count": 1,
   "metadata": {},
   "outputs": [],
   "source": [
    "# Import required libraries\n",
    "import pandas as pd\n",
    "import numpy as np"
   ]
  },
  {
   "cell_type": "code",
   "execution_count": 2,
   "metadata": {},
   "outputs": [],
   "source": [
    "# Load all tables from the Excel file\n",
    "excel_file = '../datasets/star_schema_dataset.xlsx'"
   ]
  },
  {
   "cell_type": "code",
   "execution_count": 3,
   "metadata": {},
   "outputs": [],
   "source": [
    "# Read fact and dimension tables\n",
    "fact_shipment = pd.read_excel(excel_file, sheet_name='fact_shipment')\n",
    "dim_customer = pd.read_excel(excel_file, sheet_name='dim_customer')\n",
    "dim_delivery_address = pd.read_excel(excel_file, sheet_name='dim_delivery_address')\n",
    "dim_pickup_address = pd.read_excel(excel_file, sheet_name='dim_pickup_address')\n",
    "dim_date = pd.read_excel(excel_file, sheet_name='dim_date')\n",
    "dim_service = pd.read_excel(excel_file, sheet_name='dim_service')\n",
    "dim_carrier = pd.read_excel(excel_file, sheet_name='dim_carrier')\n",
    "dim_country = pd.read_excel(excel_file, sheet_name='dim_country')"
   ]
  },
  {
   "cell_type": "code",
   "execution_count": 4,
   "metadata": {},
   "outputs": [
    {
     "name": "stdout",
     "output_type": "stream",
     "text": [
      "Initial table dimensions:\n",
      "Fact Shipment: (656802, 21)\n",
      "Customer: (7935, 10)\n",
      "Delivery Address: (712272, 6)\n",
      "Pickup Address: (712272, 6)\n",
      "Date: (617, 5)\n",
      "Service: (2119, 7)\n",
      "Carrier: (237, 4)\n",
      "Country: (200, 5)\n",
      "\n"
     ]
    }
   ],
   "source": [
    "# Print dimensions of each table for verification\n",
    "print(\"Initial table dimensions:\")\n",
    "print(f\"Fact Shipment: {fact_shipment.shape}\")\n",
    "print(f\"Customer: {dim_customer.shape}\")\n",
    "print(f\"Delivery Address: {dim_delivery_address.shape}\")\n",
    "print(f\"Pickup Address: {dim_pickup_address.shape}\")\n",
    "print(f\"Date: {dim_date.shape}\")\n",
    "print(f\"Service: {dim_service.shape}\")\n",
    "print(f\"Carrier: {dim_carrier.shape}\")\n",
    "print(f\"Country: {dim_country.shape}\\n\")"
   ]
  },
  {
   "cell_type": "code",
   "execution_count": 5,
   "metadata": {},
   "outputs": [
    {
     "name": "stdout",
     "output_type": "stream",
     "text": [
      "Merging customer dimension...\n",
      "Shape after customer merge: (656802, 30)\n",
      "\n"
     ]
    }
   ],
   "source": [
    "# Start with customer dimension\n",
    "print(\"Merging customer dimension...\")\n",
    "df = fact_shipment.merge(\n",
    "    dim_customer,\n",
    "    on='customer_id',\n",
    "    how='left',\n",
    "    suffixes=('', '_customer')\n",
    ")\n",
    "print(f\"Shape after customer merge: {df.shape}\\n\")"
   ]
  },
  {
   "cell_type": "code",
   "execution_count": 6,
   "metadata": {},
   "outputs": [
    {
     "name": "stdout",
     "output_type": "stream",
     "text": [
      "Merging delivery address and its country...\n",
      "Shape after delivery address merges: (656802, 39)\n",
      "\n"
     ]
    }
   ],
   "source": [
    "# Merge delivery address and its country\n",
    "print(\"Merging delivery address and its country...\")\n",
    "df = df.merge(\n",
    "    dim_delivery_address,\n",
    "    on='delivery_address_id',\n",
    "    how='left',\n",
    "    suffixes=('', '_delivery')\n",
    ").merge(\n",
    "    dim_country,\n",
    "    left_on='country_id',\n",
    "    right_on='country_id',\n",
    "    how='left',\n",
    "    suffixes=('_delivery', '_delivery_country')\n",
    ")\n",
    "print(f\"Shape after delivery address merges: {df.shape}\\n\")"
   ]
  },
  {
   "cell_type": "code",
   "execution_count": 7,
   "metadata": {},
   "outputs": [
    {
     "name": "stdout",
     "output_type": "stream",
     "text": [
      "Merging pickup address and its country...\n",
      "Shape after pickup address merges: (656802, 48)\n",
      "\n"
     ]
    }
   ],
   "source": [
    "# Merge pickup address and its country\n",
    "print(\"Merging pickup address and its country...\")\n",
    "df = df.merge(\n",
    "    dim_pickup_address,\n",
    "    on='pickup_address_id',\n",
    "    how='left',\n",
    "    suffixes=('', '_pickup')\n",
    ").merge(\n",
    "    dim_country,\n",
    "    left_on='country_id',\n",
    "    right_on='country_id',\n",
    "    how='left',\n",
    "    suffixes=('_pickup', '_pickup_country')\n",
    ")\n",
    "print(f\"Shape after pickup address merges: {df.shape}\\n\")"
   ]
  },
  {
   "cell_type": "code",
   "execution_count": 8,
   "metadata": {},
   "outputs": [
    {
     "name": "stdout",
     "output_type": "stream",
     "text": [
      "Merging service and carrier dimensions...\n",
      "Shape after service and carrier merges: (656802, 57)\n",
      "\n"
     ]
    }
   ],
   "source": [
    "# Merge service and carrier dimensions\n",
    "print(\"Merging service and carrier dimensions...\")\n",
    "df = df.merge(\n",
    "    dim_service,\n",
    "    on='service_id',\n",
    "    how='left',\n",
    "    suffixes=('', '_service')\n",
    ").merge(\n",
    "    dim_carrier,\n",
    "    on='carrier_id',\n",
    "    how='left',\n",
    "    suffixes=('', '_carrier')\n",
    ")\n",
    "print(f\"Shape after service and carrier merges: {df.shape}\\n\")"
   ]
  },
  {
   "cell_type": "code",
   "execution_count": 9,
   "metadata": {},
   "outputs": [
    {
     "name": "stdout",
     "output_type": "stream",
     "text": [
      "Merging date dimensions...\n",
      "Shape after date merges: (656802, 82)\n",
      "\n"
     ]
    }
   ],
   "source": [
    "# Merge date dimensions\n",
    "print(\"Merging date dimensions...\")\n",
    "for date_type in ['created_date', 'pickup_date', 'delivery_date', 'real_pickup_date', 'real_delivery_date']:\n",
    "    date_id_col = f'{date_type}_id'\n",
    "    if date_id_col in df.columns:\n",
    "        df = df.merge(\n",
    "            dim_date,\n",
    "            left_on=date_id_col,\n",
    "            right_on='date_id',\n",
    "            how='left',\n",
    "            suffixes=('', f'_{date_type}')\n",
    "        )\n",
    "        # Rename date columns to avoid confusion\n",
    "        df = df.rename(columns={\n",
    "            'year': f'year_{date_type}',\n",
    "            'month': f'month_{date_type}',\n",
    "            'quarter': f'quarter_{date_type}',\n",
    "            'full_date': f'full_date_{date_type}'\n",
    "        })\n",
    "print(f\"Shape after date merges: {df.shape}\\n\")"
   ]
  },
  {
   "cell_type": "code",
   "execution_count": 10,
   "metadata": {},
   "outputs": [
    {
     "name": "stdout",
     "output_type": "stream",
     "text": [
      "Index(['shipment_id', 'customer_price', 'expected_carrier_price',\n",
      "       'final_carrier_price', 'weight', 'shipment_type', 'insurance_type',\n",
      "       'customer_id', 'pickup_address_id', 'delivery_address_id', 'service_id',\n",
      "       'domain_name', 'booking_state', 'lms_plus', 'exworks_id', 'margin',\n",
      "       'created_date_id', 'pickup_date_id', 'real_pickup_date_id',\n",
      "       'delivery_date_id', 'real_delivery_date_id', 'created_date',\n",
      "       'domain_name_customer', 'main_industry', 'all_industries',\n",
      "       'root_branch_id', 'segmentation', 'sequence_number', 'structure_number',\n",
      "       'is_master', 'created_date_delivery', 'domain_name_delivery',\n",
      "       'country_id', 'postal_code', 'city', 'name_pickup',\n",
      "       'iso_country_code_pickup', 'continent_pickup', 'EU_pickup',\n",
      "       'created_date_pickup', 'domain_name_pickup', 'country_id_pickup',\n",
      "       'postal_code_pickup', 'city_pickup', 'name_pickup_country',\n",
      "       'iso_country_code_pickup_country', 'continent_pickup_country',\n",
      "       'EU_pickup_country', 'created_date_service', 'name', 'service_type',\n",
      "       'transport_type', 'carrier_id', 'domain_name_service', 'name_carrier',\n",
      "       'created_date_carrier', 'domain_name_carrier', 'full_date_created_date',\n",
      "       'year_created_date', 'month_created_date', 'quarter_created_date',\n",
      "       'date_id', 'full_date_pickup_date', 'year_pickup_date',\n",
      "       'month_pickup_date', 'quarter_pickup_date', 'date_id_pickup_date',\n",
      "       'full_date_delivery_date', 'year_delivery_date', 'month_delivery_date',\n",
      "       'quarter_delivery_date', 'date_id_delivery_date',\n",
      "       'full_date_real_pickup_date', 'year_real_pickup_date',\n",
      "       'month_real_pickup_date', 'quarter_real_pickup_date',\n",
      "       'date_id_real_pickup_date', 'full_date_real_delivery_date',\n",
      "       'year_real_delivery_date', 'month_real_delivery_date',\n",
      "       'quarter_real_delivery_date', 'date_id_real_delivery_date'],\n",
      "      dtype='object')\n"
     ]
    }
   ],
   "source": [
    "print(df.columns)"
   ]
  },
  {
   "cell_type": "code",
   "execution_count": 11,
   "metadata": {},
   "outputs": [],
   "source": [
    "# Remove only true ID columns that aren't needed for analysis\n",
    "columns_to_drop = [\n",
    "    'pickup_address_id', 'delivery_address_id', \n",
    "    'service_id', 'carrier_id', 'country_id', 'country_id_pickup', 'date_id',\n",
    "    'exworks_id', 'created_date_id', 'pickup_date_id', 'delivery_date_id',\n",
    "    'real_pickup_date_id', 'real_delivery_date_id',\n",
    "    'date_id_pickup_date', 'date_id_delivery_date', \n",
    "    'date_id_real_pickup_date', 'date_id_real_delivery_date'\n",
    "]\n",
    "\n",
    "# Drop ID columns\n",
    "df = df.drop(columns=columns_to_drop, errors='ignore')"
   ]
  },
  {
   "cell_type": "code",
   "execution_count": 12,
   "metadata": {},
   "outputs": [
    {
     "name": "stdout",
     "output_type": "stream",
     "text": [
      "Index(['shipment_id', 'customer_price', 'expected_carrier_price',\n",
      "       'final_carrier_price', 'weight', 'shipment_type', 'insurance_type',\n",
      "       'customer_id', 'domain_name', 'booking_state', 'lms_plus', 'margin',\n",
      "       'created_date', 'domain_name_customer', 'main_industry',\n",
      "       'all_industries', 'root_branch_id', 'segmentation', 'sequence_number',\n",
      "       'structure_number', 'is_master', 'created_date_delivery',\n",
      "       'domain_name_delivery', 'postal_code', 'city', 'name_pickup',\n",
      "       'iso_country_code_pickup', 'continent_pickup', 'EU_pickup',\n",
      "       'created_date_pickup', 'domain_name_pickup', 'postal_code_pickup',\n",
      "       'city_pickup', 'name_pickup_country', 'iso_country_code_pickup_country',\n",
      "       'continent_pickup_country', 'EU_pickup_country', 'created_date_service',\n",
      "       'name', 'service_type', 'transport_type', 'domain_name_service',\n",
      "       'name_carrier', 'created_date_carrier', 'domain_name_carrier',\n",
      "       'full_date_created_date', 'year_created_date', 'month_created_date',\n",
      "       'quarter_created_date', 'full_date_pickup_date', 'year_pickup_date',\n",
      "       'month_pickup_date', 'quarter_pickup_date', 'full_date_delivery_date',\n",
      "       'year_delivery_date', 'month_delivery_date', 'quarter_delivery_date',\n",
      "       'full_date_real_pickup_date', 'year_real_pickup_date',\n",
      "       'month_real_pickup_date', 'quarter_real_pickup_date',\n",
      "       'full_date_real_delivery_date', 'year_real_delivery_date',\n",
      "       'month_real_delivery_date', 'quarter_real_delivery_date'],\n",
      "      dtype='object')\n"
     ]
    }
   ],
   "source": [
    "print(df.columns)"
   ]
  },
  {
   "cell_type": "code",
   "execution_count": 13,
   "metadata": {},
   "outputs": [],
   "source": [
    "# Rename columns for clarity while preserving distinct information\n",
    "column_renames = {\n",
    "    'postal_code': 'delivery_postal_code',\n",
    "    'postal_code_pickup': 'pickup_postal_code',\n",
    "    'city': 'delivery_city',\n",
    "    'city_pickup': 'pickup_city',\n",
    "    'name': 'service_name',\n",
    "    'name_carrier': 'carrier_name'\n",
    "}\n",
    "\n",
    "df = df.rename(columns=column_renames)"
   ]
  },
  {
   "cell_type": "code",
   "execution_count": 14,
   "metadata": {},
   "outputs": [
    {
     "name": "stdout",
     "output_type": "stream",
     "text": [
      "Index(['shipment_id', 'customer_price', 'expected_carrier_price',\n",
      "       'final_carrier_price', 'weight', 'shipment_type', 'insurance_type',\n",
      "       'customer_id', 'domain_name', 'booking_state', 'lms_plus', 'margin',\n",
      "       'created_date', 'domain_name_customer', 'main_industry',\n",
      "       'all_industries', 'root_branch_id', 'segmentation', 'sequence_number',\n",
      "       'structure_number', 'is_master', 'created_date_delivery',\n",
      "       'domain_name_delivery', 'delivery_postal_code', 'delivery_city',\n",
      "       'name_pickup', 'iso_country_code_pickup', 'continent_pickup',\n",
      "       'EU_pickup', 'created_date_pickup', 'domain_name_pickup',\n",
      "       'pickup_postal_code', 'pickup_city', 'name_pickup_country',\n",
      "       'iso_country_code_pickup_country', 'continent_pickup_country',\n",
      "       'EU_pickup_country', 'created_date_service', 'service_name',\n",
      "       'service_type', 'transport_type', 'domain_name_service', 'carrier_name',\n",
      "       'created_date_carrier', 'domain_name_carrier', 'full_date_created_date',\n",
      "       'year_created_date', 'month_created_date', 'quarter_created_date',\n",
      "       'full_date_pickup_date', 'year_pickup_date', 'month_pickup_date',\n",
      "       'quarter_pickup_date', 'full_date_delivery_date', 'year_delivery_date',\n",
      "       'month_delivery_date', 'quarter_delivery_date',\n",
      "       'full_date_real_pickup_date', 'year_real_pickup_date',\n",
      "       'month_real_pickup_date', 'quarter_real_pickup_date',\n",
      "       'full_date_real_delivery_date', 'year_real_delivery_date',\n",
      "       'month_real_delivery_date', 'quarter_real_delivery_date'],\n",
      "      dtype='object')\n"
     ]
    }
   ],
   "source": [
    "print(df.columns)"
   ]
  },
  {
   "cell_type": "code",
   "execution_count": 15,
   "metadata": {},
   "outputs": [],
   "source": [
    "# Remove any remaining duplicate columns (if any exist)\n",
    "df = df.loc[:, ~df.columns.duplicated()]"
   ]
  },
  {
   "cell_type": "code",
   "execution_count": 16,
   "metadata": {},
   "outputs": [
    {
     "name": "stdout",
     "output_type": "stream",
     "text": [
      "Final columns after cleanup:\n",
      "Index(['shipment_id', 'customer_price', 'expected_carrier_price',\n",
      "       'final_carrier_price', 'weight', 'shipment_type', 'insurance_type',\n",
      "       'customer_id', 'domain_name', 'booking_state', 'lms_plus', 'margin',\n",
      "       'created_date', 'domain_name_customer', 'main_industry',\n",
      "       'all_industries', 'root_branch_id', 'segmentation', 'sequence_number',\n",
      "       'structure_number', 'is_master', 'created_date_delivery',\n",
      "       'domain_name_delivery', 'delivery_postal_code', 'delivery_city',\n",
      "       'name_pickup', 'iso_country_code_pickup', 'continent_pickup',\n",
      "       'EU_pickup', 'created_date_pickup', 'domain_name_pickup',\n",
      "       'pickup_postal_code', 'pickup_city', 'name_pickup_country',\n",
      "       'iso_country_code_pickup_country', 'continent_pickup_country',\n",
      "       'EU_pickup_country', 'created_date_service', 'service_name',\n",
      "       'service_type', 'transport_type', 'domain_name_service', 'carrier_name',\n",
      "       'created_date_carrier', 'domain_name_carrier', 'full_date_created_date',\n",
      "       'year_created_date', 'month_created_date', 'quarter_created_date',\n",
      "       'full_date_pickup_date', 'year_pickup_date', 'month_pickup_date',\n",
      "       'quarter_pickup_date', 'full_date_delivery_date', 'year_delivery_date',\n",
      "       'month_delivery_date', 'quarter_delivery_date',\n",
      "       'full_date_real_pickup_date', 'year_real_pickup_date',\n",
      "       'month_real_pickup_date', 'quarter_real_pickup_date',\n",
      "       'full_date_real_delivery_date', 'year_real_delivery_date',\n",
      "       'month_real_delivery_date', 'quarter_real_delivery_date'],\n",
      "      dtype='object')\n"
     ]
    }
   ],
   "source": [
    "print(\"Final columns after cleanup:\")\n",
    "print(df.columns)"
   ]
  },
  {
   "cell_type": "code",
   "execution_count": 17,
   "metadata": {},
   "outputs": [],
   "source": [
    "# Save the flattened dataset with proper formatting\n",
    "output_file = '../datasets/flattened_dataset.csv'\n",
    "\n",
    "# Save to CSV\n",
    "df.to_csv(output_file, index=False)"
   ]
  }
 ],
 "metadata": {
  "kernelspec": {
   "display_name": "Python 3",
   "language": "python",
   "name": "python3"
  },
  "language_info": {
   "codemirror_mode": {
    "name": "ipython",
    "version": 3
   },
   "file_extension": ".py",
   "mimetype": "text/x-python",
   "name": "python",
   "nbconvert_exporter": "python",
   "pygments_lexer": "ipython3",
   "version": "3.13.0"
  }
 },
 "nbformat": 4,
 "nbformat_minor": 2
}
